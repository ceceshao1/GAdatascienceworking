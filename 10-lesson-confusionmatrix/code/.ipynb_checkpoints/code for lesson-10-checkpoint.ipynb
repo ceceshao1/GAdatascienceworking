{
 "cells": [
  {
   "cell_type": "markdown",
   "metadata": {},
   "source": [
    "### Cost Benefit Questions\n",
    "\n",
    "1. How would you rephrase the business problem if your model was optimizing toward _precision_? i.e., How might the model behave differently, and what effect would it have?\n",
    "2. How would you rephrase the business problem if your model was optimizing toward _recall_?\n",
    "3. What would the most ideal model look like in this case?\n",
    "\n",
    "Answers:\n",
    "\n",
    "1. If this model where optimized toward precision, we'd be minimizing the number of false positives: users who are targeted in the campaign but are not retained.\n",
    "2. If this model where optimized toward recall, we'd be minimizing the number of false negatives, or making sure that users who could have retained, did.\n",
    "3. The model would be most optimized, at this point, towards recall, as there's the largest business gain."
   ]
  },
  {
   "cell_type": "markdown",
   "metadata": {},
   "source": [
    "### Visualizing models over variables"
   ]
  },
  {
   "cell_type": "code",
   "execution_count": 1,
   "metadata": {},
   "outputs": [
    {
     "name": "stdout",
     "output_type": "stream",
     "text": [
      "('raw_df shape:', (469968, 16))\n"
     ]
    }
   ],
   "source": [
    "import pandas as pd\n",
    "import sklearn.linear_model as lm\n",
    "import matplotlib.pyplot as plt\n",
    "import seaborn as sns\n",
    "%matplotlib inline\n",
    "\n",
    "raw_df = pd.read_csv('../assets/dataset/flight_delays.csv')\n",
    "print( \"raw_df shape:\", raw_df.shape)\n",
    "\n",
    "# shape (469968, 16) - 16 columns"
   ]
  },
  {
   "cell_type": "code",
   "execution_count": 2,
   "metadata": {
    "scrolled": false
   },
   "outputs": [
    {
     "data": {
      "text/plain": [
       "Unnamed: 15              469968\n",
       "DEP_DEL15                 11657\n",
       "DEP_TIME                  11657\n",
       "CRS_DEP_TIME                  0\n",
       "DEST_CITY_MARKET_ID           0\n",
       "DEST_AIRPORT_SEQ_ID           0\n",
       "DEST_AIRPORT_ID               0\n",
       "ORIGIN_CITY_MARKET_ID         0\n",
       "ORIGIN_AIRPORT_SEQ_ID         0\n",
       "ORIGIN_AIRPORT_ID             0\n",
       "CARRIER                       0\n",
       "AIRLINE_ID                    0\n",
       "UNIQUE_CARRIER                0\n",
       "FL_DATE                       0\n",
       "DAY_OF_WEEK                   0\n",
       "DAY_OF_MONTH                  0\n",
       "dtype: int64"
      ]
     },
     "execution_count": 2,
     "metadata": {},
     "output_type": "execute_result"
    }
   ],
   "source": [
    "#check for null values \n",
    "raw_df.isnull().sum().sort_values(ascending=False)\n",
    "\n",
    "# see some weird unnamed column and two other columns with 11+ missing rows"
   ]
  },
  {
   "cell_type": "markdown",
   "metadata": {},
   "source": [
    "## Let's get rid of some null values!:\n",
    "* DEP_TIME and DEP_DEL15 have 11,657 missing values\n",
    "* Instead of dropping the null rows, we can just filter them out and save the filtered results to a new dataframe:df"
   ]
  },
  {
   "cell_type": "code",
   "execution_count": 3,
   "metadata": {},
   "outputs": [
    {
     "name": "stdout",
     "output_type": "stream",
     "text": [
      "raw_df shape: (469968, 16)\n",
      "df shape:     (458311, 16)\n"
     ]
    }
   ],
   "source": [
    "# The copy below chained to .notnull() makes a copy of the dataframe filtered to the non-null rows of raw_df:\n",
    "print(\"raw_df shape: {}\".format(raw_df.shape))\n",
    "# only filtering out DEP_DEL15 because turns out there's a 1:1 match for DEP_TIME and DEP_DEL15 rows \n",
    "df = raw_df.loc[raw_df.DEP_DEL15.notnull()].copy()\n",
    "print(\"df shape:     {}\".format(df.shape))"
   ]
  },
  {
   "cell_type": "markdown",
   "metadata": {},
   "source": [
    "* `\"Unnamed: 15 \"` still has 458,311 null values that we need to address."
   ]
  },
  {
   "cell_type": "markdown",
   "metadata": {},
   "source": [
    "## Fun with dataframe filtering!\n",
    "* Here are some good filtering tricks that you want learn to use in different, tricky situations"
   ]
  },
  {
   "cell_type": "markdown",
   "metadata": {},
   "source": [
    "### 1. Quick check for nulls without seeing all the columns that have zero null values (good for data with tons of features):"
   ]
  },
  {
   "cell_type": "code",
   "execution_count": 4,
   "metadata": {},
   "outputs": [
    {
     "data": {
      "text/plain": [
       "Unnamed: 15    458311\n",
       "dtype: int64"
      ]
     },
     "execution_count": 4,
     "metadata": {},
     "output_type": "execute_result"
    }
   ],
   "source": [
    "# Filter the dataframe to output any columns where null counts not equal to zero\n",
    "df.isnull().sum()[df.isnull().sum() != 0]"
   ]
  },
  {
   "cell_type": "markdown",
   "metadata": {},
   "source": [
    "### 2. An alternative way of dropping columns instead of using `df.drop()` - filter by column name using `'~'` :\n",
    "* `.loc[:, cols]` is the basic syntax we're after, with ':' referring to 'all rows'\n",
    "* `~df.columns.str.contains('^Unnamed')` is a boolean for all columns that don't mean the criteria given\n",
    "* `str.contains('^Unnamed')` is an expression from the 'regex' world that we'll use in natural language processing."
   ]
  },
  {
   "cell_type": "code",
   "execution_count": 5,
   "metadata": {
    "collapsed": true
   },
   "outputs": [],
   "source": [
    "# Assign to df all rows in df but just the columns that do not contain \"Unnamed\" in the column name:\n",
    "df = df.loc[:, ~df.columns.str.contains('^Unnamed')]"
   ]
  },
  {
   "cell_type": "markdown",
   "metadata": {},
   "source": [
    "Check to make sure the dataframe was filtered correclty: df"
   ]
  },
  {
   "cell_type": "code",
   "execution_count": 8,
   "metadata": {},
   "outputs": [
    {
     "name": "stdout",
     "output_type": "stream",
     "text": [
      "False\n"
     ]
    }
   ],
   "source": [
    "# confirm that the weird Unnamed column is no longer in the df\n",
    "print('Unnamed: 15' in df.columns)"
   ]
  },
  {
   "cell_type": "code",
   "execution_count": 9,
   "metadata": {},
   "outputs": [
    {
     "data": {
      "text/plain": [
       "Series([], dtype: int64)"
      ]
     },
     "execution_count": 9,
     "metadata": {},
     "output_type": "execute_result"
    }
   ],
   "source": [
    "# checking same way as Step 1 above\n",
    "df.isnull().sum()[df.isnull().sum() != 0]"
   ]
  },
  {
   "cell_type": "code",
   "execution_count": 7,
   "metadata": {},
   "outputs": [
    {
     "data": {
      "text/plain": [
       "DAY_OF_MONTH             0\n",
       "DAY_OF_WEEK              0\n",
       "FL_DATE                  0\n",
       "UNIQUE_CARRIER           0\n",
       "AIRLINE_ID               0\n",
       "CARRIER                  0\n",
       "ORIGIN_AIRPORT_ID        0\n",
       "ORIGIN_AIRPORT_SEQ_ID    0\n",
       "ORIGIN_CITY_MARKET_ID    0\n",
       "DEST_AIRPORT_ID          0\n",
       "DEST_AIRPORT_SEQ_ID      0\n",
       "DEST_CITY_MARKET_ID      0\n",
       "CRS_DEP_TIME             0\n",
       "DEP_TIME                 0\n",
       "DEP_DEL15                0\n",
       "dtype: int64"
      ]
     },
     "execution_count": 7,
     "metadata": {},
     "output_type": "execute_result"
    }
   ],
   "source": [
    "df.isnull().sum()"
   ]
  },
  {
   "cell_type": "code",
   "execution_count": 10,
   "metadata": {
    "scrolled": true
   },
   "outputs": [
    {
     "data": {
      "text/html": [
       "<div>\n",
       "<style>\n",
       "    .dataframe thead tr:only-child th {\n",
       "        text-align: right;\n",
       "    }\n",
       "\n",
       "    .dataframe thead th {\n",
       "        text-align: left;\n",
       "    }\n",
       "\n",
       "    .dataframe tbody tr th {\n",
       "        vertical-align: top;\n",
       "    }\n",
       "</style>\n",
       "<table border=\"1\" class=\"dataframe\">\n",
       "  <thead>\n",
       "    <tr style=\"text-align: right;\">\n",
       "      <th></th>\n",
       "      <th>DAY_OF_MONTH</th>\n",
       "      <th>DAY_OF_WEEK</th>\n",
       "      <th>FL_DATE</th>\n",
       "      <th>UNIQUE_CARRIER</th>\n",
       "      <th>AIRLINE_ID</th>\n",
       "      <th>CARRIER</th>\n",
       "      <th>ORIGIN_AIRPORT_ID</th>\n",
       "      <th>ORIGIN_AIRPORT_SEQ_ID</th>\n",
       "      <th>ORIGIN_CITY_MARKET_ID</th>\n",
       "      <th>DEST_AIRPORT_ID</th>\n",
       "      <th>DEST_AIRPORT_SEQ_ID</th>\n",
       "      <th>DEST_CITY_MARKET_ID</th>\n",
       "      <th>CRS_DEP_TIME</th>\n",
       "      <th>DEP_TIME</th>\n",
       "      <th>DEP_DEL15</th>\n",
       "    </tr>\n",
       "  </thead>\n",
       "  <tbody>\n",
       "    <tr>\n",
       "      <th>0</th>\n",
       "      <td>1</td>\n",
       "      <td>4</td>\n",
       "      <td>2015-01-01</td>\n",
       "      <td>AA</td>\n",
       "      <td>19805</td>\n",
       "      <td>AA</td>\n",
       "      <td>12478</td>\n",
       "      <td>1247802</td>\n",
       "      <td>31703</td>\n",
       "      <td>12892</td>\n",
       "      <td>1289203</td>\n",
       "      <td>32575</td>\n",
       "      <td>900</td>\n",
       "      <td>855.0</td>\n",
       "      <td>0.0</td>\n",
       "    </tr>\n",
       "    <tr>\n",
       "      <th>1</th>\n",
       "      <td>1</td>\n",
       "      <td>4</td>\n",
       "      <td>2015-01-01</td>\n",
       "      <td>AA</td>\n",
       "      <td>19805</td>\n",
       "      <td>AA</td>\n",
       "      <td>12892</td>\n",
       "      <td>1289203</td>\n",
       "      <td>32575</td>\n",
       "      <td>12478</td>\n",
       "      <td>1247802</td>\n",
       "      <td>31703</td>\n",
       "      <td>900</td>\n",
       "      <td>856.0</td>\n",
       "      <td>0.0</td>\n",
       "    </tr>\n",
       "    <tr>\n",
       "      <th>2</th>\n",
       "      <td>1</td>\n",
       "      <td>4</td>\n",
       "      <td>2015-01-01</td>\n",
       "      <td>AA</td>\n",
       "      <td>19805</td>\n",
       "      <td>AA</td>\n",
       "      <td>12478</td>\n",
       "      <td>1247802</td>\n",
       "      <td>31703</td>\n",
       "      <td>12892</td>\n",
       "      <td>1289203</td>\n",
       "      <td>32575</td>\n",
       "      <td>1230</td>\n",
       "      <td>1226.0</td>\n",
       "      <td>0.0</td>\n",
       "    </tr>\n",
       "  </tbody>\n",
       "</table>\n",
       "</div>"
      ],
      "text/plain": [
       "   DAY_OF_MONTH  DAY_OF_WEEK     FL_DATE UNIQUE_CARRIER  AIRLINE_ID CARRIER  \\\n",
       "0             1            4  2015-01-01             AA       19805      AA   \n",
       "1             1            4  2015-01-01             AA       19805      AA   \n",
       "2             1            4  2015-01-01             AA       19805      AA   \n",
       "\n",
       "   ORIGIN_AIRPORT_ID  ORIGIN_AIRPORT_SEQ_ID  ORIGIN_CITY_MARKET_ID  \\\n",
       "0              12478                1247802                  31703   \n",
       "1              12892                1289203                  32575   \n",
       "2              12478                1247802                  31703   \n",
       "\n",
       "   DEST_AIRPORT_ID  DEST_AIRPORT_SEQ_ID  DEST_CITY_MARKET_ID  CRS_DEP_TIME  \\\n",
       "0            12892              1289203                32575           900   \n",
       "1            12478              1247802                31703           900   \n",
       "2            12892              1289203                32575          1230   \n",
       "\n",
       "   DEP_TIME  DEP_DEL15  \n",
       "0     855.0        0.0  \n",
       "1     856.0        0.0  \n",
       "2    1226.0        0.0  "
      ]
     },
     "execution_count": 10,
     "metadata": {},
     "output_type": "execute_result"
    }
   ],
   "source": [
    "df.head(3)"
   ]
  },
  {
   "cell_type": "markdown",
   "metadata": {},
   "source": [
    "### Let's look at our data types:\n",
    "* We know we have no nulls now, but how many categorical / numeric columns do we have?\n",
    "* Are the object columns categorical or just strings? How would you check that?"
   ]
  },
  {
   "cell_type": "code",
   "execution_count": 11,
   "metadata": {},
   "outputs": [
    {
     "data": {
      "text/plain": [
       "int64      10\n",
       "float64     3\n",
       "object      3\n",
       "dtype: int64"
      ]
     },
     "execution_count": 11,
     "metadata": {},
     "output_type": "execute_result"
    }
   ],
   "source": [
    "# Check the numbers of columns of each data type in your dataframe:\n",
    "raw_df.dtypes.value_counts()"
   ]
  },
  {
   "cell_type": "code",
   "execution_count": 12,
   "metadata": {
    "scrolled": false
   },
   "outputs": [
    {
     "name": "stdout",
     "output_type": "stream",
     "text": [
      "<class 'pandas.core.frame.DataFrame'>\n",
      "RangeIndex: 469968 entries, 0 to 469967\n",
      "Data columns (total 16 columns):\n",
      "DAY_OF_MONTH             469968 non-null int64\n",
      "DAY_OF_WEEK              469968 non-null int64\n",
      "FL_DATE                  469968 non-null object\n",
      "UNIQUE_CARRIER           469968 non-null object\n",
      "AIRLINE_ID               469968 non-null int64\n",
      "CARRIER                  469968 non-null object\n",
      "ORIGIN_AIRPORT_ID        469968 non-null int64\n",
      "ORIGIN_AIRPORT_SEQ_ID    469968 non-null int64\n",
      "ORIGIN_CITY_MARKET_ID    469968 non-null int64\n",
      "DEST_AIRPORT_ID          469968 non-null int64\n",
      "DEST_AIRPORT_SEQ_ID      469968 non-null int64\n",
      "DEST_CITY_MARKET_ID      469968 non-null int64\n",
      "CRS_DEP_TIME             469968 non-null int64\n",
      "DEP_TIME                 458311 non-null float64\n",
      "DEP_DEL15                458311 non-null float64\n",
      "Unnamed: 15              0 non-null float64\n",
      "dtypes: float64(3), int64(10), object(3)\n",
      "memory usage: 57.4+ MB\n"
     ]
    }
   ],
   "source": [
    "# Remember you can always check the same info using '.info()'\n",
    "# wonder what the difference is between `Carrier` and `Unique_Carrier` \n",
    "raw_df.info()"
   ]
  },
  {
   "cell_type": "markdown",
   "metadata": {},
   "source": [
    "### 3. You can filter through the columns to look at just the ones that contain strings: `dtypes == 'object'`"
   ]
  },
  {
   "cell_type": "code",
   "execution_count": 21,
   "metadata": {},
   "outputs": [
    {
     "data": {
      "text/plain": [
       "Index([u'FL_DATE', u'UNIQUE_CARRIER', u'CARRIER'], dtype='object')"
      ]
     },
     "execution_count": 21,
     "metadata": {},
     "output_type": "execute_result"
    }
   ],
   "source": [
    "raw_df.columns[raw_df.dtypes == 'object']"
   ]
  },
  {
   "cell_type": "markdown",
   "metadata": {},
   "source": [
    "### 4. Let's also look at the mins and max to see if there are numeric categorical features: `.describe()`"
   ]
  },
  {
   "cell_type": "code",
   "execution_count": 24,
   "metadata": {
    "scrolled": true
   },
   "outputs": [
    {
     "data": {
      "text/html": [
       "<div>\n",
       "<style>\n",
       "    .dataframe thead tr:only-child th {\n",
       "        text-align: right;\n",
       "    }\n",
       "\n",
       "    .dataframe thead th {\n",
       "        text-align: left;\n",
       "    }\n",
       "\n",
       "    .dataframe tbody tr th {\n",
       "        vertical-align: top;\n",
       "    }\n",
       "</style>\n",
       "<table border=\"1\" class=\"dataframe\">\n",
       "  <thead>\n",
       "    <tr style=\"text-align: right;\">\n",
       "      <th></th>\n",
       "      <th>DAY_OF_MONTH</th>\n",
       "      <th>DAY_OF_WEEK</th>\n",
       "      <th>AIRLINE_ID</th>\n",
       "      <th>ORIGIN_AIRPORT_ID</th>\n",
       "      <th>ORIGIN_AIRPORT_SEQ_ID</th>\n",
       "      <th>ORIGIN_CITY_MARKET_ID</th>\n",
       "      <th>DEST_AIRPORT_ID</th>\n",
       "      <th>DEST_AIRPORT_SEQ_ID</th>\n",
       "      <th>DEST_CITY_MARKET_ID</th>\n",
       "      <th>CRS_DEP_TIME</th>\n",
       "      <th>DEP_TIME</th>\n",
       "      <th>DEP_DEL15</th>\n",
       "    </tr>\n",
       "  </thead>\n",
       "  <tbody>\n",
       "    <tr>\n",
       "      <th>count</th>\n",
       "      <td>458311.000000</td>\n",
       "      <td>458311.000000</td>\n",
       "      <td>458311.000000</td>\n",
       "      <td>458311.000000</td>\n",
       "      <td>4.583110e+05</td>\n",
       "      <td>458311.000000</td>\n",
       "      <td>458311.000000</td>\n",
       "      <td>4.583110e+05</td>\n",
       "      <td>458311.000000</td>\n",
       "      <td>458311.000000</td>\n",
       "      <td>458311.000000</td>\n",
       "      <td>458311.000000</td>\n",
       "    </tr>\n",
       "    <tr>\n",
       "      <th>mean</th>\n",
       "      <td>15.803053</td>\n",
       "      <td>4.048024</td>\n",
       "      <td>19977.381106</td>\n",
       "      <td>12671.392175</td>\n",
       "      <td>1.267142e+06</td>\n",
       "      <td>31714.487246</td>\n",
       "      <td>12671.782322</td>\n",
       "      <td>1.267181e+06</td>\n",
       "      <td>31715.865238</td>\n",
       "      <td>1323.662952</td>\n",
       "      <td>1333.028542</td>\n",
       "      <td>0.198507</td>\n",
       "    </tr>\n",
       "    <tr>\n",
       "      <th>std</th>\n",
       "      <td>8.921022</td>\n",
       "      <td>1.929048</td>\n",
       "      <td>399.158330</td>\n",
       "      <td>1519.173651</td>\n",
       "      <td>1.519171e+05</td>\n",
       "      <td>1286.064137</td>\n",
       "      <td>1519.250986</td>\n",
       "      <td>1.519248e+05</td>\n",
       "      <td>1286.731887</td>\n",
       "      <td>467.693510</td>\n",
       "      <td>479.639617</td>\n",
       "      <td>0.398876</td>\n",
       "    </tr>\n",
       "    <tr>\n",
       "      <th>min</th>\n",
       "      <td>1.000000</td>\n",
       "      <td>1.000000</td>\n",
       "      <td>19393.000000</td>\n",
       "      <td>10135.000000</td>\n",
       "      <td>1.013503e+06</td>\n",
       "      <td>30070.000000</td>\n",
       "      <td>10135.000000</td>\n",
       "      <td>1.013503e+06</td>\n",
       "      <td>30070.000000</td>\n",
       "      <td>5.000000</td>\n",
       "      <td>1.000000</td>\n",
       "      <td>0.000000</td>\n",
       "    </tr>\n",
       "    <tr>\n",
       "      <th>25%</th>\n",
       "      <td>8.000000</td>\n",
       "      <td>2.000000</td>\n",
       "      <td>19790.000000</td>\n",
       "      <td>11292.000000</td>\n",
       "      <td>1.129202e+06</td>\n",
       "      <td>30615.000000</td>\n",
       "      <td>11292.000000</td>\n",
       "      <td>1.129202e+06</td>\n",
       "      <td>30615.000000</td>\n",
       "      <td>925.000000</td>\n",
       "      <td>930.000000</td>\n",
       "      <td>0.000000</td>\n",
       "    </tr>\n",
       "    <tr>\n",
       "      <th>50%</th>\n",
       "      <td>16.000000</td>\n",
       "      <td>4.000000</td>\n",
       "      <td>19977.000000</td>\n",
       "      <td>12889.000000</td>\n",
       "      <td>1.288903e+06</td>\n",
       "      <td>31453.000000</td>\n",
       "      <td>12889.000000</td>\n",
       "      <td>1.288903e+06</td>\n",
       "      <td>31453.000000</td>\n",
       "      <td>1320.000000</td>\n",
       "      <td>1328.000000</td>\n",
       "      <td>0.000000</td>\n",
       "    </tr>\n",
       "    <tr>\n",
       "      <th>75%</th>\n",
       "      <td>23.000000</td>\n",
       "      <td>6.000000</td>\n",
       "      <td>20366.000000</td>\n",
       "      <td>13930.000000</td>\n",
       "      <td>1.393003e+06</td>\n",
       "      <td>32467.000000</td>\n",
       "      <td>13930.000000</td>\n",
       "      <td>1.393003e+06</td>\n",
       "      <td>32467.000000</td>\n",
       "      <td>1720.000000</td>\n",
       "      <td>1729.000000</td>\n",
       "      <td>0.000000</td>\n",
       "    </tr>\n",
       "    <tr>\n",
       "      <th>max</th>\n",
       "      <td>31.000000</td>\n",
       "      <td>7.000000</td>\n",
       "      <td>21171.000000</td>\n",
       "      <td>16218.000000</td>\n",
       "      <td>1.621801e+06</td>\n",
       "      <td>35991.000000</td>\n",
       "      <td>16218.000000</td>\n",
       "      <td>1.621801e+06</td>\n",
       "      <td>35991.000000</td>\n",
       "      <td>2359.000000</td>\n",
       "      <td>2400.000000</td>\n",
       "      <td>1.000000</td>\n",
       "    </tr>\n",
       "  </tbody>\n",
       "</table>\n",
       "</div>"
      ],
      "text/plain": [
       "        DAY_OF_MONTH    DAY_OF_WEEK     AIRLINE_ID  ORIGIN_AIRPORT_ID  \\\n",
       "count  458311.000000  458311.000000  458311.000000      458311.000000   \n",
       "mean       15.803053       4.048024   19977.381106       12671.392175   \n",
       "std         8.921022       1.929048     399.158330        1519.173651   \n",
       "min         1.000000       1.000000   19393.000000       10135.000000   \n",
       "25%         8.000000       2.000000   19790.000000       11292.000000   \n",
       "50%        16.000000       4.000000   19977.000000       12889.000000   \n",
       "75%        23.000000       6.000000   20366.000000       13930.000000   \n",
       "max        31.000000       7.000000   21171.000000       16218.000000   \n",
       "\n",
       "       ORIGIN_AIRPORT_SEQ_ID  ORIGIN_CITY_MARKET_ID  DEST_AIRPORT_ID  \\\n",
       "count           4.583110e+05          458311.000000    458311.000000   \n",
       "mean            1.267142e+06           31714.487246     12671.782322   \n",
       "std             1.519171e+05            1286.064137      1519.250986   \n",
       "min             1.013503e+06           30070.000000     10135.000000   \n",
       "25%             1.129202e+06           30615.000000     11292.000000   \n",
       "50%             1.288903e+06           31453.000000     12889.000000   \n",
       "75%             1.393003e+06           32467.000000     13930.000000   \n",
       "max             1.621801e+06           35991.000000     16218.000000   \n",
       "\n",
       "       DEST_AIRPORT_SEQ_ID  DEST_CITY_MARKET_ID   CRS_DEP_TIME       DEP_TIME  \\\n",
       "count         4.583110e+05        458311.000000  458311.000000  458311.000000   \n",
       "mean          1.267181e+06         31715.865238    1323.662952    1333.028542   \n",
       "std           1.519248e+05          1286.731887     467.693510     479.639617   \n",
       "min           1.013503e+06         30070.000000       5.000000       1.000000   \n",
       "25%           1.129202e+06         30615.000000     925.000000     930.000000   \n",
       "50%           1.288903e+06         31453.000000    1320.000000    1328.000000   \n",
       "75%           1.393003e+06         32467.000000    1720.000000    1729.000000   \n",
       "max           1.621801e+06         35991.000000    2359.000000    2400.000000   \n",
       "\n",
       "           DEP_DEL15  \n",
       "count  458311.000000  \n",
       "mean        0.198507  \n",
       "std         0.398876  \n",
       "min         0.000000  \n",
       "25%         0.000000  \n",
       "50%         0.000000  \n",
       "75%         0.000000  \n",
       "max         1.000000  "
      ]
     },
     "execution_count": 24,
     "metadata": {},
     "output_type": "execute_result"
    }
   ],
   "source": [
    "df.describe()\n",
    "\n",
    "# check out mins and maxes\n",
    "# figure out if there are categorical features (see columns with objects)"
   ]
  },
  {
   "cell_type": "markdown",
   "metadata": {},
   "source": [
    "#### Day of month, day of week are also categorical (of course they are!)\n",
    "* So our categorical variables/features are:\n",
    " - `FL_DATE', 'UNIQUE_CARRIER', 'CARRIER`\n",
    " - `DAY_OF_WEEK', 'DAY_OF_MONTH`"
   ]
  },
  {
   "cell_type": "markdown",
   "metadata": {},
   "source": [
    "-"
   ]
  },
  {
   "cell_type": "markdown",
   "metadata": {},
   "source": [
    "### 5. Let's transform some of our categorical features into dummies using `pd.get_dummies()`:\n",
    "* `CARRIER`\n",
    "* `DAY_OF_WEEK`"
   ]
  },
  {
   "cell_type": "code",
   "execution_count": 25,
   "metadata": {
    "collapsed": true,
    "scrolled": false
   },
   "outputs": [],
   "source": [
    "# Creating dummy variables for 'carrier' and 'day_of_week'\n",
    "df = df.join(pd.get_dummies(df['CARRIER'], prefix='carrier'))\n",
    "df = df.join(pd.get_dummies(df['DAY_OF_WEEK'], prefix='dow'))"
   ]
  },
  {
   "cell_type": "markdown",
   "metadata": {},
   "source": [
    "## CREATE A LOGISTIC REGRESSION MODEL"
   ]
  },
  {
   "cell_type": "markdown",
   "metadata": {},
   "source": [
    "### 6. Instantiate the model and identify feature columns"
   ]
  },
  {
   "cell_type": "code",
   "execution_count": 26,
   "metadata": {
    "collapsed": true
   },
   "outputs": [],
   "source": [
    "# Instantiate your LogisticRegression model object that is already imported up top: lm.LogisticRegression\n",
    "logreg = lm.LogisticRegression()\n",
    "\n",
    "# Select Feature Columns of interest : a list of dummy variables from the 'DAY_OF_WEEK' column that we named 'dow_'...:\n",
    "    # List comprehension uses conditional language \"if 'stringA' in 'stringB' \" VERY USEFUL\n",
    "features = [i for i in df.columns if 'dow_' in i]"
   ]
  },
  {
   "cell_type": "code",
   "execution_count": 27,
   "metadata": {
    "scrolled": false
   },
   "outputs": [
    {
     "data": {
      "text/plain": [
       "['dow_1', 'dow_2', 'dow_3', 'dow_4', 'dow_5', 'dow_6', 'dow_7']"
      ]
     },
     "execution_count": 27,
     "metadata": {},
     "output_type": "execute_result"
    }
   ],
   "source": [
    "# See the result of our list comprehension:\n",
    "features"
   ]
  },
  {
   "cell_type": "markdown",
   "metadata": {},
   "source": [
    "### 7. Now, let's add 'CRS_DEP_TIME' to this features list once. If you run the cell more than once, it will add it again and again, so only run it once!"
   ]
  },
  {
   "cell_type": "code",
   "execution_count": 28,
   "metadata": {
    "scrolled": true
   },
   "outputs": [
    {
     "name": "stdout",
     "output_type": "stream",
     "text": [
      "['dow_1', 'dow_2', 'dow_3', 'dow_4', 'dow_5', 'dow_6', 'dow_7', 'CRS_DEP_TIME']\n"
     ]
    }
   ],
   "source": [
    "# Use the '+=' method to add the column name, which basically means: features = features + ['CRS_DEP_TIME']\n",
    "# BE CAREFUL to run this only once or the \"+=' will add another 'CRS_DEP_TIME' for each time you run this code cell\n",
    "\n",
    "### RUN ONLY ONCE \n",
    "### RUN ONLY ONCE \n",
    "\n",
    "\n",
    "\n",
    "features += ['CRS_DEP_TIME']\n",
    "print(features)\n",
    "\n",
    "\n",
    "\n",
    "### RUN ONLY ONCE \n",
    "### RUN ONLY ONCE "
   ]
  },
  {
   "cell_type": "code",
   "execution_count": 29,
   "metadata": {},
   "outputs": [
    {
     "name": "stdout",
     "output_type": "stream",
     "text": [
      "count    458311.000000\n",
      "mean       1323.662952\n",
      "std         467.693510\n",
      "min           5.000000\n",
      "25%         925.000000\n",
      "50%        1320.000000\n",
      "75%        1720.000000\n",
      "max        2359.000000\n",
      "Name: CRS_DEP_TIME, dtype: float64\n"
     ]
    }
   ],
   "source": [
    "# What is 'CRS_DEP_TIME'?\n",
    "# Departure times in military time\n",
    "print(df['CRS_DEP_TIME'].describe())\n",
    "\n",
    "# Min = 5 minutes after midnight\n",
    "# Max = 1 minutes before midnight\n",
    "# Median flight time = 1:20 in the afternoon"
   ]
  },
  {
   "cell_type": "markdown",
   "metadata": {},
   "source": [
    "####  When we fit our model, we will use the slice method to filter out the 'dow_1' dummy and avoid the dummy collinearity debacle:"
   ]
  },
  {
   "cell_type": "code",
   "execution_count": 30,
   "metadata": {},
   "outputs": [
    {
     "data": {
      "text/plain": [
       "['dow_2', 'dow_3', 'dow_4', 'dow_5', 'dow_6', 'dow_7', 'CRS_DEP_TIME']"
      ]
     },
     "execution_count": 30,
     "metadata": {},
     "output_type": "execute_result"
    }
   ],
   "source": [
    "features[1:]"
   ]
  },
  {
   "cell_type": "markdown",
   "metadata": {},
   "source": [
    "### 8. Fit the model one the sliced features and use 'DEP_DEL15' as the target (outcome):\n",
    "* #### Note: `\"DEP_DEL15\"` is _departure delays over 15 minutes_\n",
    "* You can either:\n",
    "    - set X and y first and fit the model to X,y: logreg.fit(X,y), or\n",
    "    - fit the model to the slices directly (be careful!)\n"
   ]
  },
  {
   "cell_type": "code",
   "execution_count": 31,
   "metadata": {},
   "outputs": [
    {
     "name": "stdout",
     "output_type": "stream",
     "text": [
      "0.0    367333\n",
      "1.0     90978\n",
      "Name: DEP_DEL15, dtype: int64\n"
     ]
    },
    {
     "data": {
      "text/plain": [
       "0.0    80.149287\n",
       "1.0    19.850713\n",
       "Name: DEP_DEL15, dtype: float64"
      ]
     },
     "execution_count": 31,
     "metadata": {},
     "output_type": "execute_result"
    }
   ],
   "source": [
    "# Quick check of what's inside your target variable\n",
    "\n",
    "# 90K+ delayed flights?!\n",
    "print(df['DEP_DEL15'].value_counts())\n",
    "\n",
    "# Almost 20%?!\n",
    "# put into percentage terms \n",
    "df['DEP_DEL15'].value_counts(normalize=True)*100"
   ]
  },
  {
   "cell_type": "code",
   "execution_count": 37,
   "metadata": {
    "scrolled": false
   },
   "outputs": [
    {
     "data": {
      "text/plain": [
       "LogisticRegression(C=1.0, class_weight=None, dual=False, fit_intercept=True,\n",
       "          intercept_scaling=1, max_iter=100, multi_class='ovr', n_jobs=1,\n",
       "          penalty='l2', random_state=None, solver='liblinear', tol=0.0001,\n",
       "          verbose=0, warm_start=False)"
      ]
     },
     "execution_count": 37,
     "metadata": {},
     "output_type": "execute_result"
    }
   ],
   "source": [
    "# First option \n",
    "# X = df[features[1:]] <-- dropped the dummy dow_1 to avoid multicolinearity \n",
    "# y = df['DEP_DEL15']\n",
    "\n",
    "# no need for intercept because it's Logistic Regression not statsmodel (where you do need an intercept)\n",
    "# did not split data into train and test\n",
    "\n",
    "\n",
    "# Second option - fit the model to the slices directly\n",
    "logreg.fit(df[features[1:]], df['DEP_DEL15'])"
   ]
  },
  {
   "cell_type": "markdown",
   "metadata": {},
   "source": [
    "### 9. We want to create a column of predicted probabilities and add it to our dataframe.\n",
    "* The LogisticRegression() model has a method called `.predict_proba()` that outputs the predicted probabilties for each row in the sample having target == 0,1  (probability that the flight will be delayed 15 minutes or more)\n",
    "* Remember that  `.predict_proba()` actually outputs **two columns**, and we want the second one (probability of being true): \n",
    "    - `[Probability of being false y==0, Probability of being true y==1]`\n",
    "    \n",
    "\n",
    "* So we're going to access the second column using the `[1]` slice of the transposed column of predicted probabilities (love those chaining methods!)\n",
    "\n",
    "* The `.T` is how we transpose our dataframe from being an array to a column, which we need if we're going to add it to our dataframe."
   ]
  },
  {
   "cell_type": "code",
   "execution_count": 38,
   "metadata": {
    "collapsed": true,
    "scrolled": false
   },
   "outputs": [],
   "source": [
    "# Creating predicted probabilites as assigning back to df as \"probability\"\n",
    "df['probability'] = logreg.predict_proba(df[features[1:]]).T[1]"
   ]
  },
  {
   "cell_type": "code",
   "execution_count": 40,
   "metadata": {},
   "outputs": [
    {
     "name": "stdout",
     "output_type": "stream",
     "text": [
      "('Actual mean of y', 0.19850712725638267)\n",
      "('Our prediction of the mean of y', 0.0)\n"
     ]
    }
   ],
   "source": [
    "# find the predictions\n",
    "y = df['DEP_DEL15']\n",
    "x = df[features[1:]]\n",
    "\n",
    "y_preds = logreg.predict(df[features[1:]])\n",
    "print('Actual mean of y', y.mean())\n",
    "print ('Our prediction of the mean of y', y_preds.mean())"
   ]
  },
  {
   "cell_type": "code",
   "execution_count": 57,
   "metadata": {},
   "outputs": [
    {
     "name": "stdout",
     "output_type": "stream",
     "text": [
      "('My accuracy score is', 0.80149287274361736)\n"
     ]
    },
    {
     "data": {
      "text/plain": [
       "array([[367333,      0],\n",
       "       [ 90978,      0]])"
      ]
     },
     "execution_count": 57,
     "metadata": {},
     "output_type": "execute_result"
    }
   ],
   "source": [
    "from sklearn.metrics import confusion_matrix, accuracy_score\n",
    "\n",
    "accuracy = accuracy_score(y, y_preds)\n",
    "print ('My accuracy score is', accuracy)\n",
    "# confusion matrix shows model is only predicting 0s - perhaps we should adjust the threshold\n",
    "confmat = confusion_matrix(y, y_preds)\n",
    "confmat"
   ]
  },
  {
   "cell_type": "code",
   "execution_count": 59,
   "metadata": {},
   "outputs": [
    {
     "data": {
      "text/html": [
       "<div>\n",
       "<style>\n",
       "    .dataframe thead tr:only-child th {\n",
       "        text-align: right;\n",
       "    }\n",
       "\n",
       "    .dataframe thead th {\n",
       "        text-align: left;\n",
       "    }\n",
       "\n",
       "    .dataframe tbody tr th {\n",
       "        vertical-align: top;\n",
       "    }\n",
       "</style>\n",
       "<table border=\"1\" class=\"dataframe\">\n",
       "  <thead>\n",
       "    <tr style=\"text-align: right;\">\n",
       "      <th></th>\n",
       "      <th>pred_no_delay</th>\n",
       "      <th>pred_a_delay</th>\n",
       "    </tr>\n",
       "  </thead>\n",
       "  <tbody>\n",
       "    <tr>\n",
       "      <th>had_no_delay</th>\n",
       "      <td>367333</td>\n",
       "      <td>0</td>\n",
       "    </tr>\n",
       "    <tr>\n",
       "      <th>had_a_delay</th>\n",
       "      <td>90978</td>\n",
       "      <td>0</td>\n",
       "    </tr>\n",
       "  </tbody>\n",
       "</table>\n",
       "</div>"
      ],
      "text/plain": [
       "              pred_no_delay  pred_a_delay\n",
       "had_no_delay         367333             0\n",
       "had_a_delay           90978             0"
      ]
     },
     "execution_count": 59,
     "metadata": {},
     "output_type": "execute_result"
    }
   ],
   "source": [
    "confusion_logreg = pd.DataFrame(confmat, \n",
    "                         index=['had_no_delay','had_a_delay'],\n",
    "                        columns=['pred_no_delay','pred_a_delay'])\n",
    "\n",
    "confusion_logreg"
   ]
  },
  {
   "cell_type": "code",
   "execution_count": 35,
   "metadata": {
    "scrolled": false
   },
   "outputs": [
    {
     "data": {
      "text/plain": [
       "0     0.129193\n",
       "1     0.129193\n",
       "2     0.158102\n",
       "3     0.157153\n",
       "4     0.165363\n",
       "6     0.156681\n",
       "7     0.213394\n",
       "8     0.113955\n",
       "9     0.265939\n",
       "10    0.147473\n",
       "Name: probability, dtype: float64"
      ]
     },
     "execution_count": 35,
     "metadata": {},
     "output_type": "execute_result"
    }
   ],
   "source": [
    "# Quick peek at the first ten values of the new probability for probability of being true, y==1 \n",
    "# column or pandas series in your df DataFrame\n",
    "df['probability'].head(10)\n",
    "\n",
    "\n",
    "# df['probability'].mean() --> produces 0.2017 so 20% so 50% as a threshold is difficult..."
   ]
  },
  {
   "cell_type": "code",
   "execution_count": 36,
   "metadata": {
    "collapsed": true
   },
   "outputs": [],
   "source": [
    "### if you want to see y==0 and also highlight, look at Lesson 9's pima dataset"
   ]
  },
  {
   "cell_type": "markdown",
   "metadata": {},
   "source": [
    "# Communicating Results:"
   ]
  },
  {
   "cell_type": "markdown",
   "metadata": {},
   "source": [
    "### 10. Visualize probabilities of being delayed, by day of the week\n",
    "* Define 6 colors (we dropped day 1, remember) to represent each day of week for 6 day plots\n",
    "* For each day (1:6), plot all samples where y_actual = DEP_DEL15 == 1, with departure time on x-axis and predicted probability of being a 1 is on the y-axis.\n",
    "* New tool: The `enumerate()` function adds a counter to allow you to iterate through tuples\n",
    "    - https://docs.python.org/3/library/functions.html#enumerate"
   ]
  },
  {
   "cell_type": "code",
   "execution_count": 49,
   "metadata": {
    "scrolled": true
   },
   "outputs": [
    {
     "data": {
      "image/png": "[encoded data removed]",
      "text/plain": [
       "<matplotlib.figure.Figure at 0x1081189d0>"
      ]
     },
     "metadata": {},
     "output_type": "display_data"
    }
   ],
   "source": [
    "# using matplotlib, but also use seaborn\n",
    "\n",
    "# Create a plot object and call it ax. This will allow you to tweak the plot's features independently\n",
    "ax = plt.subplot(111)\n",
    "\n",
    "# Create a list of colors for our various days_of_week -1\n",
    "days_by_colors = ['blue', 'green', 'red', 'purple', 'orange', 'brown']\n",
    "\n",
    "# Use the enumerate() function to iterate through the list of colors/days\n",
    "for index, color_ in enumerate(days_by_colors):\n",
    "    df[df[features[index]] == 1].plot(x='CRS_DEP_TIME', y='probability', kind='scatter',\n",
    "                                  color = color_, ax=ax)\n",
    "# Use the ax object\n",
    "ax.set(title='Probability of Delay\\n Based on Day of Week and Time of Day');\n",
    "\n",
    "\n",
    "# This graph shows: The likelihood of delay increases as the day goes on."
   ]
  },
  {
   "cell_type": "code",
   "execution_count": 50,
   "metadata": {},
   "outputs": [
    {
     "name": "stdout",
     "output_type": "stream",
     "text": [
      "(0, 'blue')\n",
      "(1, 'green')\n",
      "(2, 'red')\n",
      "(3, 'purple')\n",
      "(4, 'orange')\n",
      "(5, 'brown')\n"
     ]
    }
   ],
   "source": [
    "# If you didn't understand what enumerate was doing, print this:\n",
    "for index, color_ in enumerate(days_by_colors): \n",
    "    print(index, color_)"
   ]
  },
  {
   "cell_type": "markdown",
   "metadata": {},
   "source": [
    "## 11. Visualizing Carrier Performance Over Time\n",
    "* The features list now will be comprised of the dummy variables from the 'CARRIER' column instead of dummy variables from the 'DAY_OF_WEEK'"
   ]
  },
  {
   "cell_type": "code",
   "execution_count": 61,
   "metadata": {
    "collapsed": true
   },
   "outputs": [],
   "source": [
    "# Select feature columns that have 'carrier' in the name:\n",
    "features = [i for i in df.columns if 'carrier_' in i]"
   ]
  },
  {
   "cell_type": "code",
   "execution_count": null,
   "metadata": {
    "collapsed": true
   },
   "outputs": [],
   "source": [
    "# Add 'CRS_DEP_TIME' to the features list the way we did before:\n",
    "features += ['CRS_DEP_TIME']\n",
    "\n",
    "# ONLY RUN ONCE\n",
    "# ONLY RUN ONCE\n",
    "# ONLY RUN ONCE"
   ]
  },
  {
   "cell_type": "code",
   "execution_count": 62,
   "metadata": {},
   "outputs": [
    {
     "data": {
      "text/plain": [
       "LogisticRegression(C=1.0, class_weight=None, dual=False, fit_intercept=True,\n",
       "          intercept_scaling=1, max_iter=100, multi_class='ovr', n_jobs=1,\n",
       "          penalty='l2', random_state=None, solver='liblinear', tol=0.0001,\n",
       "          verbose=0, warm_start=False)"
      ]
     },
     "execution_count": 62,
     "metadata": {},
     "output_type": "execute_result"
    }
   ],
   "source": [
    "# Instantiate your LogisticRegression model object\n",
    "model = lm.LogisticRegression()\n",
    "\n",
    "# Fit your model on the new features and the same target variable 'DEP_DEL15'\n",
    "# Option 1\n",
    "        # X = df[features[1:]]\n",
    "        # y = df['DEP_DEL15']\n",
    "\n",
    "# Option 2\n",
    "model.fit(df[features[1:]], df['DEP_DEL15'])"
   ]
  },
  {
   "cell_type": "code",
   "execution_count": 63,
   "metadata": {
    "collapsed": true,
    "scrolled": true
   },
   "outputs": [],
   "source": [
    "# Add the predicted probabilities to the dataframe that will overwrite the previous probabilities for days of week\n",
    "df['probability'] = model.predict_proba(df[features[1:]]).T[1]"
   ]
  },
  {
   "cell_type": "code",
   "execution_count": 64,
   "metadata": {},
   "outputs": [
    {
     "data": {
      "image/png": "[encoded data removed]",
      "text/plain": [
       "<matplotlib.figure.Figure at 0x108114410>"
      ]
     },
     "metadata": {},
     "output_type": "display_data"
    }
   ],
   "source": [
    "# Plot the probability of delay based on Carrier and time of day:\n",
    "ax = plt.subplot(111)\n",
    "carriers_by_colors = ['blue', 'green', 'red', 'purple']\n",
    "for index, color_ in enumerate(carriers_by_colors):\n",
    "    df[df[features[index]] == 1].plot(x='CRS_DEP_TIME', y='probability', kind='scatter', color = color_, ax=ax)\n",
    "\n",
    "# Set the title    \n",
    "ax.set(title='Probability of Delay\\n Based on Carrier and Time of Day');"
   ]
  },
  {
   "cell_type": "code",
   "execution_count": 66,
   "metadata": {},
   "outputs": [
    {
     "name": "stdout",
     "output_type": "stream",
     "text": [
      "(0, 'blue')\n",
      "(1, 'green')\n",
      "(2, 'red')\n",
      "(3, 'purple')\n"
     ]
    }
   ],
   "source": [
    "# If you didn't understand what enumerate was doing, print this:\n",
    "for index, color_ in enumerate(carriers_by_colors): \n",
    "    print(index, color_)"
   ]
  },
  {
   "cell_type": "markdown",
   "metadata": {},
   "source": [
    "### 12. Visualize the Probability of NOT Being Delayed, Using the `.predict_proba()` column [0], probability of the target variable = 0!"
   ]
  },
  {
   "cell_type": "code",
   "execution_count": 59,
   "metadata": {},
   "outputs": [
    {
     "data": {
      "image/png": "[encoded data removed]",
      "text/plain": [
       "<matplotlib.figure.Figure at 0x1a19ce9630>"
      ]
     },
     "metadata": {},
     "output_type": "display_data"
    }
   ],
   "source": [
    "# Set your features columns to be all carriers columns\n",
    "features = [i for i in df.columns if 'carrier_' in i]\n",
    "\n",
    "# Add departure time to the features columns\n",
    "features += ['CRS_DEP_TIME']\n",
    "\n",
    "# Instantiate your model if you haven't already\n",
    "model = lm.LogisticRegression()\n",
    "\n",
    "# Fit your moedl on the new features with y = 'DEP_DEL15' still:\n",
    "model.fit(df[features[1:]], df['DEP_DEL15'])\n",
    "\n",
    "# Instead of .T[1] we're now using .T[0] to grab probability of 'DEP_DEL15' == 0\n",
    "df['probability'] = model.predict_proba(df[features[1:]]).T[0]\n",
    "\n",
    "# For each carrier, for all samples that were delayed by less than 15 min, \n",
    "    # plot the predicted probability of being on time by time of departure: \n",
    "ax = plt.subplot(111)\n",
    "carriers_by_colors = ['blue', 'green', 'red', 'purple']\n",
    "for index, color_ in enumerate(carriers_by_colors):\n",
    "    df[df[features[index]] == 1].plot(x='CRS_DEP_TIME', y='probability', kind='scatter', color = color_, ax=ax)\n",
    "\n",
    "# Set the title\n",
    "ax.set(title='Probability of Being on Time\\n Based on Carrier and Time of Day');"
   ]
  },
  {
   "cell_type": "markdown",
   "metadata": {},
   "source": [
    "### 13. Visualizing Performance Against Baseline\n",
    "* We'll use the dummy classifier: learn more here: # http://scikit-learn.org/stable/modules/generated/sklearn.dummy.DummyClassifier.html\n",
    "* Instantiate the model object\n",
    "* Fit the model\n",
    "* Create a column of predicted probabilities for probability of having a delay: 'DEP_DEL15' == 1\n",
    "* Create a column of predicted probabilities for probability of no delay: 'DEP_DEL15' == 0"
   ]
  },
  {
   "cell_type": "code",
   "execution_count": 60,
   "metadata": {
    "collapsed": true
   },
   "outputs": [],
   "source": [
    "from sklearn import dummy, metrics"
   ]
  },
  {
   "cell_type": "code",
   "execution_count": 61,
   "metadata": {
    "collapsed": true
   },
   "outputs": [],
   "source": [
    "# Instantiate DummyClassifier object: model0\n",
    "model0 = dummy.DummyClassifier()\n",
    "\n",
    "# Fit the model based on the same features we had in the last model\n",
    "model0.fit(df[features[1:]], df['DEP_DEL15'])\n",
    "\n",
    "# Add column of Predict probabilities where 'DEP_DEL15' == 1\n",
    "df['probability_0'] = model0.predict_proba(df[features[1:]]).T[1]\n",
    "\n",
    "# Instantiate a LogisticRegression model object: model1\n",
    "model1 = lm.LogisticRegression()\n",
    "\n",
    "# Fit your model\n",
    "model.fit(df[features[1:]], df['DEP_DEL15'])\n",
    "\n",
    "# Add another column of Predict probabilities where 'DEP_DEL15' == 0\n",
    "df['probability_1'] = model.predict_proba(df[features[1:]]).T[1] "
   ]
  },
  {
   "cell_type": "code",
   "execution_count": 62,
   "metadata": {},
   "outputs": [
    {
     "data": {
      "text/plain": [
       "(458311, 39)"
      ]
     },
     "execution_count": 62,
     "metadata": {},
     "output_type": "execute_result"
    }
   ],
   "source": [
    "df.shape"
   ]
  },
  {
   "cell_type": "markdown",
   "metadata": {},
   "source": [
    "### 14. Plot the ROC (Receiver Operating Characteristic) Curve"
   ]
  },
  {
   "cell_type": "code",
   "execution_count": 66,
   "metadata": {
    "scrolled": true
   },
   "outputs": [
    {
     "data": {
      "image/png": "[encoded data removed]",
      "text/plain": [
       "<matplotlib.figure.Figure at 0x1a1c28a400>"
      ]
     },
     "metadata": {},
     "output_type": "display_data"
    }
   ],
   "source": [
    "ax = plt.subplot(111)\n",
    "\n",
    "# Plot out the 50-50 line\n",
    "vals = metrics.roc_curve(df.DEP_DEL15, df.probability_0)\n",
    "ax.plot(vals[0], vals[1])\n",
    "# Plot out the precision-recall curve\n",
    "vals = metrics.roc_curve(df.DEP_DEL15, df.probability_1)\n",
    "ax.plot(vals[0], vals[1])\n",
    "\n",
    "ax.set(title='Area Under the Curve for prediction delayed=1', \n",
    "       ylabel='', xlabel='', xlim=(0, 1), ylim=(0, 1));"
   ]
  },
  {
   "cell_type": "markdown",
   "metadata": {},
   "source": [
    "### 15. Visualizing Precision / Recall with cleaner code"
   ]
  },
  {
   "cell_type": "code",
   "execution_count": 67,
   "metadata": {
    "collapsed": true
   },
   "outputs": [],
   "source": [
    "# Repeat basic steps like above\n",
    "model0 = dummy.DummyClassifier()\n",
    "model0.fit(df[features[1:]], df.DEP_DEL15)\n",
    "df['probability_0'] = model0.predict_proba(df[features[1:]]).T[1]\n",
    "\n",
    "model = lm.LogisticRegression()\n",
    "model.fit(df[features[1:]], df.DEP_DEL15)\n",
    "df['probability_1'] = model.predict_proba(df[features[1:]]).T[1]"
   ]
  },
  {
   "cell_type": "code",
   "execution_count": 68,
   "metadata": {
    "scrolled": true
   },
   "outputs": [
    {
     "data": {
      "image/png": "[encoded data removed]",
      "text/plain": [
       "<matplotlib.figure.Figure at 0x10f0b3438>"
      ]
     },
     "metadata": {},
     "output_type": "display_data"
    }
   ],
   "source": [
    "# Create the plot!\n",
    "ax = plt.subplot(111)\n",
    "for i in range(2):\n",
    "    vals = metrics.precision_recall_curve(df.DEP_DEL15, df['probability_' + str(i)])\n",
    "    ax.plot(vals[1], vals[0])\n",
    "\n",
    "ax.set(title='Precision Recall Curve for prediction delayed=1',\n",
    "       ylabel='', xlabel='',xlim=(0, 1), ylim=(0, 1));"
   ]
  }
 ],
 "metadata": {
  "kernelspec": {
   "display_name": "Python 2",
   "language": "python",
   "name": "python2"
  },
  "language_info": {
   "codemirror_mode": {
    "name": "ipython",
    "version": 2
   },
   "file_extension": ".py",
   "mimetype": "text/x-python",
   "name": "python",
   "nbconvert_exporter": "python",
   "pygments_lexer": "ipython2",
   "version": "2.7.14"
  }
 },
 "nbformat": 4,
 "nbformat_minor": 1
}

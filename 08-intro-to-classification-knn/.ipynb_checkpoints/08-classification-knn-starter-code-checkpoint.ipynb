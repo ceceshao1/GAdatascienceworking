{
 "cells": [
  {
   "cell_type": "markdown",
   "metadata": {},
   "source": [
    "# 08 Classification - K-Nearest Neighbors "
   ]
  },
  {
   "cell_type": "markdown",
   "metadata": {},
   "source": [
    "## Imports"
   ]
  },
  {
   "cell_type": "code",
   "execution_count": 167,
   "metadata": {
    "collapsed": true
   },
   "outputs": [],
   "source": [
    "from sklearn import datasets, neighbors, metrics\n",
    "import numpy as np\n",
    "import pandas as pd\n",
    "import matplotlib\n",
    "\n",
    "import seaborn as sns\n",
    "sns.set_style(\"darkgrid\")\n",
    "\n",
    "from __future__ import division\n",
    "\n",
    "import matplotlib.pyplot as plt\n",
    "%matplotlib inline  "
   ]
  },
  {
   "cell_type": "markdown",
   "metadata": {},
   "source": [
    "## Use the built-in iris dataset to build a function that classifies each data point according to one or more of its features.\n",
    "* What are the features?\n",
    "\n",
    "> The features are sepal length, sepal width, petal length and petal width\n",
    "\n",
    "* What is the target variable?\n",
    "\n",
    "> target (color) \n",
    "\n",
    "* How many labels does the target variable have? Is it binary?\n",
    "> No it is not binary. The possible values are 0, 1, and 2"
   ]
  },
  {
   "cell_type": "code",
   "execution_count": 168,
   "metadata": {
    "collapsed": true
   },
   "outputs": [],
   "source": [
    "# Load iris dataset from the datasets module:\n",
    "iris = datasets.load_iris()\n",
    "\n",
    "# Create a pandas dataframe from iris. Grab the column names from iris.feature_names, and target from iris.target:\n",
    "irisdf = pd.DataFrame(iris.data, columns=iris.feature_names)\n",
    "irisdf ['target']= iris.target"
   ]
  },
  {
   "cell_type": "code",
   "execution_count": 169,
   "metadata": {},
   "outputs": [
    {
     "name": "stdout",
     "output_type": "stream",
     "text": [
      "0      0\n",
      "1      0\n",
      "2      0\n",
      "3      0\n",
      "4      0\n",
      "5      0\n",
      "6      0\n",
      "7      0\n",
      "8      0\n",
      "9      0\n",
      "10     0\n",
      "11     0\n",
      "12     0\n",
      "13     0\n",
      "14     0\n",
      "15     0\n",
      "16     0\n",
      "17     0\n",
      "18     0\n",
      "19     0\n",
      "20     0\n",
      "21     0\n",
      "22     0\n",
      "23     0\n",
      "24     0\n",
      "25     0\n",
      "26     0\n",
      "27     0\n",
      "28     0\n",
      "29     0\n",
      "      ..\n",
      "120    2\n",
      "121    2\n",
      "122    2\n",
      "123    2\n",
      "124    2\n",
      "125    2\n",
      "126    2\n",
      "127    2\n",
      "128    2\n",
      "129    2\n",
      "130    2\n",
      "131    2\n",
      "132    2\n",
      "133    2\n",
      "134    2\n",
      "135    2\n",
      "136    2\n",
      "137    2\n",
      "138    2\n",
      "139    2\n",
      "140    2\n",
      "141    2\n",
      "142    2\n",
      "143    2\n",
      "144    2\n",
      "145    2\n",
      "146    2\n",
      "147    2\n",
      "148    2\n",
      "149    2\n",
      "Name: target, Length: 150, dtype: int64\n"
     ]
    }
   ],
   "source": [
    "print (irisdf['target'])"
   ]
  },
  {
   "cell_type": "markdown",
   "metadata": {},
   "source": [
    "## EDA:\n",
    "\n",
    "* Check for nulls\n",
    "* Run descriptive statistics"
   ]
  },
  {
   "cell_type": "code",
   "execution_count": 170,
   "metadata": {
    "scrolled": true
   },
   "outputs": [
    {
     "data": {
      "text/plain": [
       "sepal length (cm)    0\n",
       "sepal width (cm)     0\n",
       "petal length (cm)    0\n",
       "petal width (cm)     0\n",
       "target               0\n",
       "dtype: int64"
      ]
     },
     "execution_count": 170,
     "metadata": {},
     "output_type": "execute_result"
    }
   ],
   "source": [
    "irisdf.isnull().sum()"
   ]
  },
  {
   "cell_type": "code",
   "execution_count": 171,
   "metadata": {},
   "outputs": [
    {
     "name": "stdout",
     "output_type": "stream",
     "text": [
      "<class 'pandas.core.frame.DataFrame'>\n",
      "RangeIndex: 150 entries, 0 to 149\n",
      "Data columns (total 5 columns):\n",
      "sepal length (cm)    150 non-null float64\n",
      "sepal width (cm)     150 non-null float64\n",
      "petal length (cm)    150 non-null float64\n",
      "petal width (cm)     150 non-null float64\n",
      "target               150 non-null int64\n",
      "dtypes: float64(4), int64(1)\n",
      "memory usage: 5.9 KB\n"
     ]
    }
   ],
   "source": [
    "irisdf.info()"
   ]
  },
  {
   "cell_type": "code",
   "execution_count": 172,
   "metadata": {},
   "outputs": [
    {
     "data": {
      "text/html": [
       "<div>\n",
       "<style>\n",
       "    .dataframe thead tr:only-child th {\n",
       "        text-align: right;\n",
       "    }\n",
       "\n",
       "    .dataframe thead th {\n",
       "        text-align: left;\n",
       "    }\n",
       "\n",
       "    .dataframe tbody tr th {\n",
       "        vertical-align: top;\n",
       "    }\n",
       "</style>\n",
       "<table border=\"1\" class=\"dataframe\">\n",
       "  <thead>\n",
       "    <tr style=\"text-align: right;\">\n",
       "      <th></th>\n",
       "      <th>sepal length (cm)</th>\n",
       "      <th>sepal width (cm)</th>\n",
       "      <th>petal length (cm)</th>\n",
       "      <th>petal width (cm)</th>\n",
       "      <th>target</th>\n",
       "    </tr>\n",
       "  </thead>\n",
       "  <tbody>\n",
       "    <tr>\n",
       "      <th>count</th>\n",
       "      <td>150.000000</td>\n",
       "      <td>150.000000</td>\n",
       "      <td>150.000000</td>\n",
       "      <td>150.000000</td>\n",
       "      <td>150.000000</td>\n",
       "    </tr>\n",
       "    <tr>\n",
       "      <th>mean</th>\n",
       "      <td>5.843333</td>\n",
       "      <td>3.054000</td>\n",
       "      <td>3.758667</td>\n",
       "      <td>1.198667</td>\n",
       "      <td>1.000000</td>\n",
       "    </tr>\n",
       "    <tr>\n",
       "      <th>std</th>\n",
       "      <td>0.828066</td>\n",
       "      <td>0.433594</td>\n",
       "      <td>1.764420</td>\n",
       "      <td>0.763161</td>\n",
       "      <td>0.819232</td>\n",
       "    </tr>\n",
       "    <tr>\n",
       "      <th>min</th>\n",
       "      <td>4.300000</td>\n",
       "      <td>2.000000</td>\n",
       "      <td>1.000000</td>\n",
       "      <td>0.100000</td>\n",
       "      <td>0.000000</td>\n",
       "    </tr>\n",
       "    <tr>\n",
       "      <th>25%</th>\n",
       "      <td>5.100000</td>\n",
       "      <td>2.800000</td>\n",
       "      <td>1.600000</td>\n",
       "      <td>0.300000</td>\n",
       "      <td>0.000000</td>\n",
       "    </tr>\n",
       "    <tr>\n",
       "      <th>50%</th>\n",
       "      <td>5.800000</td>\n",
       "      <td>3.000000</td>\n",
       "      <td>4.350000</td>\n",
       "      <td>1.300000</td>\n",
       "      <td>1.000000</td>\n",
       "    </tr>\n",
       "    <tr>\n",
       "      <th>75%</th>\n",
       "      <td>6.400000</td>\n",
       "      <td>3.300000</td>\n",
       "      <td>5.100000</td>\n",
       "      <td>1.800000</td>\n",
       "      <td>2.000000</td>\n",
       "    </tr>\n",
       "    <tr>\n",
       "      <th>max</th>\n",
       "      <td>7.900000</td>\n",
       "      <td>4.400000</td>\n",
       "      <td>6.900000</td>\n",
       "      <td>2.500000</td>\n",
       "      <td>2.000000</td>\n",
       "    </tr>\n",
       "  </tbody>\n",
       "</table>\n",
       "</div>"
      ],
      "text/plain": [
       "       sepal length (cm)  sepal width (cm)  petal length (cm)  \\\n",
       "count         150.000000        150.000000         150.000000   \n",
       "mean            5.843333          3.054000           3.758667   \n",
       "std             0.828066          0.433594           1.764420   \n",
       "min             4.300000          2.000000           1.000000   \n",
       "25%             5.100000          2.800000           1.600000   \n",
       "50%             5.800000          3.000000           4.350000   \n",
       "75%             6.400000          3.300000           5.100000   \n",
       "max             7.900000          4.400000           6.900000   \n",
       "\n",
       "       petal width (cm)      target  \n",
       "count        150.000000  150.000000  \n",
       "mean           1.198667    1.000000  \n",
       "std            0.763161    0.819232  \n",
       "min            0.100000    0.000000  \n",
       "25%            0.300000    0.000000  \n",
       "50%            1.300000    1.000000  \n",
       "75%            1.800000    2.000000  \n",
       "max            2.500000    2.000000  "
      ]
     },
     "execution_count": 172,
     "metadata": {},
     "output_type": "execute_result"
    }
   ],
   "source": [
    "irisdf.describe()"
   ]
  },
  {
   "cell_type": "markdown",
   "metadata": {},
   "source": [
    "## Fix Column Names to Remove Spaces"
   ]
  },
  {
   "cell_type": "code",
   "execution_count": 88,
   "metadata": {
    "scrolled": true
   },
   "outputs": [
    {
     "data": {
      "text/plain": [
       "['sepal length (cm)',\n",
       " 'sepal width (cm)',\n",
       " 'petal length (cm)',\n",
       " 'petal width (cm)',\n",
       " 'target']"
      ]
     },
     "execution_count": 88,
     "metadata": {},
     "output_type": "execute_result"
    }
   ],
   "source": [
    "# Take a look at the columns in their original form using a list comprehension:\n",
    "list(irisdf)\n",
    "\n",
    "# alternative from solution notebook\n",
    "# [col for col in irisdf.columns]\n",
    "\n",
    "# https://stackoverflow.com/questions/19482970/get-list-from-pandas-dataframe-column-headers"
   ]
  },
  {
   "cell_type": "code",
   "execution_count": 173,
   "metadata": {
    "scrolled": true
   },
   "outputs": [
    {
     "data": {
      "text/plain": [
       "Index([u'sepal_length_(cm)', u'sepal_width_(cm)', u'petal_length_(cm)',\n",
       "       u'petal_width_(cm)', u'target'],\n",
       "      dtype='object')"
      ]
     },
     "execution_count": 173,
     "metadata": {},
     "output_type": "execute_result"
    }
   ],
   "source": [
    "# Experiment with replacing the spaces with `'_'` underscores before assigning the list back to columns:\n",
    "irisdf.columns.str.replace('\\s+', '_')\n",
    "\n",
    "# alternative from solution notebook\n",
    "# [col.replace(' ','_') for col in irisdf.columns]\n",
    "\n",
    "# https://stackoverflow.com/questions/41476150/removing-space-from-dataframe-columns-in-pandas"
   ]
  },
  {
   "cell_type": "code",
   "execution_count": 174,
   "metadata": {
    "collapsed": true
   },
   "outputs": [],
   "source": [
    "# If all is well, save it assign your new list back to `irisdf.columns`:\n",
    "irisdf.columns = irisdf.columns.str.replace('\\s+', '_')"
   ]
  },
  {
   "cell_type": "code",
   "execution_count": 175,
   "metadata": {},
   "outputs": [
    {
     "data": {
      "text/html": [
       "<div>\n",
       "<style>\n",
       "    .dataframe thead tr:only-child th {\n",
       "        text-align: right;\n",
       "    }\n",
       "\n",
       "    .dataframe thead th {\n",
       "        text-align: left;\n",
       "    }\n",
       "\n",
       "    .dataframe tbody tr th {\n",
       "        vertical-align: top;\n",
       "    }\n",
       "</style>\n",
       "<table border=\"1\" class=\"dataframe\">\n",
       "  <thead>\n",
       "    <tr style=\"text-align: right;\">\n",
       "      <th></th>\n",
       "      <th>sepal_length_(cm)</th>\n",
       "      <th>sepal_width_(cm)</th>\n",
       "      <th>petal_length_(cm)</th>\n",
       "      <th>petal_width_(cm)</th>\n",
       "      <th>target</th>\n",
       "    </tr>\n",
       "  </thead>\n",
       "  <tbody>\n",
       "    <tr>\n",
       "      <th>count</th>\n",
       "      <td>150.000000</td>\n",
       "      <td>150.000000</td>\n",
       "      <td>150.000000</td>\n",
       "      <td>150.000000</td>\n",
       "      <td>150.000000</td>\n",
       "    </tr>\n",
       "    <tr>\n",
       "      <th>mean</th>\n",
       "      <td>5.843333</td>\n",
       "      <td>3.054000</td>\n",
       "      <td>3.758667</td>\n",
       "      <td>1.198667</td>\n",
       "      <td>1.000000</td>\n",
       "    </tr>\n",
       "    <tr>\n",
       "      <th>std</th>\n",
       "      <td>0.828066</td>\n",
       "      <td>0.433594</td>\n",
       "      <td>1.764420</td>\n",
       "      <td>0.763161</td>\n",
       "      <td>0.819232</td>\n",
       "    </tr>\n",
       "    <tr>\n",
       "      <th>min</th>\n",
       "      <td>4.300000</td>\n",
       "      <td>2.000000</td>\n",
       "      <td>1.000000</td>\n",
       "      <td>0.100000</td>\n",
       "      <td>0.000000</td>\n",
       "    </tr>\n",
       "    <tr>\n",
       "      <th>25%</th>\n",
       "      <td>5.100000</td>\n",
       "      <td>2.800000</td>\n",
       "      <td>1.600000</td>\n",
       "      <td>0.300000</td>\n",
       "      <td>0.000000</td>\n",
       "    </tr>\n",
       "    <tr>\n",
       "      <th>50%</th>\n",
       "      <td>5.800000</td>\n",
       "      <td>3.000000</td>\n",
       "      <td>4.350000</td>\n",
       "      <td>1.300000</td>\n",
       "      <td>1.000000</td>\n",
       "    </tr>\n",
       "    <tr>\n",
       "      <th>75%</th>\n",
       "      <td>6.400000</td>\n",
       "      <td>3.300000</td>\n",
       "      <td>5.100000</td>\n",
       "      <td>1.800000</td>\n",
       "      <td>2.000000</td>\n",
       "    </tr>\n",
       "    <tr>\n",
       "      <th>max</th>\n",
       "      <td>7.900000</td>\n",
       "      <td>4.400000</td>\n",
       "      <td>6.900000</td>\n",
       "      <td>2.500000</td>\n",
       "      <td>2.000000</td>\n",
       "    </tr>\n",
       "  </tbody>\n",
       "</table>\n",
       "</div>"
      ],
      "text/plain": [
       "       sepal_length_(cm)  sepal_width_(cm)  petal_length_(cm)  \\\n",
       "count         150.000000        150.000000         150.000000   \n",
       "mean            5.843333          3.054000           3.758667   \n",
       "std             0.828066          0.433594           1.764420   \n",
       "min             4.300000          2.000000           1.000000   \n",
       "25%             5.100000          2.800000           1.600000   \n",
       "50%             5.800000          3.000000           4.350000   \n",
       "75%             6.400000          3.300000           5.100000   \n",
       "max             7.900000          4.400000           6.900000   \n",
       "\n",
       "       petal_width_(cm)      target  \n",
       "count        150.000000  150.000000  \n",
       "mean           1.198667    1.000000  \n",
       "std            0.763161    0.819232  \n",
       "min            0.100000    0.000000  \n",
       "25%            0.300000    0.000000  \n",
       "50%            1.300000    1.000000  \n",
       "75%            1.800000    2.000000  \n",
       "max            2.500000    2.000000  "
      ]
     },
     "execution_count": 175,
     "metadata": {},
     "output_type": "execute_result"
    }
   ],
   "source": [
    "# Check descriptive statistics\n",
    "irisdf.describe()"
   ]
  },
  {
   "cell_type": "markdown",
   "metadata": {},
   "source": [
    "## Plot the samples petal length & width with color labels:\n",
    "*  Let's apply a color map to the target column so that we can visually see lables: 'ctarget'\n",
    " * Learn more about using `.apply` with `lambda` functions here: http://pandas.pydata.org/pandas-docs/version/0.17.0/generated/pandas.Series.apply.html"
   ]
  },
  {
   "cell_type": "code",
   "execution_count": 176,
   "metadata": {
    "collapsed": true
   },
   "outputs": [],
   "source": [
    "# Define the colormap dictionary (dictionaries are a great way of replacing values in a Series with`.apply()`)\n",
    "cmap = {'0': 'r', '1': 'g', '2': 'b' }\n",
    "irisdf['ctarget'] = irisdf.target.apply(lambda x: cmap[str(x)])"
   ]
  },
  {
   "cell_type": "code",
   "execution_count": 177,
   "metadata": {},
   "outputs": [
    {
     "data": {
      "text/plain": [
       "<matplotlib.axes._subplots.AxesSubplot at 0x1a20f584d0>"
      ]
     },
     "execution_count": 177,
     "metadata": {},
     "output_type": "execute_result"
    },
    {
     "data": {
      "image/png": "[encoded data removed]",
      "text/plain": [
       "<matplotlib.figure.Figure at 0x1a20e3cbd0>"
      ]
     },
     "metadata": {},
     "output_type": "display_data"
    }
   ],
   "source": [
    "# Use pandas to plot the petal length against width, using the target's label as the color to see patterns\n",
    "irisdf.plot('petal_length_(cm)', 'petal_width_(cm)', kind='scatter', c=irisdf.ctarget)"
   ]
  },
  {
   "cell_type": "markdown",
   "metadata": {},
   "source": [
    "## Analyze Correlations:\n",
    "*  Which features have the highest correlation with the target variable? Should you start with using the highest correlated feature as a predictor? \n",
    "> Based on the matrix below, the petal_width feature has the highest correlation (with the petal_length feature following closely behind."
   ]
  },
  {
   "cell_type": "code",
   "execution_count": 178,
   "metadata": {},
   "outputs": [
    {
     "data": {
      "text/html": [
       "<div>\n",
       "<style>\n",
       "    .dataframe thead tr:only-child th {\n",
       "        text-align: right;\n",
       "    }\n",
       "\n",
       "    .dataframe thead th {\n",
       "        text-align: left;\n",
       "    }\n",
       "\n",
       "    .dataframe tbody tr th {\n",
       "        vertical-align: top;\n",
       "    }\n",
       "</style>\n",
       "<table border=\"1\" class=\"dataframe\">\n",
       "  <thead>\n",
       "    <tr style=\"text-align: right;\">\n",
       "      <th></th>\n",
       "      <th>sepal_length_(cm)</th>\n",
       "      <th>sepal_width_(cm)</th>\n",
       "      <th>petal_length_(cm)</th>\n",
       "      <th>petal_width_(cm)</th>\n",
       "      <th>target</th>\n",
       "    </tr>\n",
       "  </thead>\n",
       "  <tbody>\n",
       "    <tr>\n",
       "      <th>target</th>\n",
       "      <td>0.782561</td>\n",
       "      <td>-0.419446</td>\n",
       "      <td>0.949043</td>\n",
       "      <td>0.956464</td>\n",
       "      <td>1.000000</td>\n",
       "    </tr>\n",
       "    <tr>\n",
       "      <th>petal_width_(cm)</th>\n",
       "      <td>0.817954</td>\n",
       "      <td>-0.356544</td>\n",
       "      <td>0.962757</td>\n",
       "      <td>1.000000</td>\n",
       "      <td>0.956464</td>\n",
       "    </tr>\n",
       "    <tr>\n",
       "      <th>petal_length_(cm)</th>\n",
       "      <td>0.871754</td>\n",
       "      <td>-0.420516</td>\n",
       "      <td>1.000000</td>\n",
       "      <td>0.962757</td>\n",
       "      <td>0.949043</td>\n",
       "    </tr>\n",
       "    <tr>\n",
       "      <th>sepal_length_(cm)</th>\n",
       "      <td>1.000000</td>\n",
       "      <td>-0.109369</td>\n",
       "      <td>0.871754</td>\n",
       "      <td>0.817954</td>\n",
       "      <td>0.782561</td>\n",
       "    </tr>\n",
       "    <tr>\n",
       "      <th>sepal_width_(cm)</th>\n",
       "      <td>-0.109369</td>\n",
       "      <td>1.000000</td>\n",
       "      <td>-0.420516</td>\n",
       "      <td>-0.356544</td>\n",
       "      <td>-0.419446</td>\n",
       "    </tr>\n",
       "  </tbody>\n",
       "</table>\n",
       "</div>"
      ],
      "text/plain": [
       "                   sepal_length_(cm)  sepal_width_(cm)  petal_length_(cm)  \\\n",
       "target                      0.782561         -0.419446           0.949043   \n",
       "petal_width_(cm)            0.817954         -0.356544           0.962757   \n",
       "petal_length_(cm)           0.871754         -0.420516           1.000000   \n",
       "sepal_length_(cm)           1.000000         -0.109369           0.871754   \n",
       "sepal_width_(cm)           -0.109369          1.000000          -0.420516   \n",
       "\n",
       "                   petal_width_(cm)    target  \n",
       "target                     0.956464  1.000000  \n",
       "petal_width_(cm)           1.000000  0.956464  \n",
       "petal_length_(cm)          0.962757  0.949043  \n",
       "sepal_length_(cm)          0.817954  0.782561  \n",
       "sepal_width_(cm)          -0.356544 -0.419446  "
      ]
     },
     "execution_count": 178,
     "metadata": {},
     "output_type": "execute_result"
    }
   ],
   "source": [
    "# Output in a pandas dataframe a correlation matrix with rows sorted according to features most\n",
    "# highly correlated with the target column:\n",
    "pd.DataFrame(irisdf.corr()).sort_values('target', ascending=False)"
   ]
  },
  {
   "cell_type": "code",
   "execution_count": 179,
   "metadata": {},
   "outputs": [
    {
     "name": "stdout",
     "output_type": "stream",
     "text": [
      "                   petal_width_(cm)  petal_length_(cm)  sepal_length_(cm)  \\\n",
      "petal_width_(cm)           1.000000           0.962757           0.817954   \n",
      "petal_length_(cm)          0.962757           1.000000           0.871754   \n",
      "sepal_length_(cm)          0.817954           0.871754           1.000000   \n",
      "sepal_width_(cm)          -0.356544          -0.420516          -0.109369   \n",
      "target                     0.956464           0.949043           0.782561   \n",
      "\n",
      "                   sepal_width_(cm)    target  \n",
      "petal_width_(cm)          -0.356544  0.956464  \n",
      "petal_length_(cm)         -0.420516  0.949043  \n",
      "sepal_length_(cm)         -0.109369  0.782561  \n",
      "sepal_width_(cm)           1.000000 -0.419446  \n",
      "target                    -0.419446  1.000000  \n"
     ]
    },
    {
     "data": {
      "text/plain": [
       "<matplotlib.axes._subplots.AxesSubplot at 0x1a2101f8d0>"
      ]
     },
     "execution_count": 179,
     "metadata": {},
     "output_type": "execute_result"
    },
    {
     "data": {
      "image/png": "[encoded data removed]",
      "text/plain": [
       "<matplotlib.figure.Figure at 0x1a20d6f650>"
      ]
     },
     "metadata": {},
     "output_type": "display_data"
    }
   ],
   "source": [
    "cmap2 = sns.diverging_palette(220, 10, as_cmap=True)\n",
    "\n",
    "correlations = irisdf[['petal_width_(cm)', 'petal_length_(cm)', 'sepal_length_(cm)', 'sepal_width_(cm)', 'target']].corr()\n",
    "print(correlations)\n",
    "sns.heatmap(correlations, cmap=cmap2, vmin=-1, vmax=1, annot=True)"
   ]
  },
  {
   "cell_type": "markdown",
   "metadata": {},
   "source": [
    "---\n",
    "\n",
    "# Build a Classifier\n",
    "* Start with `'petal_length_(cm)'`\n",
    "* What's a good cut off value, given the plot you saw above?"
   ]
  },
  {
   "cell_type": "markdown",
   "metadata": {},
   "source": [
    "### From Powerpoint\n",
    "\n",
    "1. Re-explore the iris dataset and build a program that classifies each data point. Use if-else statements and some Pandas functions.\n",
    "2. Measure the accuracy of your classifier using the math of “total correct” over “total samples”.\n",
    "3. Your classifier should be able to:\n",
    "a. Get one class label 100% correct (one type of iris is easily\n",
    "distinguishable from the other two).\n",
    "b. Accurately predict the majority of the other two classes with\n",
    "some error (hint: make sure you generalize)."
   ]
  },
  {
   "cell_type": "code",
   "execution_count": 180,
   "metadata": {
    "collapsed": true
   },
   "outputs": [],
   "source": [
    "# Build a function that classifies each data point according to criteria you set for one feature: my_classifier\n",
    "\n",
    "def my_binary_classifier(row):\n",
    "    \"\"\"Function takes in a row of a dataframe and assigns a label of 0 or 1 based on its value\"\"\"\n",
    "    if row['petal_length_(cm)'] < 2:\n",
    "        return 0\n",
    "    else:\n",
    "        return 1\n",
    "\n",
    "# Create a Series of predictions by applying your classifier function: predictions\n",
    "predictions = irisdf.apply(my_binary_classifier, axis=1)\n",
    "# source: http://jonathansoma.com/lede/foundations/classes/pandas%20columns%20and%20functions/apply-a-function-to-every-row-in-a-pandas-dataframe/"
   ]
  },
  {
   "cell_type": "code",
   "execution_count": 181,
   "metadata": {
    "collapsed": true
   },
   "outputs": [],
   "source": [
    "# Let's apply the colormap to the predictions series to give it the same great color as 'ctarget': 'cpredictions'\n",
    "cpredictions = predictions.apply(lambda x: cmap[str(x)])"
   ]
  },
  {
   "cell_type": "markdown",
   "metadata": {},
   "source": [
    "### Plot the original clustering of labels with the predictions by using 'ctarget' and 'cpredictions' to visually evaluate our 'model'. How well did our prediction criteria do?"
   ]
  },
  {
   "cell_type": "code",
   "execution_count": 182,
   "metadata": {},
   "outputs": [
    {
     "data": {
      "text/plain": [
       "<matplotlib.axes._subplots.AxesSubplot at 0x1a212a5e90>"
      ]
     },
     "execution_count": 182,
     "metadata": {},
     "output_type": "execute_result"
    },
    {
     "data": {
      "image/png": "[encoded data removed]",
      "text/plain": [
       "<matplotlib.figure.Figure at 0x1a20d90110>"
      ]
     },
     "metadata": {},
     "output_type": "display_data"
    },
    {
     "data": {
      "image/png": "[encoded data removed]",
      "text/plain": [
       "<matplotlib.figure.Figure at 0x1a2127e550>"
      ]
     },
     "metadata": {},
     "output_type": "display_data"
    }
   ],
   "source": [
    "# Use pandas plot on the dataframe to look at label by petal length and width.\n",
    "irisdf.plot('petal_length_(cm)', 'petal_width_(cm)', kind='scatter', c=irisdf.ctarget)\n",
    "irisdf.plot('petal_length_(cm)', 'petal_width_(cm)', kind='scatter', c=cpredictions)"
   ]
  },
  {
   "cell_type": "markdown",
   "metadata": {},
   "source": [
    "### Calculate the accuracy of your prediction by creating a function to calculate total correct predictions over total samples:"
   ]
  },
  {
   "cell_type": "code",
   "execution_count": 183,
   "metadata": {
    "collapsed": true
   },
   "outputs": [],
   "source": [
    "# Let's see the total true / total number of samples:\n",
    "def prediction_accuracy(df_actuals, preds):\n",
    "    \"\"\"This function takes in the target values and \n",
    "    a Series of predictions and returns the total correct\n",
    "    over total samples as a decimal\"\"\"\n",
    "    count = 0\n",
    "    if len(df_actuals) == len(preds):\n",
    "        n = len(df_actuals)\n",
    "        for i in range(0,n):\n",
    "            if df_actuals[i]==preds[i]:\n",
    "                count+=1\n",
    "        return count/n\n",
    "    else:\n",
    "        print('The series are not the same length')"
   ]
  },
  {
   "cell_type": "code",
   "execution_count": 184,
   "metadata": {},
   "outputs": [
    {
     "data": {
      "text/plain": [
       "0.6666666666666666"
      ]
     },
     "execution_count": 184,
     "metadata": {},
     "output_type": "execute_result"
    }
   ],
   "source": [
    "# Output the prediction accuracy for your classifier using your fuunction\n",
    "prediction_accuracy(irisdf.ctarget, cpredictions)"
   ]
  },
  {
   "cell_type": "markdown",
   "metadata": {},
   "source": [
    "## BONUS:\n",
    "### We've predicted using petal length < 2 cm, let's create a more sophisticated approach:\n",
    "* Either create a function that generalizes to allow a user to define the feature and cut off value.\n",
    "* Or, create a multi-label function that assigns 0, 1 and 2 labels, depending on the cut-off values.\n",
    "\n",
    "* Once you have finished, output your predictions and calculate your accuracy."
   ]
  },
  {
   "cell_type": "code",
   "execution_count": 195,
   "metadata": {
    "collapsed": true
   },
   "outputs": [],
   "source": [
    "# creating a multi-label function that assigns 0,1, and 2 labels depending on the cut-off values\n",
    "\n",
    "def my_iris_classifier(row):\n",
    "    \"\"\"Function takes in a row of a dataframe and assigns a label of 0 or 1 based on its value\"\"\"\n",
    "    if row['petal_length_(cm)'] < 2:\n",
    "        return 0\n",
    "    elif row['petal_length_(cm)'] < 5.1:\n",
    "        return 1\n",
    "    else:\n",
    "        return 2\n",
    "\n",
    "# Create a Series of predictions by applying your classifier function: predictions\n",
    "mpredictions = irisdf.apply(my_iris_classifier, axis=1)"
   ]
  },
  {
   "cell_type": "code",
   "execution_count": 196,
   "metadata": {
    "collapsed": true
   },
   "outputs": [],
   "source": [
    "testpredictions = mpredictions.apply(lambda x: cmap[str(x)])"
   ]
  },
  {
   "cell_type": "code",
   "execution_count": 197,
   "metadata": {},
   "outputs": [
    {
     "data": {
      "text/plain": [
       "<matplotlib.axes._subplots.AxesSubplot at 0x1a20ca1c90>"
      ]
     },
     "execution_count": 197,
     "metadata": {},
     "output_type": "execute_result"
    },
    {
     "data": {
      "image/png": "[encoded data removed]",
      "text/plain": [
       "<matplotlib.figure.Figure at 0x1a21353550>"
      ]
     },
     "metadata": {},
     "output_type": "display_data"
    },
    {
     "data": {
      "image/png": "[encoded data removed]",
      "text/plain": [
       "<matplotlib.figure.Figure at 0x1a20c75f90>"
      ]
     },
     "metadata": {},
     "output_type": "display_data"
    }
   ],
   "source": [
    "# Use pandas plot on the dataframe to look at label by petal length and width.\n",
    "irisdf.plot('petal_length_(cm)', 'petal_width_(cm)', kind='scatter', c=irisdf.ctarget)\n",
    "irisdf.plot('petal_length_(cm)', 'petal_width_(cm)', kind='scatter', c=testpredictions)"
   ]
  },
  {
   "cell_type": "code",
   "execution_count": 188,
   "metadata": {},
   "outputs": [
    {
     "data": {
      "text/plain": [
       "0.9333333333333333"
      ]
     },
     "execution_count": 188,
     "metadata": {},
     "output_type": "execute_result"
    }
   ],
   "source": [
    "prediction_accuracy(irisdf.ctarget, testpredictions)"
   ]
  },
  {
   "cell_type": "markdown",
   "metadata": {},
   "source": [
    "## Questions from Slide Deck\n",
    "1. How simple could the if-else classifier be while remaining relatively accurate?\n",
    "2. How complicated could our if-else classifier be and remain completely accurate? How many if-else statements would you need, or nested if-else statements, in order to get the classifier 100% accurate? (The above uses a count of 2).\n",
    "3. Which if-else classifier would work better against iris data that it hasn't seen? Why is that the case?"
   ]
  },
  {
   "cell_type": "markdown",
   "metadata": {},
   "source": [
    "# 1) Fit a knn model, \n",
    "\n",
    "# 2) Use train_test_split() vs. cross_val_score() to validate the model \n",
    "> cross_val_score() can be a more reliable estimate of out-of-sample performance than train/test split alone\n",
    "Reduced variance on a single trial of a train/test split\n",
    "\n",
    "# 3) GridSearchCV to tune the knn model hyperparamaters for n_neighbors and weight"
   ]
  },
  {
   "cell_type": "markdown",
   "metadata": {},
   "source": [
    "---\n",
    "\n",
    "\n",
    "# 1) K-Nearest Neighbors in Action:\n",
    "\n",
    "* Documentation: http://scikit-learn.org/stable/modules/generated/sklearn.neighbors.KNeighborsClassifier.html\n",
    "* `class sklearn.neighbors.KNeighborsClassifier(n_neighbors=5, weights=’uniform’, algorithm=’auto’, leaf_size=30, p=2, metric=’minkowski’, metric_params=None, n_jobs=1, **kwargs)`"
   ]
  },
  {
   "cell_type": "code",
   "execution_count": 271,
   "metadata": {
    "collapsed": true
   },
   "outputs": [],
   "source": [
    "# import sklearn KNeighborsClassifier:\n",
    "from sklearn.neighbors import KNeighborsClassifier"
   ]
  },
  {
   "cell_type": "code",
   "execution_count": 272,
   "metadata": {
    "collapsed": true
   },
   "outputs": [],
   "source": [
    "# Load iris again if you have altered the original, otherwise, you don't have to reload:\n",
    "iris = datasets.load_iris()"
   ]
  },
  {
   "cell_type": "code",
   "execution_count": 273,
   "metadata": {},
   "outputs": [
    {
     "data": {
      "text/plain": [
       "KNeighborsClassifier(algorithm='auto', leaf_size=30, metric='minkowski',\n",
       "           metric_params=None, n_jobs=1, n_neighbors=5, p=2,\n",
       "           weights='uniform')"
      ]
     },
     "execution_count": 273,
     "metadata": {},
     "output_type": "execute_result"
    }
   ],
   "source": [
    "# Instantiate the knn model again with weights='uniform' and 5 neighbors:\n",
    "# `n_neighbors` is our parameter of interest in KNN. We'll find the optimal value of n_neighbors later:\n",
    "knn = KNeighborsClassifier(n_neighbors=5, weights='uniform')\n",
    "\n",
    "# Create model: X, y\n",
    "X = iris.data[:,2:]\n",
    "# all the rows, from 3rd column onwards\n",
    "y = iris.target\n",
    "\n",
    "# Fit knn to our data columns 2:4 against the target\n",
    "knn.fit(X,y)"
   ]
  },
  {
   "cell_type": "markdown",
   "metadata": {},
   "source": [
    "## Compare predictions vs. actuals and calculate accuracy using `knn.score()`"
   ]
  },
  {
   "cell_type": "code",
   "execution_count": 274,
   "metadata": {
    "scrolled": true
   },
   "outputs": [
    {
     "name": "stdout",
     "output_type": "stream",
     "text": [
      "('Predictions:', array([0, 0, 0, 0, 0, 0, 0, 0, 0, 0, 0, 0, 0, 0, 0, 0, 0, 0, 0, 0, 0, 0, 0,\n",
      "       0, 0, 0, 0, 0, 0, 0, 0, 0, 0, 0, 0, 0, 0, 0, 0, 0, 0, 0, 0, 0, 0, 0,\n",
      "       0, 0, 0, 0, 1, 1, 1, 1, 1, 1, 1, 1, 1, 1, 1, 1, 1, 1, 1, 1, 1, 1, 1,\n",
      "       1, 2, 1, 1, 1, 1, 1, 1, 2, 1, 1, 1, 1, 1, 2, 1, 1, 1, 1, 1, 1, 1, 1,\n",
      "       1, 1, 1, 1, 1, 1, 1, 1, 2, 2, 2, 2, 2, 2, 1, 2, 2, 2, 2, 2, 2, 2, 2,\n",
      "       2, 2, 2, 2, 1, 2, 2, 2, 2, 2, 2, 2, 2, 2, 2, 2, 2, 2, 1, 2, 2, 2, 2,\n",
      "       2, 2, 2, 2, 2, 2, 2, 2, 2, 2, 2, 2]))\n",
      "('Actuals:', array([0, 0, 0, 0, 0, 0, 0, 0, 0, 0, 0, 0, 0, 0, 0, 0, 0, 0, 0, 0, 0, 0, 0,\n",
      "       0, 0, 0, 0, 0, 0, 0, 0, 0, 0, 0, 0, 0, 0, 0, 0, 0, 0, 0, 0, 0, 0, 0,\n",
      "       0, 0, 0, 0, 1, 1, 1, 1, 1, 1, 1, 1, 1, 1, 1, 1, 1, 1, 1, 1, 1, 1, 1,\n",
      "       1, 1, 1, 1, 1, 1, 1, 1, 1, 1, 1, 1, 1, 1, 1, 1, 1, 1, 1, 1, 1, 1, 1,\n",
      "       1, 1, 1, 1, 1, 1, 1, 1, 2, 2, 2, 2, 2, 2, 2, 2, 2, 2, 2, 2, 2, 2, 2,\n",
      "       2, 2, 2, 2, 2, 2, 2, 2, 2, 2, 2, 2, 2, 2, 2, 2, 2, 2, 2, 2, 2, 2, 2,\n",
      "       2, 2, 2, 2, 2, 2, 2, 2, 2, 2, 2, 2]))\n",
      "('Accuracy Score:', 0.95999999999999996)\n"
     ]
    }
   ],
   "source": [
    "# Create the predictions for the knn model:\n",
    "y_preds = knn.predict(X)\n",
    "\n",
    "# Print out the scores for the model\n",
    "print('Predictions:', y_preds)\n",
    "print('Actuals:', y)\n",
    "print('Accuracy Score:', knn.score(X, y))\n"
   ]
  },
  {
   "cell_type": "markdown",
   "metadata": {},
   "source": [
    "## 2a) Cross Validation:\n",
    "\n",
    "* Splitting the data into training and testing data\n",
    " * See documentation http://scikit-learn.org/stable/modules/generated/sklearn.model_selection.train_test_split.html\n",
    "* Cross validation with `cross_val_score`:\n",
    " * `cross_val_score(estimator, X, y=None, groups=None, scoring=None, cv=None, n_jobs=1, verbose=0, fit_params=None, pre_dispatch='2*n_jobs')`\n",
    "* Benefits of cross-validation:\n",
    "  - More reliable estimate of out-of-sample performance than train/test split alone\n",
    "  - Reduced variance on a single trial of a train/test split\n",
    "* Great for:\n",
    "  - Selecting tuning parameters\n",
    "  - Choosing between models\n",
    "  - Selecting features\n",
    "* Drawbacks of cross-validation:\n",
    "  - Can be computationally expensive when data is very large or the model training is slow"
   ]
  },
  {
   "cell_type": "code",
   "execution_count": 275,
   "metadata": {
    "collapsed": true
   },
   "outputs": [],
   "source": [
    "from sklearn.model_selection import cross_val_score, train_test_split"
   ]
  },
  {
   "cell_type": "code",
   "execution_count": 276,
   "metadata": {},
   "outputs": [
    {
     "name": "stdout",
     "output_type": "stream",
     "text": [
      "((100, 2), (50, 2), (100,), (50,))\n"
     ]
    }
   ],
   "source": [
    "# Split the data into training and testing with a 0.33 test_size and random_state of 42\n",
    "# Do three folds, because for each fold, you get 1/3 of the training as a test holdout and 2/3 of the training as your training, \n",
    "# then you shuffle and the next 1/3 in line gets to play the part of the test holdout and the remaining 2/3 is the training, \n",
    "# and then you shuffle one last time with the last 1/3 playing the test holdout.\n",
    "X_train, X_test, y_train, y_test = train_test_split(X,y, test_size=0.33,random_state=42)\n",
    "\n",
    "# For random_state =42 --> everytime you use 42, you will always get the same output the first time you make the split. \n",
    "# This is useful if you want reproducible results\n",
    "\n",
    "# Print out the shapes to make sure we have done the train and test split correctly\n",
    "print(X_train.shape, X_test.shape, y_train.shape, y_test.shape)"
   ]
  },
  {
   "cell_type": "code",
   "execution_count": 277,
   "metadata": {
    "collapsed": true
   },
   "outputs": [],
   "source": [
    "# Fit the model onto the training data\n",
    "model = knn.fit(X_train,y_train)"
   ]
  },
  {
   "cell_type": "code",
   "execution_count": 278,
   "metadata": {
    "scrolled": false
   },
   "outputs": [
    {
     "name": "stdout",
     "output_type": "stream",
     "text": [
      "('Testing Data Score:', 0.97999999999999998, ',', 'Training Data Score:', 0.95999999999999996)\n",
      "('Cross Validated Scores on 3 Folds:', array([ 1.    ,  1.    ,  0.9375]))\n",
      "('Mean Cross Validated Score Across 3 Folds:', 0.97916666666666663)\n"
     ]
    }
   ],
   "source": [
    "print('Testing Data Score:', knn.score(X_test, y_test), ',', 'Training Data Score:', knn.score(X_train, y_train))\n",
    "print('Cross Validated Scores on 3 Folds:', cross_val_score(knn, X_test, y_test, cv=3))\n",
    "print(\"Mean Cross Validated Score Across 3 Folds:\", cross_val_score(knn, X_test, y_test, cv=3).mean())"
   ]
  },
  {
   "cell_type": "code",
   "execution_count": 279,
   "metadata": {},
   "outputs": [
    {
     "name": "stdout",
     "output_type": "stream",
     "text": [
      "0.98\n"
     ]
    }
   ],
   "source": [
    "print model.score(X_test, y_test)"
   ]
  },
  {
   "cell_type": "markdown",
   "metadata": {},
   "source": [
    "## Solving for K:\n",
    "* What is the accuracy for k=1?\n",
    "> For the first one, instantiate the kNN object with `n_neighbors=1` instead of the default of five. After running the model with one neighbor (k=1), assess the accuracy of said model.\n",
    "> Accuracy (n_neighbors=1)= 0.99333333333333329\n",
    "* What is the accuracy for k=n-1?\n",
    "> The second one looks like the number of samples minus1 (n-1). How many samples are in Iris again? 150\n",
    "> Accuracy (n_neighbors=149)= 0.5933333\n",
    "* Using cross validation, what value of k optimizes model accuracy.  \n",
    "> Value K=1 optimizes model accuracy\n",
    "\n",
    "**Using the command:**\n",
    "- ymax = np.argmax(k_scores), max(k_scores) \n",
    "- print ymax\n",
    "\n",
    "\n",
    "* Create a plot with k as the x-axis and accuracy as the y-axis (called a “fit chart”) to help find the answer.\n",
    "> see chart below with plot"
   ]
  },
  {
   "cell_type": "code",
   "execution_count": 283,
   "metadata": {},
   "outputs": [
    {
     "name": "stdout",
     "output_type": "stream",
     "text": [
      "[0.97916666666666663, 0.97916666666666663, 0.97916666666666663, 0.97916666666666663, 0.97916666666666663, 0.96064814814814825, 0.96064814814814825, 0.96064814814814825, 0.97916666666666663, 0.96064814814814825, 0.96064814814814825, 0.93981481481481488, 0.93981481481481488, 0.93981481481481488, 1.0, 0.98148148148148151, 0.98148148148148151, 0.93981481481481488, 0.98148148148148151, 0.82638888888888884, 0.74305555555555547, 0.74305555555555547, 0.74305555555555547, 0.74305555555555547, 0.74305555555555547, 0.74305555555555547, 0.70370370370370372, 0.70370370370370372, 0.70370370370370372, 0.58796296296296291, 0.58796296296296291]\n",
      "1.0\n"
     ]
    }
   ],
   "source": [
    "# Set an upper range for the number of nearest neighbors N: 2 of 3 folds of the length of test data\n",
    "upper_k = np.int(.66 * len(X_test))\n",
    "\n",
    "# Range to sort through to find optimal number of k:\n",
    "k_range = range(1, upper_k -1)\n",
    "\n",
    "# List to store scores for each k in k_range\n",
    "k_scores = []\n",
    "\n",
    "# Loop through values of k and find mean score of knn at the n_neighbors\n",
    "for k in k_range:\n",
    "    # Run KNeighborsClassifier with k neighbours\n",
    "    knn = KNeighborsClassifier(n_neighbors=k)\n",
    "    knn.fit(X_train, y_train)\n",
    "    # Obtain cross_val_score for KNeighborsClassifier with k neighbours\n",
    "    scores = cross_val_score(knn, X_test, y_test, cv=3, scoring='accuracy')\n",
    "    # Append mean of scores for k neighbors to k_scores list\n",
    "    k_scores.append(scores.mean())\n",
    "print(k_scores)\n",
    "\n",
    "print max(k_scores)"
   ]
  },
  {
   "cell_type": "code",
   "execution_count": 282,
   "metadata": {},
   "outputs": [
    {
     "data": {
      "text/plain": [
       "Text(0,0.5,u'Cross-Validated Accuracy')"
      ]
     },
     "execution_count": 282,
     "metadata": {},
     "output_type": "execute_result"
    },
    {
     "data": {
      "image/png": "[encoded data removed]",
      "text/plain": [
       "<matplotlib.figure.Figure at 0x1a20375c50>"
      ]
     },
     "metadata": {},
     "output_type": "display_data"
    }
   ],
   "source": [
    "# Plot the scores by number of neighbors to see optimal k:\n",
    "# plot the value of K for KNN (x-axis) versus the cross-validated accuracy (y-axis)\n",
    "plt.plot(k_range, k_scores)\n",
    "plt.xlabel('Value of K for KNN')\n",
    "plt.ylabel('Cross-Validated Accuracy')"
   ]
  },
  {
   "cell_type": "code",
   "execution_count": 289,
   "metadata": {},
   "outputs": [
    {
     "name": "stdout",
     "output_type": "stream",
     "text": [
      "('Index:', 14, 'Maximum Accuracy:', 1.0)\n"
     ]
    }
   ],
   "source": [
    "ymax = np.argmax(k_scores)\n",
    "max_acc = max(k_scores);\n",
    "print(\"Index:\", ymax, \"Maximum Accuracy:\", max_acc)\n",
    "\n",
    "#ymax = np.argmax(k_scores), max(k_scores)\n",
    "# print ymax"
   ]
  },
  {
   "cell_type": "markdown",
   "metadata": {},
   "source": [
    "## Improve Efficiency with a Grid Search\n",
    "\n",
    "* We know we want to test a range of k (number of nearest neighbors to use in determining class label\n",
    "* We might also consider the weights parameter for distance between points in a neighborhood:\n",
    "    - uniform: all points in the neighborhood are weighted equally\n",
    "    - distance: weights closer neighbors more heavily than further neighbors"
   ]
  },
  {
   "cell_type": "code",
   "execution_count": 290,
   "metadata": {
    "collapsed": true
   },
   "outputs": [],
   "source": [
    "# Import GridSearchCV\n",
    "from sklearn.model_selection import GridSearchCV"
   ]
  },
  {
   "cell_type": "code",
   "execution_count": 293,
   "metadata": {},
   "outputs": [
    {
     "name": "stdout",
     "output_type": "stream",
     "text": [
      "('Accuracy Score for testing data', 0.97999999999999998)\n"
     ]
    }
   ],
   "source": [
    "# Define the parameter values across which gridsearch will ...you know...search: k_range\n",
    "k_range = range(1, upper_k -1)\n",
    "\n",
    "# we create a list for weights: weight_options\n",
    "weight_options = ['uniform', 'distance']\n",
    "\n",
    "# Reinstantiate the Classifer without hyperparamaters: knn\n",
    "knn = KNeighborsClassifier()\n",
    "\n",
    "# Create a parameter grid using a dictionary: map parameter names to values the grid should search: param_grid\n",
    "param_grid = {\n",
    "    'n_neighbors':k_range,\n",
    "    'weights' : weight_options\n",
    "}\n",
    "\n",
    "# Instantiate the grid with the param_grid and 3 fold CV: grid\n",
    "grid = GridSearchCV(knn, param_grid, cv=3, scoring='accuracy', return_train_score=True)\n",
    "\n",
    "# Fit the grid on training data and get the score for testing data:\n",
    "grid.fit(X_train, y_train)\n",
    "accuracy_score = grid.score(X_test, y_test)\n",
    "\n",
    "print(\"Accuracy Score for testing data\", accuracy_score)"
   ]
  },
  {
   "cell_type": "code",
   "execution_count": 295,
   "metadata": {},
   "outputs": [
    {
     "data": {
      "text/plain": [
       "62"
      ]
     },
     "execution_count": 295,
     "metadata": {},
     "output_type": "execute_result"
    }
   ],
   "source": [
    "len(grid.cv_results_['mean_test_score'])\n",
    "# Yes, you want to print out all of the mean test scores so to create the print range, you get the length of that list first to put in the range. \n",
    "# Then you iterate over each one and print!"
   ]
  },
  {
   "cell_type": "code",
   "execution_count": 296,
   "metadata": {
    "scrolled": true
   },
   "outputs": [
    {
     "name": "stdout",
     "output_type": "stream",
     "text": [
      "(0.93000000000000005, {'n_neighbors': 1, 'weights': 'uniform'})\n",
      "(0.93000000000000005, {'n_neighbors': 1, 'weights': 'distance'})\n",
      "(0.93000000000000005, {'n_neighbors': 2, 'weights': 'uniform'})\n",
      "(0.93000000000000005, {'n_neighbors': 2, 'weights': 'distance'})\n",
      "(0.93000000000000005, {'n_neighbors': 3, 'weights': 'uniform'})\n",
      "(0.93000000000000005, {'n_neighbors': 3, 'weights': 'distance'})\n",
      "(0.93000000000000005, {'n_neighbors': 4, 'weights': 'uniform'})\n",
      "(0.93000000000000005, {'n_neighbors': 4, 'weights': 'distance'})\n",
      "(0.94999999999999996, {'n_neighbors': 5, 'weights': 'uniform'})\n",
      "(0.94999999999999996, {'n_neighbors': 5, 'weights': 'distance'})\n",
      "(0.93999999999999995, {'n_neighbors': 6, 'weights': 'uniform'})\n",
      "(0.93000000000000005, {'n_neighbors': 6, 'weights': 'distance'})\n",
      "(0.94999999999999996, {'n_neighbors': 7, 'weights': 'uniform'})\n",
      "(0.93000000000000005, {'n_neighbors': 7, 'weights': 'distance'})\n",
      "(0.93999999999999995, {'n_neighbors': 8, 'weights': 'uniform'})\n",
      "(0.93000000000000005, {'n_neighbors': 8, 'weights': 'distance'})\n",
      "(0.93999999999999995, {'n_neighbors': 9, 'weights': 'uniform'})\n",
      "(0.93000000000000005, {'n_neighbors': 9, 'weights': 'distance'})\n",
      "(0.93000000000000005, {'n_neighbors': 10, 'weights': 'uniform'})\n",
      "(0.93000000000000005, {'n_neighbors': 10, 'weights': 'distance'})\n",
      "(0.93999999999999995, {'n_neighbors': 11, 'weights': 'uniform'})\n",
      "(0.93999999999999995, {'n_neighbors': 11, 'weights': 'distance'})\n",
      "(0.93000000000000005, {'n_neighbors': 12, 'weights': 'uniform'})\n",
      "(0.93000000000000005, {'n_neighbors': 12, 'weights': 'distance'})\n",
      "(0.93000000000000005, {'n_neighbors': 13, 'weights': 'uniform'})\n",
      "(0.93999999999999995, {'n_neighbors': 13, 'weights': 'distance'})\n",
      "(0.93000000000000005, {'n_neighbors': 14, 'weights': 'uniform'})\n",
      "(0.93999999999999995, {'n_neighbors': 14, 'weights': 'distance'})\n",
      "(0.93000000000000005, {'n_neighbors': 15, 'weights': 'uniform'})\n",
      "(0.93999999999999995, {'n_neighbors': 15, 'weights': 'distance'})\n",
      "(0.93999999999999995, {'n_neighbors': 16, 'weights': 'uniform'})\n",
      "(0.93999999999999995, {'n_neighbors': 16, 'weights': 'distance'})\n",
      "(0.93999999999999995, {'n_neighbors': 17, 'weights': 'uniform'})\n",
      "(0.93999999999999995, {'n_neighbors': 17, 'weights': 'distance'})\n",
      "(0.93999999999999995, {'n_neighbors': 18, 'weights': 'uniform'})\n",
      "(0.93999999999999995, {'n_neighbors': 18, 'weights': 'distance'})\n",
      "(0.93000000000000005, {'n_neighbors': 19, 'weights': 'uniform'})\n",
      "(0.93999999999999995, {'n_neighbors': 19, 'weights': 'distance'})\n",
      "(0.93999999999999995, {'n_neighbors': 20, 'weights': 'uniform'})\n",
      "(0.93000000000000005, {'n_neighbors': 20, 'weights': 'distance'})\n",
      "(0.94999999999999996, {'n_neighbors': 21, 'weights': 'uniform'})\n",
      "(0.93999999999999995, {'n_neighbors': 21, 'weights': 'distance'})\n",
      "(0.93999999999999995, {'n_neighbors': 22, 'weights': 'uniform'})\n",
      "(0.93000000000000005, {'n_neighbors': 22, 'weights': 'distance'})\n",
      "(0.93999999999999995, {'n_neighbors': 23, 'weights': 'uniform'})\n",
      "(0.93000000000000005, {'n_neighbors': 23, 'weights': 'distance'})\n",
      "(0.93000000000000005, {'n_neighbors': 24, 'weights': 'uniform'})\n",
      "(0.93000000000000005, {'n_neighbors': 24, 'weights': 'distance'})\n",
      "(0.93999999999999995, {'n_neighbors': 25, 'weights': 'uniform'})\n",
      "(0.93000000000000005, {'n_neighbors': 25, 'weights': 'distance'})\n",
      "(0.93999999999999995, {'n_neighbors': 26, 'weights': 'uniform'})\n",
      "(0.93000000000000005, {'n_neighbors': 26, 'weights': 'distance'})\n",
      "(0.93999999999999995, {'n_neighbors': 27, 'weights': 'uniform'})\n",
      "(0.93999999999999995, {'n_neighbors': 27, 'weights': 'distance'})\n",
      "(0.93999999999999995, {'n_neighbors': 28, 'weights': 'uniform'})\n",
      "(0.93000000000000005, {'n_neighbors': 28, 'weights': 'distance'})\n",
      "(0.94999999999999996, {'n_neighbors': 29, 'weights': 'uniform'})\n",
      "(0.93000000000000005, {'n_neighbors': 29, 'weights': 'distance'})\n",
      "(0.93000000000000005, {'n_neighbors': 30, 'weights': 'uniform'})\n",
      "(0.93000000000000005, {'n_neighbors': 30, 'weights': 'distance'})\n",
      "(0.93000000000000005, {'n_neighbors': 31, 'weights': 'uniform'})\n",
      "(0.93000000000000005, {'n_neighbors': 31, 'weights': 'distance'})\n"
     ]
    }
   ],
   "source": [
    "# View the complete results (it's a list of named tuples)\n",
    "for i in range(0, 62):\n",
    "    print(grid.cv_results_['mean_test_score'][i], grid.cv_results_['params'][i])"
   ]
  },
  {
   "cell_type": "code",
   "execution_count": 297,
   "metadata": {},
   "outputs": [
    {
     "data": {
      "text/plain": [
       "{'mean_fit_time': array([ 0.00041366,  0.00033442,  0.00034078,  0.00027863,  0.00029572,\n",
       "         0.00027506,  0.0003256 ,  0.00032989,  0.00051713,  0.00030939,\n",
       "         0.00057737,  0.00041366,  0.0003039 ,  0.00036152,  0.0003051 ,\n",
       "         0.00031829,  0.00030239,  0.00028634,  0.00033204,  0.00029929,\n",
       "         0.00036263,  0.0003043 ,  0.00036065,  0.00028133,  0.00035826,\n",
       "         0.000295  ,  0.00027808,  0.00028968,  0.00026894,  0.00029564,\n",
       "         0.00027037,  0.00027267,  0.00038671,  0.00037201,  0.00027037,\n",
       "         0.00045427,  0.00031734,  0.00029167,  0.00028292,  0.00026957,\n",
       "         0.0002679 ,  0.00026941,  0.0002714 ,  0.00026862,  0.00026862,\n",
       "         0.00027394,  0.00038187,  0.00034507,  0.00033863,  0.00029238,\n",
       "         0.00037734,  0.00034507,  0.00027474,  0.00039792,  0.00028928,\n",
       "         0.00026822,  0.00026838,  0.00026766,  0.00026806,  0.00026735,\n",
       "         0.00026766,  0.00027307]),\n",
       " 'mean_score_time': array([ 0.0008707 ,  0.00058826,  0.00065891,  0.00055734,  0.00055695,\n",
       "         0.00061131,  0.00056267,  0.00081841,  0.00075817,  0.00100056,\n",
       "         0.00097569,  0.00064747,  0.00062108,  0.00084901,  0.00063467,\n",
       "         0.00066376,  0.00065668,  0.00061997,  0.00069634,  0.00067465,\n",
       "         0.00064603,  0.0006663 ,  0.00062132,  0.00078408,  0.00067472,\n",
       "         0.00060105,  0.00061591,  0.00059772,  0.00062013,  0.00063372,\n",
       "         0.00062299,  0.00061107,  0.00077573,  0.0008173 ,  0.00057991,\n",
       "         0.00100907,  0.00068458,  0.00069968,  0.00058174,  0.00061671,\n",
       "         0.00063038,  0.00062029,  0.00063475,  0.0006237 ,  0.0006357 ,\n",
       "         0.00063205,  0.00079012,  0.00078924,  0.00069427,  0.00069666,\n",
       "         0.00093333,  0.00090464,  0.00060264,  0.00105397,  0.00070429,\n",
       "         0.00064174,  0.00064866,  0.00064476,  0.00065033,  0.00065295,\n",
       "         0.00060733,  0.00070262]),\n",
       " 'mean_test_score': array([ 0.93,  0.93,  0.93,  0.93,  0.93,  0.93,  0.93,  0.93,  0.95,\n",
       "         0.95,  0.94,  0.93,  0.95,  0.93,  0.94,  0.93,  0.94,  0.93,\n",
       "         0.93,  0.93,  0.94,  0.94,  0.93,  0.93,  0.93,  0.94,  0.93,\n",
       "         0.94,  0.93,  0.94,  0.94,  0.94,  0.94,  0.94,  0.94,  0.94,\n",
       "         0.93,  0.94,  0.94,  0.93,  0.95,  0.94,  0.94,  0.93,  0.94,\n",
       "         0.93,  0.93,  0.93,  0.94,  0.93,  0.94,  0.93,  0.94,  0.94,\n",
       "         0.94,  0.93,  0.95,  0.93,  0.93,  0.93,  0.93,  0.93]),\n",
       " 'mean_train_score': array([ 0.98996983,  0.98996983,  0.95467797,  0.98996983,  0.95973301,\n",
       "         0.98996983,  0.96470813,  0.98996983,  0.96486121,  0.98996983,\n",
       "         0.96470813,  0.98996983,  0.96003242,  0.98996983,  0.96983634,\n",
       "         0.98996983,  0.96003242,  0.98996983,  0.94487405,  0.98996983,\n",
       "         0.95505729,  0.98996983,  0.95015533,  0.98996983,  0.95015533,\n",
       "         0.98996983,  0.95015533,  0.98996983,  0.95015533,  0.98996983,\n",
       "         0.95513046,  0.98996983,  0.95513046,  0.98996983,  0.95513046,\n",
       "         0.98996983,  0.95505729,  0.98996983,  0.95015533,  0.98996983,\n",
       "         0.94970284,  0.98996983,  0.94502713,  0.98996983,  0.95490421,\n",
       "         0.98996983,  0.94502713,  0.98996983,  0.94502713,  0.98996983,\n",
       "         0.95015533,  0.98996983,  0.95015533,  0.98996983,  0.95015533,\n",
       "         0.98996983,  0.93989892,  0.98996983,  0.94502713,  0.98996983,\n",
       "         0.94502713,  0.98996983]),\n",
       " 'param_n_neighbors': masked_array(data = [1 1 2 2 3 3 4 4 5 5 6 6 7 7 8 8 9 9 10 10 11 11 12 12 13 13 14 14 15 15 16\n",
       "  16 17 17 18 18 19 19 20 20 21 21 22 22 23 23 24 24 25 25 26 26 27 27 28 28\n",
       "  29 29 30 30 31 31],\n",
       "              mask = [False False False False False False False False False False False False\n",
       "  False False False False False False False False False False False False\n",
       "  False False False False False False False False False False False False\n",
       "  False False False False False False False False False False False False\n",
       "  False False False False False False False False False False False False\n",
       "  False False],\n",
       "        fill_value = ?),\n",
       " 'param_weights': masked_array(data = ['uniform' 'distance' 'uniform' 'distance' 'uniform' 'distance' 'uniform'\n",
       "  'distance' 'uniform' 'distance' 'uniform' 'distance' 'uniform' 'distance'\n",
       "  'uniform' 'distance' 'uniform' 'distance' 'uniform' 'distance' 'uniform'\n",
       "  'distance' 'uniform' 'distance' 'uniform' 'distance' 'uniform' 'distance'\n",
       "  'uniform' 'distance' 'uniform' 'distance' 'uniform' 'distance' 'uniform'\n",
       "  'distance' 'uniform' 'distance' 'uniform' 'distance' 'uniform' 'distance'\n",
       "  'uniform' 'distance' 'uniform' 'distance' 'uniform' 'distance' 'uniform'\n",
       "  'distance' 'uniform' 'distance' 'uniform' 'distance' 'uniform' 'distance'\n",
       "  'uniform' 'distance' 'uniform' 'distance' 'uniform' 'distance'],\n",
       "              mask = [False False False False False False False False False False False False\n",
       "  False False False False False False False False False False False False\n",
       "  False False False False False False False False False False False False\n",
       "  False False False False False False False False False False False False\n",
       "  False False False False False False False False False False False False\n",
       "  False False],\n",
       "        fill_value = ?),\n",
       " 'params': [{'n_neighbors': 1, 'weights': 'uniform'},\n",
       "  {'n_neighbors': 1, 'weights': 'distance'},\n",
       "  {'n_neighbors': 2, 'weights': 'uniform'},\n",
       "  {'n_neighbors': 2, 'weights': 'distance'},\n",
       "  {'n_neighbors': 3, 'weights': 'uniform'},\n",
       "  {'n_neighbors': 3, 'weights': 'distance'},\n",
       "  {'n_neighbors': 4, 'weights': 'uniform'},\n",
       "  {'n_neighbors': 4, 'weights': 'distance'},\n",
       "  {'n_neighbors': 5, 'weights': 'uniform'},\n",
       "  {'n_neighbors': 5, 'weights': 'distance'},\n",
       "  {'n_neighbors': 6, 'weights': 'uniform'},\n",
       "  {'n_neighbors': 6, 'weights': 'distance'},\n",
       "  {'n_neighbors': 7, 'weights': 'uniform'},\n",
       "  {'n_neighbors': 7, 'weights': 'distance'},\n",
       "  {'n_neighbors': 8, 'weights': 'uniform'},\n",
       "  {'n_neighbors': 8, 'weights': 'distance'},\n",
       "  {'n_neighbors': 9, 'weights': 'uniform'},\n",
       "  {'n_neighbors': 9, 'weights': 'distance'},\n",
       "  {'n_neighbors': 10, 'weights': 'uniform'},\n",
       "  {'n_neighbors': 10, 'weights': 'distance'},\n",
       "  {'n_neighbors': 11, 'weights': 'uniform'},\n",
       "  {'n_neighbors': 11, 'weights': 'distance'},\n",
       "  {'n_neighbors': 12, 'weights': 'uniform'},\n",
       "  {'n_neighbors': 12, 'weights': 'distance'},\n",
       "  {'n_neighbors': 13, 'weights': 'uniform'},\n",
       "  {'n_neighbors': 13, 'weights': 'distance'},\n",
       "  {'n_neighbors': 14, 'weights': 'uniform'},\n",
       "  {'n_neighbors': 14, 'weights': 'distance'},\n",
       "  {'n_neighbors': 15, 'weights': 'uniform'},\n",
       "  {'n_neighbors': 15, 'weights': 'distance'},\n",
       "  {'n_neighbors': 16, 'weights': 'uniform'},\n",
       "  {'n_neighbors': 16, 'weights': 'distance'},\n",
       "  {'n_neighbors': 17, 'weights': 'uniform'},\n",
       "  {'n_neighbors': 17, 'weights': 'distance'},\n",
       "  {'n_neighbors': 18, 'weights': 'uniform'},\n",
       "  {'n_neighbors': 18, 'weights': 'distance'},\n",
       "  {'n_neighbors': 19, 'weights': 'uniform'},\n",
       "  {'n_neighbors': 19, 'weights': 'distance'},\n",
       "  {'n_neighbors': 20, 'weights': 'uniform'},\n",
       "  {'n_neighbors': 20, 'weights': 'distance'},\n",
       "  {'n_neighbors': 21, 'weights': 'uniform'},\n",
       "  {'n_neighbors': 21, 'weights': 'distance'},\n",
       "  {'n_neighbors': 22, 'weights': 'uniform'},\n",
       "  {'n_neighbors': 22, 'weights': 'distance'},\n",
       "  {'n_neighbors': 23, 'weights': 'uniform'},\n",
       "  {'n_neighbors': 23, 'weights': 'distance'},\n",
       "  {'n_neighbors': 24, 'weights': 'uniform'},\n",
       "  {'n_neighbors': 24, 'weights': 'distance'},\n",
       "  {'n_neighbors': 25, 'weights': 'uniform'},\n",
       "  {'n_neighbors': 25, 'weights': 'distance'},\n",
       "  {'n_neighbors': 26, 'weights': 'uniform'},\n",
       "  {'n_neighbors': 26, 'weights': 'distance'},\n",
       "  {'n_neighbors': 27, 'weights': 'uniform'},\n",
       "  {'n_neighbors': 27, 'weights': 'distance'},\n",
       "  {'n_neighbors': 28, 'weights': 'uniform'},\n",
       "  {'n_neighbors': 28, 'weights': 'distance'},\n",
       "  {'n_neighbors': 29, 'weights': 'uniform'},\n",
       "  {'n_neighbors': 29, 'weights': 'distance'},\n",
       "  {'n_neighbors': 30, 'weights': 'uniform'},\n",
       "  {'n_neighbors': 30, 'weights': 'distance'},\n",
       "  {'n_neighbors': 31, 'weights': 'uniform'},\n",
       "  {'n_neighbors': 31, 'weights': 'distance'}],\n",
       " 'rank_test_score': array([30, 30, 30, 30, 30, 30, 30, 30,  1,  1,  6, 30,  1, 30,  6, 30,  6,\n",
       "        30, 30, 30,  6,  6, 30, 30, 30,  6, 30,  6, 30,  6,  6,  6,  6,  6,\n",
       "         6,  6, 30,  6,  6, 30,  1,  6,  6, 30,  6, 30, 30, 30,  6, 30,  6,\n",
       "        30,  6,  6,  6, 30,  1, 30, 30, 30, 30, 30], dtype=int32),\n",
       " 'split0_test_score': array([ 0.94285714,  0.94285714,  0.94285714,  0.94285714,  0.94285714,\n",
       "         0.94285714,  0.94285714,  0.94285714,  1.        ,  0.97142857,\n",
       "         0.94285714,  0.94285714,  0.97142857,  0.94285714,  0.94285714,\n",
       "         0.94285714,  0.94285714,  0.94285714,  0.94285714,  0.94285714,\n",
       "         0.97142857,  0.97142857,  0.94285714,  0.94285714,  0.94285714,\n",
       "         0.94285714,  0.94285714,  0.94285714,  0.94285714,  0.94285714,\n",
       "         0.94285714,  0.94285714,  0.94285714,  0.94285714,  0.94285714,\n",
       "         0.94285714,  0.94285714,  0.94285714,  0.94285714,  0.94285714,\n",
       "         0.97142857,  0.94285714,  0.94285714,  0.94285714,  0.94285714,\n",
       "         0.94285714,  0.94285714,  0.94285714,  0.94285714,  0.94285714,\n",
       "         0.94285714,  0.94285714,  0.94285714,  0.94285714,  0.94285714,\n",
       "         0.94285714,  0.97142857,  0.94285714,  0.94285714,  0.94285714,\n",
       "         0.94285714,  0.94285714]),\n",
       " 'split0_train_score': array([ 0.98461538,  0.98461538,  0.92307692,  0.98461538,  0.93846154,\n",
       "         0.98461538,  0.93846154,  0.98461538,  0.95384615,  0.98461538,\n",
       "         0.93846154,  0.98461538,  0.95384615,  0.98461538,  0.95384615,\n",
       "         0.98461538,  0.95384615,  0.98461538,  0.92307692,  0.98461538,\n",
       "         0.95384615,  0.98461538,  0.95384615,  0.98461538,  0.95384615,\n",
       "         0.98461538,  0.95384615,  0.98461538,  0.95384615,  0.98461538,\n",
       "         0.95384615,  0.98461538,  0.95384615,  0.98461538,  0.95384615,\n",
       "         0.98461538,  0.95384615,  0.98461538,  0.95384615,  0.98461538,\n",
       "         0.92307692,  0.98461538,  0.93846154,  0.98461538,  0.93846154,\n",
       "         0.98461538,  0.93846154,  0.98461538,  0.93846154,  0.98461538,\n",
       "         0.95384615,  0.98461538,  0.95384615,  0.98461538,  0.95384615,\n",
       "         0.98461538,  0.92307692,  0.98461538,  0.93846154,  0.98461538,\n",
       "         0.93846154,  0.98461538]),\n",
       " 'split1_test_score': array([ 0.87878788,  0.87878788,  0.90909091,  0.87878788,  0.87878788,\n",
       "         0.87878788,  0.90909091,  0.87878788,  0.87878788,  0.90909091,\n",
       "         0.90909091,  0.87878788,  0.90909091,  0.87878788,  0.90909091,\n",
       "         0.87878788,  0.90909091,  0.87878788,  0.87878788,  0.87878788,\n",
       "         0.87878788,  0.87878788,  0.87878788,  0.87878788,  0.87878788,\n",
       "         0.90909091,  0.87878788,  0.90909091,  0.87878788,  0.90909091,\n",
       "         0.90909091,  0.90909091,  0.90909091,  0.90909091,  0.90909091,\n",
       "         0.90909091,  0.87878788,  0.90909091,  0.90909091,  0.87878788,\n",
       "         0.90909091,  0.90909091,  0.90909091,  0.87878788,  0.90909091,\n",
       "         0.87878788,  0.87878788,  0.87878788,  0.90909091,  0.87878788,\n",
       "         0.90909091,  0.87878788,  0.90909091,  0.90909091,  0.90909091,\n",
       "         0.87878788,  0.90909091,  0.87878788,  0.87878788,  0.87878788,\n",
       "         0.87878788,  0.87878788]),\n",
       " 'split1_train_score': array([ 1.        ,  1.        ,  0.98507463,  1.        ,  0.97014925,\n",
       "         1.        ,  0.98507463,  1.        ,  0.97014925,  1.        ,\n",
       "         0.98507463,  1.        ,  0.98507463,  1.        ,  0.98507463,\n",
       "         1.        ,  0.98507463,  1.        ,  0.98507463,  1.        ,\n",
       "         0.97014925,  1.        ,  0.97014925,  1.        ,  0.97014925,\n",
       "         1.        ,  0.97014925,  1.        ,  0.97014925,  1.        ,\n",
       "         0.98507463,  1.        ,  0.98507463,  1.        ,  0.98507463,\n",
       "         1.        ,  0.97014925,  1.        ,  0.97014925,  1.        ,\n",
       "         0.97014925,  1.        ,  0.97014925,  1.        ,  0.98507463,\n",
       "         1.        ,  0.97014925,  1.        ,  0.97014925,  1.        ,\n",
       "         0.97014925,  1.        ,  0.97014925,  1.        ,  0.97014925,\n",
       "         1.        ,  0.97014925,  1.        ,  0.97014925,  1.        ,\n",
       "         0.97014925,  1.        ]),\n",
       " 'split2_test_score': array([ 0.96875,  0.96875,  0.9375 ,  0.96875,  0.96875,  0.96875,\n",
       "         0.9375 ,  0.96875,  0.96875,  0.96875,  0.96875,  0.96875,\n",
       "         0.96875,  0.96875,  0.96875,  0.96875,  0.96875,  0.96875,\n",
       "         0.96875,  0.96875,  0.96875,  0.96875,  0.96875,  0.96875,\n",
       "         0.96875,  0.96875,  0.96875,  0.96875,  0.96875,  0.96875,\n",
       "         0.96875,  0.96875,  0.96875,  0.96875,  0.96875,  0.96875,\n",
       "         0.96875,  0.96875,  0.96875,  0.96875,  0.96875,  0.96875,\n",
       "         0.96875,  0.96875,  0.96875,  0.96875,  0.96875,  0.96875,\n",
       "         0.96875,  0.96875,  0.96875,  0.96875,  0.96875,  0.96875,\n",
       "         0.96875,  0.96875,  0.96875,  0.96875,  0.96875,  0.96875,\n",
       "         0.96875,  0.96875]),\n",
       " 'split2_train_score': array([ 0.98529412,  0.98529412,  0.95588235,  0.98529412,  0.97058824,\n",
       "         0.98529412,  0.97058824,  0.98529412,  0.97058824,  0.98529412,\n",
       "         0.97058824,  0.98529412,  0.94117647,  0.98529412,  0.97058824,\n",
       "         0.98529412,  0.94117647,  0.98529412,  0.92647059,  0.98529412,\n",
       "         0.94117647,  0.98529412,  0.92647059,  0.98529412,  0.92647059,\n",
       "         0.98529412,  0.92647059,  0.98529412,  0.92647059,  0.98529412,\n",
       "         0.92647059,  0.98529412,  0.92647059,  0.98529412,  0.92647059,\n",
       "         0.98529412,  0.94117647,  0.98529412,  0.92647059,  0.98529412,\n",
       "         0.95588235,  0.98529412,  0.92647059,  0.98529412,  0.94117647,\n",
       "         0.98529412,  0.92647059,  0.98529412,  0.92647059,  0.98529412,\n",
       "         0.92647059,  0.98529412,  0.92647059,  0.98529412,  0.92647059,\n",
       "         0.98529412,  0.92647059,  0.98529412,  0.92647059,  0.98529412,\n",
       "         0.92647059,  0.98529412]),\n",
       " 'std_fit_time': array([  8.57341630e-05,   5.59592779e-06,   4.80850864e-05,\n",
       "          5.96946461e-06,   2.29628436e-05,   8.77806426e-07,\n",
       "          2.72690363e-05,   2.50814633e-05,   8.04798386e-05,\n",
       "          1.81327043e-05,   5.21129908e-05,   8.95237690e-05,\n",
       "          4.10229326e-05,   3.18960538e-05,   2.65672433e-05,\n",
       "          2.24577984e-05,   1.10057717e-05,   2.57521498e-06,\n",
       "          1.63385840e-05,   1.17775453e-05,   4.03939524e-05,\n",
       "          9.19758877e-06,   4.48777546e-05,   3.25159590e-06,\n",
       "          3.17352553e-05,   1.50315094e-05,   1.34396102e-05,\n",
       "          1.76010407e-05,   7.78671819e-07,   3.22914180e-05,\n",
       "          3.37174788e-07,   5.11474384e-06,   1.62859611e-04,\n",
       "          1.37242059e-05,   2.05095417e-06,   9.24245099e-05,\n",
       "          2.87133583e-05,   1.94447206e-05,   1.91105377e-05,\n",
       "          8.99132768e-07,   8.77806426e-07,   1.21570099e-06,\n",
       "          1.62093465e-06,   1.18944085e-06,   8.99132768e-07,\n",
       "          7.12335772e-06,   1.57011060e-04,   4.18659827e-05,\n",
       "          5.33732294e-05,   1.83663137e-05,   9.39426350e-05,\n",
       "          3.13997259e-05,   4.51249109e-06,   1.08424808e-04,\n",
       "          2.37178225e-05,   1.27652315e-06,   4.05233662e-07,\n",
       "          4.49566384e-07,   2.17064226e-06,   4.49566384e-07,\n",
       "          1.38109105e-06,   5.74297961e-06]),\n",
       " 'std_score_time': array([  1.73880660e-04,   6.07018676e-06,   7.15590328e-05,\n",
       "          1.03693049e-05,   1.79601630e-05,   7.97418968e-05,\n",
       "          1.37637265e-05,   1.57917872e-04,   1.45672906e-04,\n",
       "          5.40659267e-04,   1.54773920e-04,   5.65413513e-05,\n",
       "          6.89696228e-05,   2.85966563e-04,   8.70870980e-05,\n",
       "          6.89556103e-05,   6.92017427e-05,   2.77757360e-05,\n",
       "          1.16191876e-04,   9.85412827e-05,   3.87977352e-05,\n",
       "          7.27757064e-05,   1.51778598e-05,   2.51180608e-04,\n",
       "          6.23147296e-05,   4.91319705e-06,   7.14265173e-05,\n",
       "          1.27652315e-06,   6.93321337e-05,   2.72597701e-05,\n",
       "          6.51239232e-05,   4.52786113e-06,   2.72553931e-04,\n",
       "          1.51105976e-04,   7.71419105e-06,   1.77747975e-04,\n",
       "          6.00771717e-05,   8.45778685e-05,   2.82771538e-06,\n",
       "          2.57030513e-06,   6.84464820e-05,   4.60805544e-06,\n",
       "          6.67641084e-05,   2.36022352e-06,   6.67357221e-05,\n",
       "          3.11468727e-06,   2.77856644e-04,   1.87063075e-04,\n",
       "          7.59953377e-05,   6.15880309e-05,   2.33420786e-04,\n",
       "          3.07116838e-04,   1.08811087e-05,   2.49604579e-04,\n",
       "          1.47008723e-04,   4.11267250e-06,   6.25373140e-05,\n",
       "          3.89984263e-06,   6.64141142e-05,   7.30026459e-06,\n",
       "          6.23646778e-06,   7.81069842e-05]),\n",
       " 'std_test_score': array([ 0.03746788,  0.03746788,  0.01483677,  0.03746788,  0.03746788,\n",
       "         0.03746788,  0.01483677,  0.03746788,  0.05158473,  0.02873129,\n",
       "         0.02413773,  0.03746788,  0.02873129,  0.03746788,  0.02413773,\n",
       "         0.03746788,  0.02413773,  0.03746788,  0.03746788,  0.03746788,\n",
       "         0.04297324,  0.04297324,  0.03746788,  0.03746788,  0.03746788,\n",
       "         0.02413773,  0.03746788,  0.02413773,  0.03746788,  0.02413773,\n",
       "         0.02413773,  0.02413773,  0.02413773,  0.02413773,  0.02413773,\n",
       "         0.02413773,  0.03746788,  0.02413773,  0.02413773,  0.03746788,\n",
       "         0.02873129,  0.02413773,  0.02413773,  0.03746788,  0.02413773,\n",
       "         0.03746788,  0.03746788,  0.03746788,  0.02413773,  0.03746788,\n",
       "         0.02413773,  0.03746788,  0.02413773,  0.02413773,  0.02413773,\n",
       "         0.03746788,  0.02873129,  0.03746788,  0.03746788,  0.03746788,\n",
       "         0.03746788,  0.03746788]),\n",
       " 'std_train_score': array([ 0.00709781,  0.00709781,  0.02532478,  0.00709781,  0.01504227,\n",
       "         0.00709781,  0.01947865,  0.00709781,  0.00779089,  0.00709781,\n",
       "         0.01947865,  0.00709781,  0.01844748,  0.00709781,  0.01276005,\n",
       "         0.00709781,  0.01844748,  0.00709781,  0.02845985,  0.00709781,\n",
       "         0.01185905,  0.00709781,  0.01802171,  0.00709781,  0.01802171,\n",
       "         0.00709781,  0.01802171,  0.00709781,  0.01802171,  0.00709781,\n",
       "         0.02394223,  0.00709781,  0.02394223,  0.00709781,  0.02394223,\n",
       "         0.00709781,  0.01185905,  0.00709781,  0.01802171,  0.00709781,\n",
       "         0.01970771,  0.00709781,  0.01842619,  0.00709781,  0.02136248,\n",
       "         0.00709781,  0.01842619,  0.00709781,  0.01842619,  0.00709781,\n",
       "         0.01802171,  0.00709781,  0.01802171,  0.00709781,  0.01802171,\n",
       "         0.00709781,  0.02143504,  0.00709781,  0.01842619,  0.00709781,\n",
       "         0.01842619,  0.00709781])}"
      ]
     },
     "execution_count": 297,
     "metadata": {},
     "output_type": "execute_result"
    }
   ],
   "source": [
    "grid.cv_results_"
   ]
  },
  {
   "cell_type": "code",
   "execution_count": 298,
   "metadata": {
    "collapsed": true,
    "scrolled": true
   },
   "outputs": [],
   "source": [
    "# Create a list of the mean scores using a list comprehension to loop through the cv_results_\n",
    "grid_mean_scores = grid.cv_results_['mean_test_score']"
   ]
  },
  {
   "cell_type": "code",
   "execution_count": 299,
   "metadata": {
    "scrolled": true
   },
   "outputs": [
    {
     "data": {
      "text/plain": [
       "Text(0,0.5,u'Cross-Validated Accuracy')"
      ]
     },
     "execution_count": 299,
     "metadata": {},
     "output_type": "execute_result"
    },
    {
     "data": {
      "image/png": "[encoded data removed]",
      "text/plain": [
       "<matplotlib.figure.Figure at 0x1a211b3fd0>"
      ]
     },
     "metadata": {},
     "output_type": "display_data"
    }
   ],
   "source": [
    "# We need a k_range that duplicates the k: [1, 1, 2, 3, ... 31, 31]: doubled_k_range \n",
    "doubled_k_range = []\n",
    "\n",
    "for i in range(1, 32):\n",
    "    doubled_k_range.append(i)\n",
    "    doubled_k_range.append(i)\n",
    "    \n",
    "# Plot the results, identical to the one we generated above\n",
    "plt.plot(doubled_k_range, grid_mean_scores)\n",
    "plt.title('Mean Validation Scores by (k) Neighbors')\n",
    "plt.xlabel('Value of K for KNN')\n",
    "plt.ylabel('Cross-Validated Accuracy')"
   ]
  },
  {
   "cell_type": "markdown",
   "metadata": {},
   "source": [
    "## Find the \"Best\" Model \n",
    "\n",
    "* Considering the plot, is there only one model with the \"best score\"?\n",
    "> If there are multiple max scores (or many high scores within a narrow range of each other), I’ll often go with the first one. No need to use any more neighbors than I have to. With big datasets that will save on runtime.\n",
    "\n",
    "* What does that tell you about `grid.best_score_`?\n",
    "\n",
    "When we did the gridsearch, we looked at the best estimator and the best accuracy scores, across folds with more hyperparameters being tuned and found the k=15 was not necessarily the best on the training data. We saw in the test data, that actually, it was better. So this is good for understanding that your model is trained and fit to data that might not be a perfect representation of reality."
   ]
  },
  {
   "cell_type": "code",
   "execution_count": 165,
   "metadata": {},
   "outputs": [
    {
     "name": "stdout",
     "output_type": "stream",
     "text": [
      "0.95\n",
      "{'n_neighbors': 5, 'weights': 'uniform'}\n",
      "KNeighborsClassifier(algorithm='auto', leaf_size=30, metric='minkowski',\n",
      "           metric_params=None, n_jobs=1, n_neighbors=5, p=2,\n",
      "           weights='uniform')\n"
     ]
    }
   ],
   "source": [
    "# Single best score achieved across all params (k)\n",
    "print(grid.best_score_)\n",
    "\n",
    "# Dictionary containing the parameters (k) used to generate the 'best' score\n",
    "print(grid.best_params_)\n",
    "\n",
    "# Actual KNN model object fit with those best parameters, including those not specified by gridsearch\n",
    "print(grid.best_estimator_)"
   ]
  },
  {
   "cell_type": "markdown",
   "metadata": {},
   "source": [
    "## BONUS:\n",
    "\n",
    "* ### Is our model overfit? Discuss the bias - variance tradeoff in this classification model."
   ]
  },
  {
   "cell_type": "markdown",
   "metadata": {
    "collapsed": true
   },
   "source": [
    "Source: https://stats.stackexchange.com/questions/81576/how-to-judge-if-a-supervised-machine-learning-model-is-overfitting-or-not\n",
    "\n",
    "Source #2: https://towardsdatascience.com/train-test-split-and-cross-validation-in-python-80b61beca4b6\n",
    "\n",
    "To estimate the amount of overfit simply evaluate your metrics of interest on the test set as a last step and compare it to your performance on the training set. This model will be very accurate on the training data but will probably be very not accurate on untrained or new data\n",
    "\n",
    "\n",
    "**Cross-validation**\n",
    "One way to get around wasting a large part of the data to validation and test is to use cross-validation (CV) which estimates the generalized performance using the same data as is used to train the model. The idea behind cross-validation is to split the dataset up into a certain number of subsets, and then use each of these subsets as held out test sets in turn while using the rest of the data to train the model. Averaging the metric over all the folds will give you an estimate of the model performance. The final model is then generally trained using all data.\n",
    "\n",
    "However, the CV estimate is not unbiased. But the more folds you use the smaller the bias but then you get larger variance instead."
   ]
  },
  {
   "cell_type": "code",
   "execution_count": null,
   "metadata": {
    "collapsed": true
   },
   "outputs": [],
   "source": []
  }
 ],
 "metadata": {
  "kernelspec": {
   "display_name": "Python 2",
   "language": "python",
   "name": "python2"
  },
  "language_info": {
   "codemirror_mode": {
    "name": "ipython",
    "version": 2
   },
   "file_extension": ".py",
   "mimetype": "text/x-python",
   "name": "python",
   "nbconvert_exporter": "python",
   "pygments_lexer": "ipython2",
   "version": "2.7.14"
  }
 },
 "nbformat": 4,
 "nbformat_minor": 2
}

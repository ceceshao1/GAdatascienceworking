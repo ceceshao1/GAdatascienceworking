{
 "cells": [
  {
   "cell_type": "markdown",
   "metadata": {},
   "source": [
    "# 08 Classification - K-Nearest Neighbors "
   ]
  },
  {
   "cell_type": "markdown",
   "metadata": {},
   "source": [
    "## Imports"
   ]
  },
  {
   "cell_type": "code",
   "execution_count": 2,
   "metadata": {
    "collapsed": true
   },
   "outputs": [],
   "source": [
    "from sklearn import datasets, neighbors, metrics\n",
    "import pandas as pd\n",
    "import numpy as np\n",
    "\n",
    "import matplotlib.pyplot as plt\n",
    "%matplotlib inline"
   ]
  },
  {
   "cell_type": "markdown",
   "metadata": {},
   "source": [
    "## Use the built-in iris dataset to build a function that classifies each data point according to one or more of its features.\n",
    "* What are the features?\n",
    "* What is the target variable?\n",
    "* How many labels does the target variable have? Is it binary?"
   ]
  },
  {
   "cell_type": "code",
   "execution_count": 3,
   "metadata": {
    "collapsed": true
   },
   "outputs": [],
   "source": [
    "# Load iris dataset from the datasets module:\n",
    "iris = datasets.load_iris()\n",
    "\n",
    "# Create a pandas dataframe from iris. Grab the column names from iris.feature_names, and target from iris.target:\n",
    "irisdf = pd.DataFrame(iris.data, columns=iris.feature_names)\n",
    "irisdf['target'] = iris.target"
   ]
  },
  {
   "cell_type": "markdown",
   "metadata": {},
   "source": [
    "## EDA:\n",
    "\n",
    "* Check for nulls\n",
    "* Run descriptive statistics"
   ]
  },
  {
   "cell_type": "code",
   "execution_count": 4,
   "metadata": {
    "scrolled": true
   },
   "outputs": [
    {
     "name": "stdout",
     "output_type": "stream",
     "text": [
      "<class 'pandas.core.frame.DataFrame'>\n",
      "RangeIndex: 150 entries, 0 to 149\n",
      "Data columns (total 5 columns):\n",
      "sepal length (cm)    150 non-null float64\n",
      "sepal width (cm)     150 non-null float64\n",
      "petal length (cm)    150 non-null float64\n",
      "petal width (cm)     150 non-null float64\n",
      "target               150 non-null int64\n",
      "dtypes: float64(4), int64(1)\n",
      "memory usage: 5.9 KB\n"
     ]
    }
   ],
   "source": [
    "irisdf.info()"
   ]
  },
  {
   "cell_type": "markdown",
   "metadata": {},
   "source": [
    "## Fix Column Names to Remove Spaces"
   ]
  },
  {
   "cell_type": "code",
   "execution_count": 5,
   "metadata": {
    "scrolled": true
   },
   "outputs": [
    {
     "data": {
      "text/plain": [
       "['sepal length (cm)',\n",
       " 'sepal width (cm)',\n",
       " 'petal length (cm)',\n",
       " 'petal width (cm)',\n",
       " 'target']"
      ]
     },
     "execution_count": 5,
     "metadata": {},
     "output_type": "execute_result"
    }
   ],
   "source": [
    "# Take a look at the columns in their original form using a list comprehension:\n",
    "[col for col in irisdf.columns]"
   ]
  },
  {
   "cell_type": "code",
   "execution_count": 6,
   "metadata": {
    "scrolled": true
   },
   "outputs": [
    {
     "data": {
      "text/plain": [
       "['sepal_length_(cm)',\n",
       " 'sepal_width_(cm)',\n",
       " 'petal_length_(cm)',\n",
       " 'petal_width_(cm)',\n",
       " 'target']"
      ]
     },
     "execution_count": 6,
     "metadata": {},
     "output_type": "execute_result"
    }
   ],
   "source": [
    "# Experiment with replacing the spaces with `'_'` underscores before assigning the list back to columns:\n",
    "[col.replace(' ','_') for col in irisdf.columns]"
   ]
  },
  {
   "cell_type": "code",
   "execution_count": 7,
   "metadata": {
    "collapsed": true
   },
   "outputs": [],
   "source": [
    "# If all is well, save it assign your new list back to `irisdf.columns`:\n",
    "irisdf.columns = [col.replace(' ','_') for col in irisdf.columns]"
   ]
  },
  {
   "cell_type": "code",
   "execution_count": 8,
   "metadata": {},
   "outputs": [
    {
     "data": {
      "text/html": [
       "<div>\n",
       "<style>\n",
       "    .dataframe thead tr:only-child th {\n",
       "        text-align: right;\n",
       "    }\n",
       "\n",
       "    .dataframe thead th {\n",
       "        text-align: left;\n",
       "    }\n",
       "\n",
       "    .dataframe tbody tr th {\n",
       "        vertical-align: top;\n",
       "    }\n",
       "</style>\n",
       "<table border=\"1\" class=\"dataframe\">\n",
       "  <thead>\n",
       "    <tr style=\"text-align: right;\">\n",
       "      <th></th>\n",
       "      <th>sepal_length_(cm)</th>\n",
       "      <th>sepal_width_(cm)</th>\n",
       "      <th>petal_length_(cm)</th>\n",
       "      <th>petal_width_(cm)</th>\n",
       "      <th>target</th>\n",
       "    </tr>\n",
       "  </thead>\n",
       "  <tbody>\n",
       "    <tr>\n",
       "      <th>count</th>\n",
       "      <td>150.000000</td>\n",
       "      <td>150.000000</td>\n",
       "      <td>150.000000</td>\n",
       "      <td>150.000000</td>\n",
       "      <td>150.000000</td>\n",
       "    </tr>\n",
       "    <tr>\n",
       "      <th>mean</th>\n",
       "      <td>5.843333</td>\n",
       "      <td>3.054000</td>\n",
       "      <td>3.758667</td>\n",
       "      <td>1.198667</td>\n",
       "      <td>1.000000</td>\n",
       "    </tr>\n",
       "    <tr>\n",
       "      <th>std</th>\n",
       "      <td>0.828066</td>\n",
       "      <td>0.433594</td>\n",
       "      <td>1.764420</td>\n",
       "      <td>0.763161</td>\n",
       "      <td>0.819232</td>\n",
       "    </tr>\n",
       "    <tr>\n",
       "      <th>min</th>\n",
       "      <td>4.300000</td>\n",
       "      <td>2.000000</td>\n",
       "      <td>1.000000</td>\n",
       "      <td>0.100000</td>\n",
       "      <td>0.000000</td>\n",
       "    </tr>\n",
       "    <tr>\n",
       "      <th>25%</th>\n",
       "      <td>5.100000</td>\n",
       "      <td>2.800000</td>\n",
       "      <td>1.600000</td>\n",
       "      <td>0.300000</td>\n",
       "      <td>0.000000</td>\n",
       "    </tr>\n",
       "    <tr>\n",
       "      <th>50%</th>\n",
       "      <td>5.800000</td>\n",
       "      <td>3.000000</td>\n",
       "      <td>4.350000</td>\n",
       "      <td>1.300000</td>\n",
       "      <td>1.000000</td>\n",
       "    </tr>\n",
       "    <tr>\n",
       "      <th>75%</th>\n",
       "      <td>6.400000</td>\n",
       "      <td>3.300000</td>\n",
       "      <td>5.100000</td>\n",
       "      <td>1.800000</td>\n",
       "      <td>2.000000</td>\n",
       "    </tr>\n",
       "    <tr>\n",
       "      <th>max</th>\n",
       "      <td>7.900000</td>\n",
       "      <td>4.400000</td>\n",
       "      <td>6.900000</td>\n",
       "      <td>2.500000</td>\n",
       "      <td>2.000000</td>\n",
       "    </tr>\n",
       "  </tbody>\n",
       "</table>\n",
       "</div>"
      ],
      "text/plain": [
       "       sepal_length_(cm)  sepal_width_(cm)  petal_length_(cm)  \\\n",
       "count         150.000000        150.000000         150.000000   \n",
       "mean            5.843333          3.054000           3.758667   \n",
       "std             0.828066          0.433594           1.764420   \n",
       "min             4.300000          2.000000           1.000000   \n",
       "25%             5.100000          2.800000           1.600000   \n",
       "50%             5.800000          3.000000           4.350000   \n",
       "75%             6.400000          3.300000           5.100000   \n",
       "max             7.900000          4.400000           6.900000   \n",
       "\n",
       "       petal_width_(cm)      target  \n",
       "count        150.000000  150.000000  \n",
       "mean           1.198667    1.000000  \n",
       "std            0.763161    0.819232  \n",
       "min            0.100000    0.000000  \n",
       "25%            0.300000    0.000000  \n",
       "50%            1.300000    1.000000  \n",
       "75%            1.800000    2.000000  \n",
       "max            2.500000    2.000000  "
      ]
     },
     "execution_count": 8,
     "metadata": {},
     "output_type": "execute_result"
    }
   ],
   "source": [
    "# Check descriptive statistics\n",
    "irisdf.describe()"
   ]
  },
  {
   "cell_type": "markdown",
   "metadata": {},
   "source": [
    "## Plot the samples petal length & width with color labels:\n",
    "*  Let's apply a color map to the target column so that we can visually see lables: 'ctarget'\n",
    " * Learn more about using `.apply` with `lambda` functions here: http://pandas.pydata.org/pandas-docs/version/0.17.0/generated/pandas.Series.apply.html"
   ]
  },
  {
   "cell_type": "code",
   "execution_count": 9,
   "metadata": {
    "collapsed": true
   },
   "outputs": [],
   "source": [
    "# Define the colormap dictionary (dictionaries are a great way of replacing values in a Series with`.apply()`)\n",
    "cmap = {'0': 'r', '1': 'g', '2': 'b' }\n",
    "irisdf['ctarget'] = irisdf.target.apply(lambda x: cmap[str(x)])"
   ]
  },
  {
   "cell_type": "code",
   "execution_count": 10,
   "metadata": {},
   "outputs": [
    {
     "data": {
      "text/plain": [
       "<matplotlib.axes._subplots.AxesSubplot at 0x1a15d2c450>"
      ]
     },
     "execution_count": 10,
     "metadata": {},
     "output_type": "execute_result"
    },
    {
     "data": {
      "image/png": "[encoded data removed]",
      "text/plain": [
       "<matplotlib.figure.Figure at 0x110400a10>"
      ]
     },
     "metadata": {},
     "output_type": "display_data"
    }
   ],
   "source": [
    "# Use pandas to plot the petal length against width, using the target's label as the color to see patterns\n",
    "irisdf.plot('petal_length_(cm)', 'petal_width_(cm)', kind='scatter', c=irisdf.ctarget)"
   ]
  },
  {
   "cell_type": "markdown",
   "metadata": {},
   "source": [
    "## Analyze Correlations:\n",
    "*  Which features have the highest correlation with the target variable? Should you start with using the highest correlated feature as a predictor? "
   ]
  },
  {
   "cell_type": "code",
   "execution_count": 11,
   "metadata": {},
   "outputs": [
    {
     "data": {
      "text/html": [
       "<div>\n",
       "<style>\n",
       "    .dataframe thead tr:only-child th {\n",
       "        text-align: right;\n",
       "    }\n",
       "\n",
       "    .dataframe thead th {\n",
       "        text-align: left;\n",
       "    }\n",
       "\n",
       "    .dataframe tbody tr th {\n",
       "        vertical-align: top;\n",
       "    }\n",
       "</style>\n",
       "<table border=\"1\" class=\"dataframe\">\n",
       "  <thead>\n",
       "    <tr style=\"text-align: right;\">\n",
       "      <th></th>\n",
       "      <th>sepal_length_(cm)</th>\n",
       "      <th>sepal_width_(cm)</th>\n",
       "      <th>petal_length_(cm)</th>\n",
       "      <th>petal_width_(cm)</th>\n",
       "      <th>target</th>\n",
       "    </tr>\n",
       "  </thead>\n",
       "  <tbody>\n",
       "    <tr>\n",
       "      <th>target</th>\n",
       "      <td>0.782561</td>\n",
       "      <td>-0.419446</td>\n",
       "      <td>0.949043</td>\n",
       "      <td>0.956464</td>\n",
       "      <td>1.000000</td>\n",
       "    </tr>\n",
       "    <tr>\n",
       "      <th>petal_width_(cm)</th>\n",
       "      <td>0.817954</td>\n",
       "      <td>-0.356544</td>\n",
       "      <td>0.962757</td>\n",
       "      <td>1.000000</td>\n",
       "      <td>0.956464</td>\n",
       "    </tr>\n",
       "    <tr>\n",
       "      <th>petal_length_(cm)</th>\n",
       "      <td>0.871754</td>\n",
       "      <td>-0.420516</td>\n",
       "      <td>1.000000</td>\n",
       "      <td>0.962757</td>\n",
       "      <td>0.949043</td>\n",
       "    </tr>\n",
       "    <tr>\n",
       "      <th>sepal_length_(cm)</th>\n",
       "      <td>1.000000</td>\n",
       "      <td>-0.109369</td>\n",
       "      <td>0.871754</td>\n",
       "      <td>0.817954</td>\n",
       "      <td>0.782561</td>\n",
       "    </tr>\n",
       "    <tr>\n",
       "      <th>sepal_width_(cm)</th>\n",
       "      <td>-0.109369</td>\n",
       "      <td>1.000000</td>\n",
       "      <td>-0.420516</td>\n",
       "      <td>-0.356544</td>\n",
       "      <td>-0.419446</td>\n",
       "    </tr>\n",
       "  </tbody>\n",
       "</table>\n",
       "</div>"
      ],
      "text/plain": [
       "                   sepal_length_(cm)  sepal_width_(cm)  petal_length_(cm)  \\\n",
       "target                      0.782561         -0.419446           0.949043   \n",
       "petal_width_(cm)            0.817954         -0.356544           0.962757   \n",
       "petal_length_(cm)           0.871754         -0.420516           1.000000   \n",
       "sepal_length_(cm)           1.000000         -0.109369           0.871754   \n",
       "sepal_width_(cm)           -0.109369          1.000000          -0.420516   \n",
       "\n",
       "                   petal_width_(cm)    target  \n",
       "target                     0.956464  1.000000  \n",
       "petal_width_(cm)           1.000000  0.956464  \n",
       "petal_length_(cm)          0.962757  0.949043  \n",
       "sepal_length_(cm)          0.817954  0.782561  \n",
       "sepal_width_(cm)          -0.356544 -0.419446  "
      ]
     },
     "execution_count": 11,
     "metadata": {},
     "output_type": "execute_result"
    }
   ],
   "source": [
    "# Output in a pandas dataframe a correlation matrix with rows sorted according to features most\n",
    "# highly correlated with the target column:\n",
    "pd.DataFrame(irisdf.corr()).sort_values('target', ascending=False)"
   ]
  },
  {
   "cell_type": "markdown",
   "metadata": {},
   "source": [
    "---\n",
    "\n",
    "# Build a Classifier\n",
    "* Start with `'petal_length_(cm)'`\n",
    "* What's a good cut off value, given the plot you saw above?"
   ]
  },
  {
   "cell_type": "code",
   "execution_count": 12,
   "metadata": {},
   "outputs": [],
   "source": [
    "# Build a function that classifies each data point accordingn to criteria you set for one feature: my_classifier\n",
    "\n",
    "def my_binary_classifier(row):\n",
    "    \"\"\"Function takes in a row of a dataframe and assigns a label of 0 or 1 based on its value\"\"\"\n",
    "    if row['petal_length_(cm)'] < 2:\n",
    "        return 0\n",
    "    else:\n",
    "        return 1\n",
    "\n",
    "# Create a Series of predictions using your classifier: predictions\n",
    "predictions = irisdf.apply(my_binary_classifier, axis=1)"
   ]
  },
  {
   "cell_type": "code",
   "execution_count": 13,
   "metadata": {
    "collapsed": true
   },
   "outputs": [],
   "source": [
    "# Let's apply the colormap to the predictions series to give it the same great color as 'ctarget': 'cpredictions'\n",
    "cpredictions = predictions.apply(lambda x: cmap[str(x)])"
   ]
  },
  {
   "cell_type": "markdown",
   "metadata": {},
   "source": [
    "### Plot the original clustering of labels with the predictions by using 'ctarget' and 'cpredictions' to visually evaluate our 'model'. How well did our prediction criteria do?"
   ]
  },
  {
   "cell_type": "code",
   "execution_count": 14,
   "metadata": {},
   "outputs": [
    {
     "data": {
      "text/plain": [
       "<matplotlib.axes._subplots.AxesSubplot at 0x1a1e105a50>"
      ]
     },
     "execution_count": 14,
     "metadata": {},
     "output_type": "execute_result"
    },
    {
     "data": {
      "image/png": "[encoded data removed]",
      "text/plain": [
       "<matplotlib.figure.Figure at 0x1a15ceec90>"
      ]
     },
     "metadata": {},
     "output_type": "display_data"
    },
    {
     "data": {
      "image/png": "[encoded data removed]",
      "text/plain": [
       "<matplotlib.figure.Figure at 0x1a15ceec50>"
      ]
     },
     "metadata": {},
     "output_type": "display_data"
    }
   ],
   "source": [
    "# Use pandas plot on the dataframe to look at label by petal length and width.\n",
    "irisdf.plot('petal_length_(cm)', 'petal_width_(cm)', kind='scatter', c=irisdf.ctarget)\n",
    "irisdf.plot('petal_length_(cm)', 'petal_width_(cm)', kind='scatter', c=cpredictions)"
   ]
  },
  {
   "cell_type": "markdown",
   "metadata": {},
   "source": [
    "### Calculate the accuracy of your prediction by creating a function to calculate total correct predictions over total samples:"
   ]
  },
  {
   "cell_type": "code",
   "execution_count": 124,
   "metadata": {
    "collapsed": true
   },
   "outputs": [],
   "source": [
    "# Let's see the total true / total number of samples:\n",
    "def prediction_accuracy(df_actuals, preds):\n",
    "    \"\"\"This function takes in the target values and \n",
    "    a Series of predictions and returns the total correct\n",
    "    over total samples as a decimal\"\"\"\n",
    "    count = 0\n",
    "    if len(df_actuals) == len(preds):\n",
    "        n = len(df_actuals)\n",
    "        for i in range(0,n):\n",
    "            if df_actuals[i]==preds[i]:\n",
    "                count+=1\n",
    "        return count/n\n",
    "    else:\n",
    "        print('The series are not the same length')"
   ]
  },
  {
   "cell_type": "code",
   "execution_count": 125,
   "metadata": {},
   "outputs": [
    {
     "data": {
      "text/plain": [
       "0.6666666666666666"
      ]
     },
     "execution_count": 125,
     "metadata": {},
     "output_type": "execute_result"
    }
   ],
   "source": [
    "# Output the prediction accuracy for your classifier\n",
    "prediction_accuracy(irisdf.ctarget, cpredictions)"
   ]
  },
  {
   "cell_type": "markdown",
   "metadata": {},
   "source": [
    "## BONUS:\n",
    "### We've predicted using petal length < 2 cm, let's create a more sophisticated approach:\n",
    "* Either create a function that generalizes to allow a user to define the feature and cut off value.\n",
    "* Or, create a multi-label function that assigns 0, 1 and 2 labels, depending on the cut-off values.\n",
    "\n",
    "* Once you have finished, output your predictions and calculate your accuracy."
   ]
  },
  {
   "cell_type": "markdown",
   "metadata": {},
   "source": [
    "---\n",
    "\n",
    "\n",
    "# K-Nearest Neighbors in Action:\n",
    "\n",
    "* Documentation: http://scikit-learn.org/stable/modules/generated/sklearn.neighbors.KNeighborsClassifier.html\n",
    "* `class sklearn.neighbors.KNeighborsClassifier(n_neighbors=5, weights=’uniform’, algorithm=’auto’, leaf_size=30, p=2, metric=’minkowski’, metric_params=None, n_jobs=1, **kwargs)`"
   ]
  },
  {
   "cell_type": "code",
   "execution_count": 50,
   "metadata": {
    "collapsed": true
   },
   "outputs": [],
   "source": [
    "# import sklearn KNeighborsClassifier:\n",
    "from sklearn.neighbors import KNeighborsClassifier"
   ]
  },
  {
   "cell_type": "code",
   "execution_count": 49,
   "metadata": {
    "collapsed": true
   },
   "outputs": [],
   "source": [
    "# Load iris again if you have altered the original, otherwise, you don't have to reload:\n",
    "iris = datasets.load_iris()"
   ]
  },
  {
   "cell_type": "code",
   "execution_count": 148,
   "metadata": {},
   "outputs": [
    {
     "data": {
      "text/plain": [
       "KNeighborsClassifier(algorithm='auto', leaf_size=30, metric='minkowski',\n",
       "           metric_params=None, n_jobs=1, n_neighbors=5, p=2,\n",
       "           weights='uniform')"
      ]
     },
     "execution_count": 148,
     "metadata": {},
     "output_type": "execute_result"
    }
   ],
   "source": [
    "# `n_neighbors` is our parameter of interest in KNN. We'll tune this parameter to improve prediction accuracy.\n",
    "knn = KNeighborsClassifier(n_neighbors=5, weights='uniform')\n",
    "\n",
    "# Create model:\n",
    "X = iris.data[:,2:]\n",
    "y = iris.target\n",
    "# Fit knn to our data columns 2:4 against the target\n",
    "knn.fit(X,y)"
   ]
  },
  {
   "cell_type": "markdown",
   "metadata": {},
   "source": [
    "## Compare predictions vs. actuals and calculate accuracy using `knn.score()`"
   ]
  },
  {
   "cell_type": "code",
   "execution_count": 149,
   "metadata": {
    "scrolled": true
   },
   "outputs": [
    {
     "name": "stdout",
     "output_type": "stream",
     "text": [
      "Predictions: [0 0 0 0 0 0 0 0 0 0 0 0 0 0 0 0 0 0 0 0 0 0 0 0 0 0 0 0 0 0 0 0 0 0 0 0 0\n",
      " 0 0 0 0 0 0 0 0 0 0 0 0 0 1 1 1 1 1 1 1 1 1 1 1 1 1 1 1 1 1 1 1 1 2 1 1 1\n",
      " 1 1 1 2 1 1 1 1 1 2 1 1 1 1 1 1 1 1 1 1 1 1 1 1 1 1 2 2 2 2 2 2 1 2 2 2 2\n",
      " 2 2 2 2 2 2 2 2 1 2 2 2 2 2 2 2 2 2 2 2 2 2 1 2 2 2 2 2 2 2 2 2 2 2 2 2 2\n",
      " 2 2]\n",
      "Actuals: [0 0 0 0 0 0 0 0 0 0 0 0 0 0 0 0 0 0 0 0 0 0 0 0 0 0 0 0 0 0 0 0 0 0 0 0 0\n",
      " 0 0 0 0 0 0 0 0 0 0 0 0 0 1 1 1 1 1 1 1 1 1 1 1 1 1 1 1 1 1 1 1 1 1 1 1 1\n",
      " 1 1 1 1 1 1 1 1 1 1 1 1 1 1 1 1 1 1 1 1 1 1 1 1 1 1 2 2 2 2 2 2 2 2 2 2 2\n",
      " 2 2 2 2 2 2 2 2 2 2 2 2 2 2 2 2 2 2 2 2 2 2 2 2 2 2 2 2 2 2 2 2 2 2 2 2 2\n",
      " 2 2]\n",
      "Accuracy Score: 0.96\n"
     ]
    }
   ],
   "source": [
    "y_preds = knn.predict(X)\n",
    "\n",
    "print('Predictions:', y_preds)\n",
    "print('Actuals:', y)\n",
    "print('Accuracy Score:', knn.score(X, y))"
   ]
  },
  {
   "cell_type": "markdown",
   "metadata": {},
   "source": [
    "## Cross Validation:\n",
    "\n",
    "* Splitting the data into training and testing data\n",
    " * See documentation http://scikit-learn.org/stable/modules/generated/sklearn.model_selection.train_test_split.html\n",
    "* Cross validation with `cross_val_score`:\n",
    " * `cross_val_score(estimator, X, y=None, groups=None, scoring=None, cv=None, n_jobs=1, verbose=0, fit_params=None, pre_dispatch='2*n_jobs')`\n",
    "* Benefits of cross-validation:\n",
    "  - More reliable estimate of out-of-sample performance than train/test split alone\n",
    "  - Reduced variance on a single trial of a train/test split\n",
    "* Great for:\n",
    "  - Selecting tuning parameters\n",
    "  - Choosing between models\n",
    "  - Selecting features\n",
    "* Drawbacks of cross-validation:\n",
    "  - Can be computationally expensive when data is very large or the model training is slow"
   ]
  },
  {
   "cell_type": "code",
   "execution_count": 134,
   "metadata": {
    "collapsed": true
   },
   "outputs": [],
   "source": [
    "from sklearn.model_selection import cross_val_score, train_test_split"
   ]
  },
  {
   "cell_type": "code",
   "execution_count": 135,
   "metadata": {},
   "outputs": [
    {
     "name": "stdout",
     "output_type": "stream",
     "text": [
      "(100, 2) (50, 2) (100,) (50,)\n"
     ]
    }
   ],
   "source": [
    "# Split the data into training and testing with a 0.33 test size \n",
    "X_train, X_test, y_train, y_test = train_test_split(X, y, test_size=0.33, random_state=42)\n",
    "print(X_train.shape, X_test.shape, y_train.shape, y_test.shape)"
   ]
  },
  {
   "cell_type": "code",
   "execution_count": 137,
   "metadata": {},
   "outputs": [
    {
     "data": {
      "text/plain": [
       "KNeighborsClassifier(algorithm='auto', leaf_size=30, metric='minkowski',\n",
       "           metric_params=None, n_jobs=1, n_neighbors=5, p=2,\n",
       "           weights='uniform')"
      ]
     },
     "execution_count": 137,
     "metadata": {},
     "output_type": "execute_result"
    }
   ],
   "source": [
    "# Fit the model onto the training data\n",
    "knn.fit(X_train,y_train)"
   ]
  },
  {
   "cell_type": "code",
   "execution_count": 147,
   "metadata": {
    "scrolled": false
   },
   "outputs": [
    {
     "name": "stdout",
     "output_type": "stream",
     "text": [
      "Testing Data Score: 0.98 , Training Data Score: 0.96\n",
      "Cross Validated Scores on 3 Folds: [ 1.      1.      0.9375]\n",
      "Mean Cross Validated Score Across 3 Folds: 0.979166666667\n"
     ]
    }
   ],
   "source": [
    "print('Testing Data Score:', knn.score(X_test, y_test), ',', 'Training Data Score:', knn.score(X_train, y_train))\n",
    "print('Cross Validated Scores on 3 Folds:', cross_val_score(knn, X_test, y_test, cv=3))\n",
    "print(\"Mean Cross Validated Score Across 3 Folds:\", cross_val_score(knn, X_test, y_test, cv=3).mean())"
   ]
  },
  {
   "cell_type": "markdown",
   "metadata": {},
   "source": [
    "# Solving for K:\n",
    "* What is the accuracy for k=1?\n",
    "* What is the accuracy for k=n-1?\n",
    "* Using cross validation, what value of k optimizes model accuracy.  \n",
    "* Create a plot with k as the x-axis and accuracy as the y-axis (called a “fit chart”) to help find the answer."
   ]
  },
  {
   "cell_type": "code",
   "execution_count": 195,
   "metadata": {},
   "outputs": [
    {
     "name": "stdout",
     "output_type": "stream",
     "text": [
      "[0.97916666666666663, 0.97916666666666663, 0.97916666666666663, 0.97916666666666663, 0.97916666666666663, 0.96064814814814825, 0.96064814814814825, 0.96064814814814825, 0.97916666666666663, 0.96064814814814825, 0.96064814814814825, 0.93981481481481488, 0.93981481481481488, 0.93981481481481488, 1.0, 0.98148148148148151, 0.98148148148148151, 0.93981481481481488, 0.98148148148148151, 0.82638888888888884, 0.74305555555555547, 0.74305555555555547, 0.74305555555555547, 0.74305555555555547, 0.74305555555555547, 0.74305555555555547, 0.70370370370370372, 0.70370370370370372, 0.70370370370370372, 0.58796296296296291, 0.58796296296296291]\n"
     ]
    }
   ],
   "source": [
    "# Upper range of ks = 2/3 * length of test data\n",
    "upper_k = np.int(.66 * len(X_test))\n",
    "\n",
    "# Sort for optimal number of k:\n",
    "k_range = range(1, upper_k -1)\n",
    "\n",
    "# list of scores from k_range\n",
    "k_scores = []\n",
    "\n",
    "# Loop values of k\n",
    "for k in k_range:\n",
    "    # Run KNeighborsClassifier with k neighbours\n",
    "    knn = KNeighborsClassifier(n_neighbors=k)\n",
    "    knn.fit(X_train, y_train)\n",
    "    # Obtain cross_val_score for KNeighborsClassifier with k neighbours\n",
    "    scores = cross_val_score(knn, X_test, y_test, cv=3, scoring='accuracy')\n",
    "    # Append mean of scores for k neighbors to k_scores list\n",
    "    k_scores.append(scores.mean())\n",
    "print(k_scores)"
   ]
  },
  {
   "cell_type": "code",
   "execution_count": 196,
   "metadata": {},
   "outputs": [
    {
     "data": {
      "text/plain": [
       "<matplotlib.text.Text at 0x1198b5e48>"
      ]
     },
     "execution_count": 196,
     "metadata": {},
     "output_type": "execute_result"
    },
    {
     "data": {
      "image/png": "[encoded data removed]",
      "text/plain": [
       "<matplotlib.figure.Figure at 0x1a1a848400>"
      ]
     },
     "metadata": {},
     "output_type": "display_data"
    }
   ],
   "source": [
    "# Plot the scores by number of neighbors to see optimal k:\n",
    "# plot the value of K for KNN (x-axis) versus the cross-validated accuracy (y-axis)\n",
    "plt.plot(k_range, k_scores)\n",
    "plt.xlabel('Value of K for KNN')\n",
    "plt.ylabel('Cross-Validated Accuracy')"
   ]
  },
  {
   "cell_type": "code",
   "execution_count": 188,
   "metadata": {
    "collapsed": true
   },
   "outputs": [],
   "source": [
    "# Import GridSearchCV\n",
    "from sklearn.model_selection import GridSearchCV"
   ]
  },
  {
   "cell_type": "raw",
   "metadata": {},
   "source": [
    "# Define the parameter values across which gridsearch will ...you know...search\n",
    "k_range = range(1, upper_k -1)\n",
    "\n",
    "# Another parameter besides k that we might vary is the weights parameters\n",
    "# uniform: (all points in the neighborhood are weighted equally)\n",
    "# distance: (weights closer neighbors more heavily than further neighbors)\n",
    "\n",
    "# we create a list for weights\n",
    "weight_options = ['uniform', 'distance']\n",
    "\n",
    "# Reinstantiate the Classifer\n",
    "knn = KNeighborsClassifier()\n",
    "\n",
    "# Create a parameter grid using a dictionary: map the parameter names to the values that should be searched\n",
    "param_grid = {\n",
    "    'n_neighbors':k_range,\n",
    "    'weights' : weight_options\n",
    "}\n",
    "\n",
    "# Instantiate the grid\n",
    "grid = GridSearchCV(knn, param_grid, cv=3, scoring='accuracy', return_train_score=True)\n",
    "\n",
    "grid.fit(X_train, y_train)\n",
    "grid.score(X_test, y_test)"
   ]
  },
  {
   "cell_type": "code",
   "execution_count": 210,
   "metadata": {},
   "outputs": [
    {
     "data": {
      "text/plain": [
       "62"
      ]
     },
     "execution_count": 210,
     "metadata": {},
     "output_type": "execute_result"
    }
   ],
   "source": [
    "len(grid.cv_results_['mean_test_score'])"
   ]
  },
  {
   "cell_type": "code",
   "execution_count": 211,
   "metadata": {
    "scrolled": true
   },
   "outputs": [
    {
     "name": "stdout",
     "output_type": "stream",
     "text": [
      "0.93 {'n_neighbors': 1, 'weights': 'uniform'}\n",
      "0.93 {'n_neighbors': 1, 'weights': 'distance'}\n",
      "0.93 {'n_neighbors': 2, 'weights': 'uniform'}\n",
      "0.93 {'n_neighbors': 2, 'weights': 'distance'}\n",
      "0.93 {'n_neighbors': 3, 'weights': 'uniform'}\n",
      "0.93 {'n_neighbors': 3, 'weights': 'distance'}\n",
      "0.93 {'n_neighbors': 4, 'weights': 'uniform'}\n",
      "0.93 {'n_neighbors': 4, 'weights': 'distance'}\n",
      "0.95 {'n_neighbors': 5, 'weights': 'uniform'}\n",
      "0.95 {'n_neighbors': 5, 'weights': 'distance'}\n",
      "0.94 {'n_neighbors': 6, 'weights': 'uniform'}\n",
      "0.93 {'n_neighbors': 6, 'weights': 'distance'}\n",
      "0.95 {'n_neighbors': 7, 'weights': 'uniform'}\n",
      "0.93 {'n_neighbors': 7, 'weights': 'distance'}\n",
      "0.94 {'n_neighbors': 8, 'weights': 'uniform'}\n",
      "0.93 {'n_neighbors': 8, 'weights': 'distance'}\n",
      "0.94 {'n_neighbors': 9, 'weights': 'uniform'}\n",
      "0.93 {'n_neighbors': 9, 'weights': 'distance'}\n",
      "0.93 {'n_neighbors': 10, 'weights': 'uniform'}\n",
      "0.93 {'n_neighbors': 10, 'weights': 'distance'}\n",
      "0.94 {'n_neighbors': 11, 'weights': 'uniform'}\n",
      "0.94 {'n_neighbors': 11, 'weights': 'distance'}\n",
      "0.93 {'n_neighbors': 12, 'weights': 'uniform'}\n",
      "0.93 {'n_neighbors': 12, 'weights': 'distance'}\n",
      "0.93 {'n_neighbors': 13, 'weights': 'uniform'}\n",
      "0.94 {'n_neighbors': 13, 'weights': 'distance'}\n",
      "0.93 {'n_neighbors': 14, 'weights': 'uniform'}\n",
      "0.94 {'n_neighbors': 14, 'weights': 'distance'}\n",
      "0.93 {'n_neighbors': 15, 'weights': 'uniform'}\n",
      "0.94 {'n_neighbors': 15, 'weights': 'distance'}\n",
      "0.94 {'n_neighbors': 16, 'weights': 'uniform'}\n",
      "0.94 {'n_neighbors': 16, 'weights': 'distance'}\n",
      "0.94 {'n_neighbors': 17, 'weights': 'uniform'}\n",
      "0.94 {'n_neighbors': 17, 'weights': 'distance'}\n",
      "0.94 {'n_neighbors': 18, 'weights': 'uniform'}\n",
      "0.94 {'n_neighbors': 18, 'weights': 'distance'}\n",
      "0.93 {'n_neighbors': 19, 'weights': 'uniform'}\n",
      "0.94 {'n_neighbors': 19, 'weights': 'distance'}\n",
      "0.94 {'n_neighbors': 20, 'weights': 'uniform'}\n",
      "0.93 {'n_neighbors': 20, 'weights': 'distance'}\n",
      "0.95 {'n_neighbors': 21, 'weights': 'uniform'}\n",
      "0.94 {'n_neighbors': 21, 'weights': 'distance'}\n",
      "0.94 {'n_neighbors': 22, 'weights': 'uniform'}\n",
      "0.93 {'n_neighbors': 22, 'weights': 'distance'}\n",
      "0.94 {'n_neighbors': 23, 'weights': 'uniform'}\n",
      "0.93 {'n_neighbors': 23, 'weights': 'distance'}\n",
      "0.93 {'n_neighbors': 24, 'weights': 'uniform'}\n",
      "0.93 {'n_neighbors': 24, 'weights': 'distance'}\n",
      "0.94 {'n_neighbors': 25, 'weights': 'uniform'}\n",
      "0.93 {'n_neighbors': 25, 'weights': 'distance'}\n",
      "0.94 {'n_neighbors': 26, 'weights': 'uniform'}\n",
      "0.93 {'n_neighbors': 26, 'weights': 'distance'}\n",
      "0.94 {'n_neighbors': 27, 'weights': 'uniform'}\n",
      "0.94 {'n_neighbors': 27, 'weights': 'distance'}\n",
      "0.94 {'n_neighbors': 28, 'weights': 'uniform'}\n",
      "0.93 {'n_neighbors': 28, 'weights': 'distance'}\n",
      "0.95 {'n_neighbors': 29, 'weights': 'uniform'}\n",
      "0.93 {'n_neighbors': 29, 'weights': 'distance'}\n",
      "0.93 {'n_neighbors': 30, 'weights': 'uniform'}\n",
      "0.93 {'n_neighbors': 30, 'weights': 'distance'}\n",
      "0.93 {'n_neighbors': 31, 'weights': 'uniform'}\n",
      "0.93 {'n_neighbors': 31, 'weights': 'distance'}\n"
     ]
    }
   ],
   "source": [
    "# View the complete results (it's a list of named tuples)\n",
    "for i in range(0, 62):\n",
    "    print(grid.cv_results_['mean_test_score'][i], grid.cv_results_['params'][i])"
   ]
  },
  {
   "cell_type": "code",
   "execution_count": 212,
   "metadata": {},
   "outputs": [
    {
     "data": {
      "text/plain": [
       "{'mean_fit_time': array([ 0.00068696,  0.00062728,  0.00077589,  0.00071669,  0.00072845,\n",
       "         0.00183582,  0.0007    ,  0.00069237,  0.00067512,  0.00989993,\n",
       "         0.00078996,  0.0006756 ,  0.00060852,  0.00068935,  0.00067107,\n",
       "         0.00056799,  0.00062768,  0.00054336,  0.00062235,  0.00055663,\n",
       "         0.00057761,  0.0005513 ,  0.00059064,  0.00054876,  0.00054169,\n",
       "         0.00054606,  0.00062529,  0.00063658,  0.00083303,  0.00079012,\n",
       "         0.00062497,  0.00101161,  0.00085791,  0.00068927,  0.00060034,\n",
       "         0.00085251,  0.00065899,  0.00073338,  0.00060805,  0.00081881,\n",
       "         0.00110737,  0.00071192,  0.00113034,  0.00091696,  0.00061067,\n",
       "         0.00057602,  0.00054733,  0.00063745,  0.00055067,  0.00074291,\n",
       "         0.00055186,  0.00054471,  0.00056195,  0.00071732,  0.00055067,\n",
       "         0.0005463 ,  0.00054804,  0.00055106,  0.00061226,  0.00068339,\n",
       "         0.00055671,  0.00054701]),\n",
       " 'mean_score_time': array([ 0.00135183,  0.00125368,  0.00126266,  0.00148082,  0.00128301,\n",
       "         0.00165097,  0.00171057,  0.00145459,  0.00124963,  0.00295329,\n",
       "         0.0018297 ,  0.00121411,  0.0012211 ,  0.00131806,  0.00132767,\n",
       "         0.00127061,  0.00120536,  0.00112931,  0.00159621,  0.00116396,\n",
       "         0.00113543,  0.0012606 ,  0.00111596,  0.00115617,  0.00109752,\n",
       "         0.00168824,  0.00142169,  0.00124677,  0.0013543 ,  0.00128261,\n",
       "         0.00186737,  0.00169047,  0.00183272,  0.00163937,  0.00238434,\n",
       "         0.00150498,  0.00134142,  0.00140897,  0.0011797 ,  0.00167274,\n",
       "         0.00218169,  0.00166202,  0.0012935 ,  0.0014379 ,  0.00127316,\n",
       "         0.00137186,  0.00114536,  0.0014046 ,  0.0011816 ,  0.00131996,\n",
       "         0.00114441,  0.00124129,  0.00124017,  0.00161529,  0.00118311,\n",
       "         0.00124065,  0.00115959,  0.00135827,  0.00118176,  0.00150855,\n",
       "         0.00117898,  0.00126481]),\n",
       " 'mean_test_score': array([ 0.93,  0.93,  0.93,  0.93,  0.93,  0.93,  0.93,  0.93,  0.95,\n",
       "         0.95,  0.94,  0.93,  0.95,  0.93,  0.94,  0.93,  0.94,  0.93,\n",
       "         0.93,  0.93,  0.94,  0.94,  0.93,  0.93,  0.93,  0.94,  0.93,\n",
       "         0.94,  0.93,  0.94,  0.94,  0.94,  0.94,  0.94,  0.94,  0.94,\n",
       "         0.93,  0.94,  0.94,  0.93,  0.95,  0.94,  0.94,  0.93,  0.94,\n",
       "         0.93,  0.93,  0.93,  0.94,  0.93,  0.94,  0.93,  0.94,  0.94,\n",
       "         0.94,  0.93,  0.95,  0.93,  0.93,  0.93,  0.93,  0.93]),\n",
       " 'mean_train_score': array([ 0.98996983,  0.98996983,  0.95467797,  0.98996983,  0.95973301,\n",
       "         0.98996983,  0.96470813,  0.98996983,  0.96486121,  0.98996983,\n",
       "         0.96470813,  0.98996983,  0.96003242,  0.98996983,  0.96983634,\n",
       "         0.98996983,  0.96003242,  0.98996983,  0.94487405,  0.98996983,\n",
       "         0.95505729,  0.98996983,  0.95015533,  0.98996983,  0.95015533,\n",
       "         0.98996983,  0.95015533,  0.98996983,  0.95015533,  0.98996983,\n",
       "         0.95513046,  0.98996983,  0.95513046,  0.98996983,  0.95513046,\n",
       "         0.98996983,  0.95505729,  0.98996983,  0.95015533,  0.98996983,\n",
       "         0.94970284,  0.98996983,  0.94502713,  0.98996983,  0.95490421,\n",
       "         0.98996983,  0.94502713,  0.98996983,  0.94502713,  0.98996983,\n",
       "         0.95015533,  0.98996983,  0.95015533,  0.98996983,  0.95015533,\n",
       "         0.98996983,  0.93989892,  0.98996983,  0.94502713,  0.98996983,\n",
       "         0.94502713,  0.98996983]),\n",
       " 'param_n_neighbors': masked_array(data = [1 1 2 2 3 3 4 4 5 5 6 6 7 7 8 8 9 9 10 10 11 11 12 12 13 13 14 14 15 15 16\n",
       "  16 17 17 18 18 19 19 20 20 21 21 22 22 23 23 24 24 25 25 26 26 27 27 28 28\n",
       "  29 29 30 30 31 31],\n",
       "              mask = [False False False False False False False False False False False False\n",
       "  False False False False False False False False False False False False\n",
       "  False False False False False False False False False False False False\n",
       "  False False False False False False False False False False False False\n",
       "  False False False False False False False False False False False False\n",
       "  False False],\n",
       "        fill_value = ?),\n",
       " 'param_weights': masked_array(data = ['uniform' 'distance' 'uniform' 'distance' 'uniform' 'distance' 'uniform'\n",
       "  'distance' 'uniform' 'distance' 'uniform' 'distance' 'uniform' 'distance'\n",
       "  'uniform' 'distance' 'uniform' 'distance' 'uniform' 'distance' 'uniform'\n",
       "  'distance' 'uniform' 'distance' 'uniform' 'distance' 'uniform' 'distance'\n",
       "  'uniform' 'distance' 'uniform' 'distance' 'uniform' 'distance' 'uniform'\n",
       "  'distance' 'uniform' 'distance' 'uniform' 'distance' 'uniform' 'distance'\n",
       "  'uniform' 'distance' 'uniform' 'distance' 'uniform' 'distance' 'uniform'\n",
       "  'distance' 'uniform' 'distance' 'uniform' 'distance' 'uniform' 'distance'\n",
       "  'uniform' 'distance' 'uniform' 'distance' 'uniform' 'distance'],\n",
       "              mask = [False False False False False False False False False False False False\n",
       "  False False False False False False False False False False False False\n",
       "  False False False False False False False False False False False False\n",
       "  False False False False False False False False False False False False\n",
       "  False False False False False False False False False False False False\n",
       "  False False],\n",
       "        fill_value = ?),\n",
       " 'params': [{'n_neighbors': 1, 'weights': 'uniform'},\n",
       "  {'n_neighbors': 1, 'weights': 'distance'},\n",
       "  {'n_neighbors': 2, 'weights': 'uniform'},\n",
       "  {'n_neighbors': 2, 'weights': 'distance'},\n",
       "  {'n_neighbors': 3, 'weights': 'uniform'},\n",
       "  {'n_neighbors': 3, 'weights': 'distance'},\n",
       "  {'n_neighbors': 4, 'weights': 'uniform'},\n",
       "  {'n_neighbors': 4, 'weights': 'distance'},\n",
       "  {'n_neighbors': 5, 'weights': 'uniform'},\n",
       "  {'n_neighbors': 5, 'weights': 'distance'},\n",
       "  {'n_neighbors': 6, 'weights': 'uniform'},\n",
       "  {'n_neighbors': 6, 'weights': 'distance'},\n",
       "  {'n_neighbors': 7, 'weights': 'uniform'},\n",
       "  {'n_neighbors': 7, 'weights': 'distance'},\n",
       "  {'n_neighbors': 8, 'weights': 'uniform'},\n",
       "  {'n_neighbors': 8, 'weights': 'distance'},\n",
       "  {'n_neighbors': 9, 'weights': 'uniform'},\n",
       "  {'n_neighbors': 9, 'weights': 'distance'},\n",
       "  {'n_neighbors': 10, 'weights': 'uniform'},\n",
       "  {'n_neighbors': 10, 'weights': 'distance'},\n",
       "  {'n_neighbors': 11, 'weights': 'uniform'},\n",
       "  {'n_neighbors': 11, 'weights': 'distance'},\n",
       "  {'n_neighbors': 12, 'weights': 'uniform'},\n",
       "  {'n_neighbors': 12, 'weights': 'distance'},\n",
       "  {'n_neighbors': 13, 'weights': 'uniform'},\n",
       "  {'n_neighbors': 13, 'weights': 'distance'},\n",
       "  {'n_neighbors': 14, 'weights': 'uniform'},\n",
       "  {'n_neighbors': 14, 'weights': 'distance'},\n",
       "  {'n_neighbors': 15, 'weights': 'uniform'},\n",
       "  {'n_neighbors': 15, 'weights': 'distance'},\n",
       "  {'n_neighbors': 16, 'weights': 'uniform'},\n",
       "  {'n_neighbors': 16, 'weights': 'distance'},\n",
       "  {'n_neighbors': 17, 'weights': 'uniform'},\n",
       "  {'n_neighbors': 17, 'weights': 'distance'},\n",
       "  {'n_neighbors': 18, 'weights': 'uniform'},\n",
       "  {'n_neighbors': 18, 'weights': 'distance'},\n",
       "  {'n_neighbors': 19, 'weights': 'uniform'},\n",
       "  {'n_neighbors': 19, 'weights': 'distance'},\n",
       "  {'n_neighbors': 20, 'weights': 'uniform'},\n",
       "  {'n_neighbors': 20, 'weights': 'distance'},\n",
       "  {'n_neighbors': 21, 'weights': 'uniform'},\n",
       "  {'n_neighbors': 21, 'weights': 'distance'},\n",
       "  {'n_neighbors': 22, 'weights': 'uniform'},\n",
       "  {'n_neighbors': 22, 'weights': 'distance'},\n",
       "  {'n_neighbors': 23, 'weights': 'uniform'},\n",
       "  {'n_neighbors': 23, 'weights': 'distance'},\n",
       "  {'n_neighbors': 24, 'weights': 'uniform'},\n",
       "  {'n_neighbors': 24, 'weights': 'distance'},\n",
       "  {'n_neighbors': 25, 'weights': 'uniform'},\n",
       "  {'n_neighbors': 25, 'weights': 'distance'},\n",
       "  {'n_neighbors': 26, 'weights': 'uniform'},\n",
       "  {'n_neighbors': 26, 'weights': 'distance'},\n",
       "  {'n_neighbors': 27, 'weights': 'uniform'},\n",
       "  {'n_neighbors': 27, 'weights': 'distance'},\n",
       "  {'n_neighbors': 28, 'weights': 'uniform'},\n",
       "  {'n_neighbors': 28, 'weights': 'distance'},\n",
       "  {'n_neighbors': 29, 'weights': 'uniform'},\n",
       "  {'n_neighbors': 29, 'weights': 'distance'},\n",
       "  {'n_neighbors': 30, 'weights': 'uniform'},\n",
       "  {'n_neighbors': 30, 'weights': 'distance'},\n",
       "  {'n_neighbors': 31, 'weights': 'uniform'},\n",
       "  {'n_neighbors': 31, 'weights': 'distance'}],\n",
       " 'rank_test_score': array([30, 30, 30, 30, 30, 30, 30, 30,  1,  1,  6, 30,  1, 30,  6, 30,  6,\n",
       "        30, 30, 30,  6,  6, 30, 30, 30,  6, 30,  6, 30,  6,  6,  6,  6,  6,\n",
       "         6,  6, 30,  6,  6, 30,  1,  6,  6, 30,  6, 30, 30, 30,  6, 30,  6,\n",
       "        30,  6,  6,  6, 30,  1, 30, 30, 30, 30, 30], dtype=int32),\n",
       " 'split0_test_score': array([ 0.94285714,  0.94285714,  0.94285714,  0.94285714,  0.94285714,\n",
       "         0.94285714,  0.94285714,  0.94285714,  1.        ,  0.97142857,\n",
       "         0.94285714,  0.94285714,  0.97142857,  0.94285714,  0.94285714,\n",
       "         0.94285714,  0.94285714,  0.94285714,  0.94285714,  0.94285714,\n",
       "         0.97142857,  0.97142857,  0.94285714,  0.94285714,  0.94285714,\n",
       "         0.94285714,  0.94285714,  0.94285714,  0.94285714,  0.94285714,\n",
       "         0.94285714,  0.94285714,  0.94285714,  0.94285714,  0.94285714,\n",
       "         0.94285714,  0.94285714,  0.94285714,  0.94285714,  0.94285714,\n",
       "         0.97142857,  0.94285714,  0.94285714,  0.94285714,  0.94285714,\n",
       "         0.94285714,  0.94285714,  0.94285714,  0.94285714,  0.94285714,\n",
       "         0.94285714,  0.94285714,  0.94285714,  0.94285714,  0.94285714,\n",
       "         0.94285714,  0.97142857,  0.94285714,  0.94285714,  0.94285714,\n",
       "         0.94285714,  0.94285714]),\n",
       " 'split0_train_score': array([ 0.98461538,  0.98461538,  0.92307692,  0.98461538,  0.93846154,\n",
       "         0.98461538,  0.93846154,  0.98461538,  0.95384615,  0.98461538,\n",
       "         0.93846154,  0.98461538,  0.95384615,  0.98461538,  0.95384615,\n",
       "         0.98461538,  0.95384615,  0.98461538,  0.92307692,  0.98461538,\n",
       "         0.95384615,  0.98461538,  0.95384615,  0.98461538,  0.95384615,\n",
       "         0.98461538,  0.95384615,  0.98461538,  0.95384615,  0.98461538,\n",
       "         0.95384615,  0.98461538,  0.95384615,  0.98461538,  0.95384615,\n",
       "         0.98461538,  0.95384615,  0.98461538,  0.95384615,  0.98461538,\n",
       "         0.92307692,  0.98461538,  0.93846154,  0.98461538,  0.93846154,\n",
       "         0.98461538,  0.93846154,  0.98461538,  0.93846154,  0.98461538,\n",
       "         0.95384615,  0.98461538,  0.95384615,  0.98461538,  0.95384615,\n",
       "         0.98461538,  0.92307692,  0.98461538,  0.93846154,  0.98461538,\n",
       "         0.93846154,  0.98461538]),\n",
       " 'split1_test_score': array([ 0.87878788,  0.87878788,  0.90909091,  0.87878788,  0.87878788,\n",
       "         0.87878788,  0.90909091,  0.87878788,  0.87878788,  0.90909091,\n",
       "         0.90909091,  0.87878788,  0.90909091,  0.87878788,  0.90909091,\n",
       "         0.87878788,  0.90909091,  0.87878788,  0.87878788,  0.87878788,\n",
       "         0.87878788,  0.87878788,  0.87878788,  0.87878788,  0.87878788,\n",
       "         0.90909091,  0.87878788,  0.90909091,  0.87878788,  0.90909091,\n",
       "         0.90909091,  0.90909091,  0.90909091,  0.90909091,  0.90909091,\n",
       "         0.90909091,  0.87878788,  0.90909091,  0.90909091,  0.87878788,\n",
       "         0.90909091,  0.90909091,  0.90909091,  0.87878788,  0.90909091,\n",
       "         0.87878788,  0.87878788,  0.87878788,  0.90909091,  0.87878788,\n",
       "         0.90909091,  0.87878788,  0.90909091,  0.90909091,  0.90909091,\n",
       "         0.87878788,  0.90909091,  0.87878788,  0.87878788,  0.87878788,\n",
       "         0.87878788,  0.87878788]),\n",
       " 'split1_train_score': array([ 1.        ,  1.        ,  0.98507463,  1.        ,  0.97014925,\n",
       "         1.        ,  0.98507463,  1.        ,  0.97014925,  1.        ,\n",
       "         0.98507463,  1.        ,  0.98507463,  1.        ,  0.98507463,\n",
       "         1.        ,  0.98507463,  1.        ,  0.98507463,  1.        ,\n",
       "         0.97014925,  1.        ,  0.97014925,  1.        ,  0.97014925,\n",
       "         1.        ,  0.97014925,  1.        ,  0.97014925,  1.        ,\n",
       "         0.98507463,  1.        ,  0.98507463,  1.        ,  0.98507463,\n",
       "         1.        ,  0.97014925,  1.        ,  0.97014925,  1.        ,\n",
       "         0.97014925,  1.        ,  0.97014925,  1.        ,  0.98507463,\n",
       "         1.        ,  0.97014925,  1.        ,  0.97014925,  1.        ,\n",
       "         0.97014925,  1.        ,  0.97014925,  1.        ,  0.97014925,\n",
       "         1.        ,  0.97014925,  1.        ,  0.97014925,  1.        ,\n",
       "         0.97014925,  1.        ]),\n",
       " 'split2_test_score': array([ 0.96875,  0.96875,  0.9375 ,  0.96875,  0.96875,  0.96875,\n",
       "         0.9375 ,  0.96875,  0.96875,  0.96875,  0.96875,  0.96875,\n",
       "         0.96875,  0.96875,  0.96875,  0.96875,  0.96875,  0.96875,\n",
       "         0.96875,  0.96875,  0.96875,  0.96875,  0.96875,  0.96875,\n",
       "         0.96875,  0.96875,  0.96875,  0.96875,  0.96875,  0.96875,\n",
       "         0.96875,  0.96875,  0.96875,  0.96875,  0.96875,  0.96875,\n",
       "         0.96875,  0.96875,  0.96875,  0.96875,  0.96875,  0.96875,\n",
       "         0.96875,  0.96875,  0.96875,  0.96875,  0.96875,  0.96875,\n",
       "         0.96875,  0.96875,  0.96875,  0.96875,  0.96875,  0.96875,\n",
       "         0.96875,  0.96875,  0.96875,  0.96875,  0.96875,  0.96875,\n",
       "         0.96875,  0.96875]),\n",
       " 'split2_train_score': array([ 0.98529412,  0.98529412,  0.95588235,  0.98529412,  0.97058824,\n",
       "         0.98529412,  0.97058824,  0.98529412,  0.97058824,  0.98529412,\n",
       "         0.97058824,  0.98529412,  0.94117647,  0.98529412,  0.97058824,\n",
       "         0.98529412,  0.94117647,  0.98529412,  0.92647059,  0.98529412,\n",
       "         0.94117647,  0.98529412,  0.92647059,  0.98529412,  0.92647059,\n",
       "         0.98529412,  0.92647059,  0.98529412,  0.92647059,  0.98529412,\n",
       "         0.92647059,  0.98529412,  0.92647059,  0.98529412,  0.92647059,\n",
       "         0.98529412,  0.94117647,  0.98529412,  0.92647059,  0.98529412,\n",
       "         0.95588235,  0.98529412,  0.92647059,  0.98529412,  0.94117647,\n",
       "         0.98529412,  0.92647059,  0.98529412,  0.92647059,  0.98529412,\n",
       "         0.92647059,  0.98529412,  0.92647059,  0.98529412,  0.92647059,\n",
       "         0.98529412,  0.92647059,  0.98529412,  0.92647059,  0.98529412,\n",
       "         0.92647059,  0.98529412]),\n",
       " 'std_fit_time': array([  4.52829353e-05,   1.07702586e-05,   2.90109685e-05,\n",
       "          5.90777955e-06,   4.47127898e-05,   5.83313553e-04,\n",
       "          1.07913492e-05,   1.92110742e-05,   2.06516308e-05,\n",
       "          1.30339755e-02,   1.31820586e-04,   9.22348876e-05,\n",
       "          2.75730740e-05,   6.36478878e-05,   5.25099743e-05,\n",
       "          2.00954791e-05,   5.49758067e-05,   1.73024663e-06,\n",
       "          7.12671734e-05,   1.58798627e-05,   3.59437040e-05,\n",
       "          6.48666030e-06,   6.01427373e-05,   4.88741934e-06,\n",
       "          1.21570099e-06,   8.57717995e-06,   4.95085937e-05,\n",
       "          5.92529731e-05,   2.78403489e-04,   2.67137849e-04,\n",
       "          5.09901237e-05,   4.52023518e-04,   3.28390030e-04,\n",
       "          6.74394531e-05,   3.16752938e-05,   2.67831862e-04,\n",
       "          7.01593679e-05,   1.81092788e-04,   4.72254722e-05,\n",
       "          2.77519249e-04,   6.40062383e-04,   5.31614625e-05,\n",
       "          6.54739035e-04,   2.52090416e-04,   5.25712817e-05,\n",
       "          1.88375825e-05,   4.12647088e-06,   6.83958963e-05,\n",
       "          7.74850193e-06,   1.81489739e-04,   6.17540429e-06,\n",
       "          5.08129354e-06,   1.15544902e-05,   1.37708328e-04,\n",
       "          6.63396096e-06,   1.62093465e-06,   4.34128452e-06,\n",
       "          5.91205435e-06,   9.18207699e-05,   1.20890263e-04,\n",
       "          1.60798559e-05,   8.71958891e-06]),\n",
       " 'std_score_time': array([  2.01964321e-04,   9.23457531e-05,   1.07702586e-05,\n",
       "          2.23031969e-04,   2.45392322e-05,   2.54649967e-04,\n",
       "          6.57456494e-04,   2.18320871e-04,   6.48411849e-05,\n",
       "          1.60446954e-03,   6.88039182e-04,   4.31624703e-05,\n",
       "          1.10894174e-04,   9.04308257e-05,   1.09026974e-04,\n",
       "          1.95745993e-04,   9.56820887e-05,   7.10026736e-06,\n",
       "          7.08926035e-04,   1.99247193e-05,   3.93640234e-05,\n",
       "          1.53441615e-04,   4.62525216e-05,   2.52366063e-05,\n",
       "          1.01383200e-05,   7.50720429e-04,   2.47679153e-04,\n",
       "          5.67691053e-05,   1.69555044e-04,   6.41806204e-05,\n",
       "          9.29721625e-04,   3.05976434e-04,   7.43087209e-04,\n",
       "          5.07974418e-04,   8.71806223e-04,   2.45505260e-04,\n",
       "          2.26867135e-04,   1.00143435e-04,   3.83090510e-05,\n",
       "          5.61403717e-04,   1.08620116e-03,   2.59257010e-04,\n",
       "          1.11654645e-04,   1.51927956e-04,   1.97416054e-04,\n",
       "          1.30696156e-04,   2.89309591e-05,   1.21321769e-04,\n",
       "          4.84785747e-05,   6.87542671e-05,   1.19034321e-05,\n",
       "          2.00822743e-05,   1.26893098e-04,   1.78498414e-04,\n",
       "          3.63024855e-05,   1.15894212e-05,   1.38506398e-05,\n",
       "          1.39430778e-04,   2.02026825e-05,   1.82018008e-04,\n",
       "          3.81087072e-05,   8.93566202e-06]),\n",
       " 'std_test_score': array([ 0.03746788,  0.03746788,  0.01483677,  0.03746788,  0.03746788,\n",
       "         0.03746788,  0.01483677,  0.03746788,  0.05158473,  0.02873129,\n",
       "         0.02413773,  0.03746788,  0.02873129,  0.03746788,  0.02413773,\n",
       "         0.03746788,  0.02413773,  0.03746788,  0.03746788,  0.03746788,\n",
       "         0.04297324,  0.04297324,  0.03746788,  0.03746788,  0.03746788,\n",
       "         0.02413773,  0.03746788,  0.02413773,  0.03746788,  0.02413773,\n",
       "         0.02413773,  0.02413773,  0.02413773,  0.02413773,  0.02413773,\n",
       "         0.02413773,  0.03746788,  0.02413773,  0.02413773,  0.03746788,\n",
       "         0.02873129,  0.02413773,  0.02413773,  0.03746788,  0.02413773,\n",
       "         0.03746788,  0.03746788,  0.03746788,  0.02413773,  0.03746788,\n",
       "         0.02413773,  0.03746788,  0.02413773,  0.02413773,  0.02413773,\n",
       "         0.03746788,  0.02873129,  0.03746788,  0.03746788,  0.03746788,\n",
       "         0.03746788,  0.03746788]),\n",
       " 'std_train_score': array([ 0.00709781,  0.00709781,  0.02532478,  0.00709781,  0.01504227,\n",
       "         0.00709781,  0.01947865,  0.00709781,  0.00779089,  0.00709781,\n",
       "         0.01947865,  0.00709781,  0.01844748,  0.00709781,  0.01276005,\n",
       "         0.00709781,  0.01844748,  0.00709781,  0.02845985,  0.00709781,\n",
       "         0.01185905,  0.00709781,  0.01802171,  0.00709781,  0.01802171,\n",
       "         0.00709781,  0.01802171,  0.00709781,  0.01802171,  0.00709781,\n",
       "         0.02394223,  0.00709781,  0.02394223,  0.00709781,  0.02394223,\n",
       "         0.00709781,  0.01185905,  0.00709781,  0.01802171,  0.00709781,\n",
       "         0.01970771,  0.00709781,  0.01842619,  0.00709781,  0.02136248,\n",
       "         0.00709781,  0.01842619,  0.00709781,  0.01842619,  0.00709781,\n",
       "         0.01802171,  0.00709781,  0.01802171,  0.00709781,  0.01802171,\n",
       "         0.00709781,  0.02143504,  0.00709781,  0.01842619,  0.00709781,\n",
       "         0.01842619,  0.00709781])}"
      ]
     },
     "execution_count": 212,
     "metadata": {},
     "output_type": "execute_result"
    }
   ],
   "source": [
    "grid.cv_results_"
   ]
  },
  {
   "cell_type": "code",
   "execution_count": 222,
   "metadata": {
    "collapsed": true,
    "scrolled": true
   },
   "outputs": [],
   "source": [
    "# Create a list of the mean scores using a list comprehension to loop through the cv_results_\n",
    "grid_mean_scores = grid.cv_results_['mean_test_score']"
   ]
  },
  {
   "cell_type": "code",
   "execution_count": 229,
   "metadata": {
    "scrolled": true
   },
   "outputs": [
    {
     "data": {
      "text/plain": [
       "<matplotlib.text.Text at 0x1a1c09d080>"
      ]
     },
     "execution_count": 229,
     "metadata": {},
     "output_type": "execute_result"
    },
    {
     "data": {
      "image/png": "[encoded data removed]",
      "text/plain": [
       "<matplotlib.figure.Figure at 0x1a1bd84978>"
      ]
     },
     "metadata": {},
     "output_type": "display_data"
    }
   ],
   "source": [
    "# We need a k_range that duplicates the k: [1, 1, 2, 3, ... 31, 31]: doubled_k_range \n",
    "doubled_k_range = []\n",
    "\n",
    "for i in range(1, 32):\n",
    "    doubled_k_range.append(i)\n",
    "    doubled_k_range.append(i)\n",
    "    \n",
    "# Plot the results, identical to the one we generated above\n",
    "plt.plot(doubled_k_range, grid_mean_scores)\n",
    "plt.title('Mean Validation Scores by (k) Neighbors')\n",
    "plt.xlabel('Value of K for KNN')\n",
    "plt.ylabel('Cross-Validated Accuracy')"
   ]
  },
  {
   "cell_type": "markdown",
   "metadata": {},
   "source": [
    "## Find the \"Best\" Model \n",
    "\n",
    "* Considering the plot, is there only one model with the \"best score\"?\n",
    "* What does that tell you about `grid.best_score_`?"
   ]
  },
  {
   "cell_type": "code",
   "execution_count": 228,
   "metadata": {},
   "outputs": [
    {
     "name": "stdout",
     "output_type": "stream",
     "text": [
      "0.95\n",
      "{'n_neighbors': 5, 'weights': 'uniform'}\n",
      "KNeighborsClassifier(algorithm='auto', leaf_size=30, metric='minkowski',\n",
      "           metric_params=None, n_jobs=1, n_neighbors=5, p=2,\n",
      "           weights='uniform')\n"
     ]
    }
   ],
   "source": [
    "# Single best score achieved across all params (k)\n",
    "print(grid.best_score_)\n",
    "\n",
    "# Dictionary containing the parameters (k) used to generate the 'best' score\n",
    "print(grid.best_params_)\n",
    "\n",
    "# Actual KNN model object fit with those best parameters, including those not specified by gridsearch\n",
    "print(grid.best_estimator_)"
   ]
  },
  {
   "cell_type": "markdown",
   "metadata": {},
   "source": [
    "## BONUS:\n",
    "\n",
    "* ### Is our model overfit? Discuss the bias - variance tradeoff in this classification model."
   ]
  },
  {
   "cell_type": "code",
   "execution_count": null,
   "metadata": {
    "collapsed": true
   },
   "outputs": [],
   "source": []
  }
 ],
 "metadata": {
  "kernelspec": {
   "display_name": "Python 2",
   "language": "python",
   "name": "python2"
  },
  "language_info": {
   "codemirror_mode": {
    "name": "ipython",
    "version": 2
   },
   "file_extension": ".py",
   "mimetype": "text/x-python",
   "name": "python",
   "nbconvert_exporter": "python",
   "pygments_lexer": "ipython2",
   "version": "2.7.14"
  }
 },
 "nbformat": 4,
 "nbformat_minor": 2
}

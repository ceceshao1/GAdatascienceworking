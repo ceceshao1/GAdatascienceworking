{
 "cells": [
  {
   "cell_type": "markdown",
   "metadata": {
    "colab_type": "text",
    "id": "Vdes6e0FCHjE"
   },
   "source": [
    "## Project 1: Data Framework & Exploratory Data Analysis  "
   ]
  },
  {
   "cell_type": "markdown",
   "metadata": {
    "colab_type": "text",
    "id": "h8RnipClCHjG"
   },
   "source": [
    "> By: Cecelia Shao  \n",
    "> Submitted: January 25, 2018"
   ]
  },
  {
   "cell_type": "markdown",
   "metadata": {
    "colab_type": "text",
    "id": "ivAo-IYoCHjI"
   },
   "source": [
    "---"
   ]
  },
  {
   "cell_type": "markdown",
   "metadata": {
    "colab_type": "text",
    "id": "XCYFFECyCL_B"
   },
   "source": [
    "<img src=\"https://i.imgur.com/uXQyEHK.png\" height=\"100px\">\n",
    "\n",
    "| Requirements | Incomplete (0) | Does Not Meet Expectations (1) | Meets Expectations (2) | Exceeds Expectations (3) |\n",
    "|---|---|---|---|---|\n",
    "| Create a data dictionary with classification of available variables | | | |3- great work|\n",
    "| Correctly identify features of the dataset, including the outcome and covariates/predictors | | | |3- good |\n",
    "| Write a high-quality problem statement | | | |3-well done|\n",
    "| State the risks and assumptions of your data | | | | 3- good|\n",
    "| Outline exploratory analysis methods | | | |3-good |\n",
    "| Bonus Work | | | | 3- great|"
   ]
  },
  {
   "cell_type": "markdown",
   "metadata": {
    "colab_type": "text",
    "id": "lNcF5wHSCHjL"
   },
   "source": [
    "### Project 1 example: fictitious dataset "
   ]
  },
  {
   "cell_type": "markdown",
   "metadata": {
    "colab_type": "text",
    "id": "KPbZ5aK_CHjN"
   },
   "source": [
    "**Prompt:** Determine which free-tier customers will covert to paying customers, using demographic data collected at signup (age, gender, location, and profession) and customer useage data (days since last log in, and activity score 1 = active user, 0= inactive user) based on Hooli data from Jan-Apr 2015. "
   ]
  },
  {
   "cell_type": "markdown",
   "metadata": {
    "colab_type": "text",
    "id": "H0zBzWLHCHjO"
   },
   "source": [
    "#### 1. What is the target variable (also called 'outcome' variable)?"
   ]
  },
  {
   "cell_type": "markdown",
   "metadata": {
    "colab_type": "text",
    "id": "4N2TTvVjCHjR"
   },
   "source": [
    "**Answer:** conversion_to_paying"
   ]
  },
  {
   "cell_type": "markdown",
   "metadata": {
    "colab_type": "text",
    "id": "quSCmHNiCHjU"
   },
   "source": [
    "#### 2. List the names of the features of the data (also called 'predictors' and 'covariates')? "
   ]
  },
  {
   "cell_type": "markdown",
   "metadata": {
    "colab_type": "text",
    "id": "oK9N1dnMCHjW"
   },
   "source": [
    "**Answer:** age, gender, location, profession, days since last login, binary activity score (active/inactive)"
   ]
  },
  {
   "cell_type": "markdown",
   "metadata": {
    "colab_type": "text",
    "id": "LkBxg2yOCHjX"
   },
   "source": [
    "#### 3. According to the problem statement, what timeframe is this data relevant for?"
   ]
  },
  {
   "cell_type": "markdown",
   "metadata": {
    "colab_type": "text",
    "id": "wZHWQMa4CHja"
   },
   "source": [
    "**Answer:** January - April 2015"
   ]
  },
  {
   "cell_type": "markdown",
   "metadata": {
    "colab_type": "text",
    "id": "6hw7dGAJCHjb"
   },
   "source": [
    "#### 4. What is the hypothesis of this problem statement? What do we think the relationship is between features and the target?"
   ]
  },
  {
   "cell_type": "markdown",
   "metadata": {
    "colab_type": "text",
    "id": "7Cl0snHHCHjc"
   },
   "source": [
    "Answer: Demographic and customer usage info will allow us to predict if a customer will be convert from trialing to paying."
   ]
  },
  {
   "cell_type": "markdown",
   "metadata": {
    "colab_type": "text",
    "id": "YbAaAJ78CaD_"
   },
   "source": [
    "<img src=\"https://i.imgur.com/uXQyEHK.png\" height=\"50px\">\n",
    "\n",
    "\n"
   ]
  },
  {
   "cell_type": "markdown",
   "metadata": {
    "colab_type": "text",
    "id": "7dYjjFd1CHje"
   },
   "source": [
    "---"
   ]
  },
  {
   "cell_type": "markdown",
   "metadata": {
    "colab_type": "text",
    "id": "LtO0HsVdCHjf"
   },
   "source": [
    "### Project 1: admissions.csv"
   ]
  },
  {
   "cell_type": "markdown",
   "metadata": {
    "colab_type": "text",
    "id": "RJa8AXLiCHji"
   },
   "source": [
    "In this notebook, I will creating a data framework + plan for analysis of the `Admissions.csv`. This data framework will include:\n",
    "1. A **Data Dictionary** with classifications of available variables in the dataset\n",
    "2. Identification of the **features of the dataset**, including the outcome and covariates/predictors\n",
    "3. A high quality **problem statement** using the SMART framework\n",
    "4. Statement of the **risks and assumptions** of your data\n",
    "5. An **outline for the exploratory analysis methods** that I would use to analyze this dataset"
   ]
  },
  {
   "cell_type": "markdown",
   "metadata": {
    "colab_type": "text",
    "id": "8_XLdIOBCHjj"
   },
   "source": [
    "#### FIRST: Load the data into Jupyter notebook, and use the functions and methods you've learned to learn about the data, its columns, its datatypes, etc. "
   ]
  },
  {
   "cell_type": "code",
   "execution_count": 0,
   "metadata": {
    "colab": {
     "autoexec": {
      "startup": false,
      "wait_interval": 0
     }
    },
    "colab_type": "code",
    "collapsed": true,
    "id": "xxgwZuLbCHjl"
   },
   "outputs": [],
   "source": [
    "# Importing relevant libraries + packages\n",
    "\n",
    "import numpy as np\n",
    "import pandas as pd\n",
    "import matplotlib.pyplot as plt\n",
    "%matplotlib inline"
   ]
  },
  {
   "cell_type": "code",
   "execution_count": 0,
   "metadata": {
    "colab": {
     "autoexec": {
      "startup": false,
      "wait_interval": 0
     },
     "output_extras": [
      {}
     ]
    },
    "colab_type": "code",
    "id": "XTv3ogD_CHjs",
    "outputId": "7b4565f4-83d1-4d98-a36e-fa590aa96b87"
   },
   "outputs": [
    {
     "data": {
      "text/html": [
       "<div>\n",
       "<style>\n",
       "    .dataframe thead tr:only-child th {\n",
       "        text-align: right;\n",
       "    }\n",
       "\n",
       "    .dataframe thead th {\n",
       "        text-align: left;\n",
       "    }\n",
       "\n",
       "    .dataframe tbody tr th {\n",
       "        vertical-align: top;\n",
       "    }\n",
       "</style>\n",
       "<table border=\"1\" class=\"dataframe\">\n",
       "  <thead>\n",
       "    <tr style=\"text-align: right;\">\n",
       "      <th></th>\n",
       "      <th>admit</th>\n",
       "      <th>gre</th>\n",
       "      <th>gpa</th>\n",
       "      <th>prestige</th>\n",
       "    </tr>\n",
       "  </thead>\n",
       "  <tbody>\n",
       "    <tr>\n",
       "      <th>0</th>\n",
       "      <td>0</td>\n",
       "      <td>380.0</td>\n",
       "      <td>3.61</td>\n",
       "      <td>3.0</td>\n",
       "    </tr>\n",
       "    <tr>\n",
       "      <th>1</th>\n",
       "      <td>1</td>\n",
       "      <td>660.0</td>\n",
       "      <td>3.67</td>\n",
       "      <td>3.0</td>\n",
       "    </tr>\n",
       "    <tr>\n",
       "      <th>2</th>\n",
       "      <td>1</td>\n",
       "      <td>800.0</td>\n",
       "      <td>4.00</td>\n",
       "      <td>1.0</td>\n",
       "    </tr>\n",
       "    <tr>\n",
       "      <th>3</th>\n",
       "      <td>1</td>\n",
       "      <td>640.0</td>\n",
       "      <td>3.19</td>\n",
       "      <td>4.0</td>\n",
       "    </tr>\n",
       "    <tr>\n",
       "      <th>4</th>\n",
       "      <td>0</td>\n",
       "      <td>520.0</td>\n",
       "      <td>2.93</td>\n",
       "      <td>4.0</td>\n",
       "    </tr>\n",
       "  </tbody>\n",
       "</table>\n",
       "</div>"
      ],
      "text/plain": [
       "   admit    gre   gpa  prestige\n",
       "0      0  380.0  3.61       3.0\n",
       "1      1  660.0  3.67       3.0\n",
       "2      1  800.0  4.00       1.0\n",
       "3      1  640.0  3.19       4.0\n",
       "4      0  520.0  2.93       4.0"
      ]
     },
     "execution_count": 2,
     "metadata": {
      "tags": []
     },
     "output_type": "execute_result"
    }
   ],
   "source": [
    "# Loading the data into the notebook\n",
    "admissions = pd.read_csv('../datasets/admissions.csv')\n",
    "admissions.head()"
   ]
  },
  {
   "cell_type": "markdown",
   "metadata": {
    "colab_type": "text",
    "id": "6wpCoCDGCHj2"
   },
   "source": [
    "#### 1. Create a data dictionary that lists the column names and datatype. Try to create the data dictionary using a markdown table as shown below. Replace the 'Var 1' and 'Var2' with actual information from the data."
   ]
  },
  {
   "cell_type": "markdown",
   "metadata": {
    "colab_type": "text",
    "id": "95pHNKOkCHj3"
   },
   "source": [
    "**Answer:** \n",
    "\n",
    "Additional Link: http://www.statisticshowto.com/types-variables/\n",
    "\n",
    "\n",
    "Variable | Description | Type of Variable\n",
    "---| ---| ---\n",
    "admit | 0 = not admitted 1 = admitted | binary\n",
    "gre | GRE score | numerical \n",
    "gpa |Grade Point Average | numerical\n",
    "prestige |is the rank of an applicant's undergraduate alma mater, with 1 being the highest and 4 as the lowest | ranked\n"
   ]
  },
  {
   "cell_type": "markdown",
   "metadata": {
    "colab_type": "text",
    "id": "scuj7oLpCHj5"
   },
   "source": [
    "We would like to explore the association between Xs (features) and Y (target) "
   ]
  },
  {
   "cell_type": "markdown",
   "metadata": {
    "colab_type": "text",
    "id": "28Eh4hM4CHj6"
   },
   "source": [
    "#### 2. What is the target (i.e. What is your y, or your 'outcome' variable)?"
   ]
  },
  {
   "cell_type": "markdown",
   "metadata": {
    "colab_type": "text",
    "id": "spFCBvhXCHj7"
   },
   "source": [
    "**Answer:** admit"
   ]
  },
  {
   "cell_type": "markdown",
   "metadata": {
    "colab_type": "text",
    "id": "qKG6QoFXCHj8"
   },
   "source": [
    "#### 3. What are your features (i.e. the predictors/covariates)? "
   ]
  },
  {
   "cell_type": "markdown",
   "metadata": {
    "colab_type": "text",
    "id": "bSWnfpJcCHj-"
   },
   "source": [
    "**Answer:** gre score, gpa, prestige of their alma mater"
   ]
  },
  {
   "cell_type": "markdown",
   "metadata": {
    "colab_type": "text",
    "id": "e-pioAQ9CHj_"
   },
   "source": [
    "#### 4. What timeframe is this data relevent for? How did you find out?"
   ]
  },
  {
   "cell_type": "markdown",
   "metadata": {
    "colab_type": "text",
    "id": "tuoeYIg3CHkA"
   },
   "source": [
    "**Answer:** N/A. The timeframe is not available so consider it unknown."
   ]
  },
  {
   "cell_type": "markdown",
   "metadata": {
    "colab_type": "text",
    "id": "e7J9BiyiCHkC"
   },
   "source": [
    "#### 4. What is the hypothesis for your data? What relationships do you think exist between the target and the features?"
   ]
  },
  {
   "cell_type": "markdown",
   "metadata": {
    "colab_type": "text",
    "id": "OPjl4NfeCHkD"
   },
   "source": [
    "**Answer:** Students with better quantitative academic backgrounds, specifically higher GPA and GRE scores, are more likely to be admitted to graduate school compared to students with poor academic performance even when prestige of their alma mater is considered."
   ]
  },
  {
   "cell_type": "markdown",
   "metadata": {
    "colab_type": "text",
    "id": "eA8Dbau4CHkE"
   },
   "source": [
    "Using the above information, write a well-formed problem statement similar to the example given in the first part above. \n"
   ]
  },
  {
   "cell_type": "markdown",
   "metadata": {
    "colab_type": "text",
    "id": "21xCSRPeFFtf"
   },
   "source": [
    "<img src=\"https://i.imgur.com/uXQyEHK.png\" height=\"100px\">\n",
    "\n",
    "\n",
    "## Great job on these responses! Spot on!"
   ]
  },
  {
   "cell_type": "markdown",
   "metadata": {
    "colab_type": "text",
    "id": "GWWkpfeLCHkF"
   },
   "source": [
    "## Problem Statement"
   ]
  },
  {
   "cell_type": "markdown",
   "metadata": {
    "colab_type": "text",
    "id": "qMg4e3T-CHkG"
   },
   "source": [
    "Using the features available in this admissions.csv dataset around applicant GPA, GRE score, and alma mater prestige, determine whether **quantitative academic credentials around GRE scores and GPAs** are associated with student admission rates.\n",
    "\n",
    "\n",
    "> note: it is unclear whether this data is cross-sectional or longitudinal since dates are omitted."
   ]
  },
  {
   "cell_type": "markdown",
   "metadata": {
    "colab_type": "text",
    "id": "cm7TLLOBFKLo"
   },
   "source": [
    "<img src=\"https://i.imgur.com/uXQyEHK.png\" height=\"100px\">\n",
    "\n",
    "## Well stated."
   ]
  },
  {
   "cell_type": "markdown",
   "metadata": {
    "colab_type": "text",
    "id": "Wqr5MnqiCHkJ"
   },
   "source": [
    "### Exploratory Analysis Plan"
   ]
  },
  {
   "cell_type": "markdown",
   "metadata": {
    "colab_type": "text",
    "id": "lQ9xs4Q7CHkL"
   },
   "source": [
    "Using the lab from a class as a guide, create an exploratory analysis plan that you would follow to visually and analytically show patterns and trends in your data. "
   ]
  },
  {
   "cell_type": "code",
   "execution_count": 0,
   "metadata": {
    "colab": {
     "autoexec": {
      "startup": false,
      "wait_interval": 0
     }
    },
    "colab_type": "code",
    "collapsed": true,
    "id": "670m_00oCHkN"
   },
   "outputs": [],
   "source": [
    "from sklearn import datasets\n",
    "from sklearn import metrics"
   ]
  },
  {
   "cell_type": "code",
   "execution_count": 0,
   "metadata": {
    "colab": {
     "autoexec": {
      "startup": false,
      "wait_interval": 0
     },
     "output_extras": [
      {}
     ]
    },
    "colab_type": "code",
    "id": "jbNmCIgUCHkT",
    "outputId": "60a14d70-8af0-4f43-a6ac-bbbec5e93c0b"
   },
   "outputs": [
    {
     "data": {
      "text/html": [
       "<div>\n",
       "<style>\n",
       "    .dataframe thead tr:only-child th {\n",
       "        text-align: right;\n",
       "    }\n",
       "\n",
       "    .dataframe thead th {\n",
       "        text-align: left;\n",
       "    }\n",
       "\n",
       "    .dataframe tbody tr th {\n",
       "        vertical-align: top;\n",
       "    }\n",
       "</style>\n",
       "<table border=\"1\" class=\"dataframe\">\n",
       "  <thead>\n",
       "    <tr style=\"text-align: right;\">\n",
       "      <th></th>\n",
       "      <th>admit</th>\n",
       "      <th>gre</th>\n",
       "      <th>gpa</th>\n",
       "      <th>prestige</th>\n",
       "    </tr>\n",
       "  </thead>\n",
       "  <tbody>\n",
       "    <tr>\n",
       "      <th>count</th>\n",
       "      <td>400.000000</td>\n",
       "      <td>398.000000</td>\n",
       "      <td>398.00000</td>\n",
       "      <td>399.000000</td>\n",
       "    </tr>\n",
       "    <tr>\n",
       "      <th>mean</th>\n",
       "      <td>0.317500</td>\n",
       "      <td>588.040201</td>\n",
       "      <td>3.39093</td>\n",
       "      <td>2.486216</td>\n",
       "    </tr>\n",
       "    <tr>\n",
       "      <th>std</th>\n",
       "      <td>0.466087</td>\n",
       "      <td>115.628513</td>\n",
       "      <td>0.38063</td>\n",
       "      <td>0.945333</td>\n",
       "    </tr>\n",
       "    <tr>\n",
       "      <th>min</th>\n",
       "      <td>0.000000</td>\n",
       "      <td>220.000000</td>\n",
       "      <td>2.26000</td>\n",
       "      <td>1.000000</td>\n",
       "    </tr>\n",
       "    <tr>\n",
       "      <th>25%</th>\n",
       "      <td>0.000000</td>\n",
       "      <td>520.000000</td>\n",
       "      <td>3.13000</td>\n",
       "      <td>2.000000</td>\n",
       "    </tr>\n",
       "    <tr>\n",
       "      <th>50%</th>\n",
       "      <td>0.000000</td>\n",
       "      <td>580.000000</td>\n",
       "      <td>3.39500</td>\n",
       "      <td>2.000000</td>\n",
       "    </tr>\n",
       "    <tr>\n",
       "      <th>75%</th>\n",
       "      <td>1.000000</td>\n",
       "      <td>660.000000</td>\n",
       "      <td>3.67000</td>\n",
       "      <td>3.000000</td>\n",
       "    </tr>\n",
       "    <tr>\n",
       "      <th>max</th>\n",
       "      <td>1.000000</td>\n",
       "      <td>800.000000</td>\n",
       "      <td>4.00000</td>\n",
       "      <td>4.000000</td>\n",
       "    </tr>\n",
       "  </tbody>\n",
       "</table>\n",
       "</div>"
      ],
      "text/plain": [
       "            admit         gre        gpa    prestige\n",
       "count  400.000000  398.000000  398.00000  399.000000\n",
       "mean     0.317500  588.040201    3.39093    2.486216\n",
       "std      0.466087  115.628513    0.38063    0.945333\n",
       "min      0.000000  220.000000    2.26000    1.000000\n",
       "25%      0.000000  520.000000    3.13000    2.000000\n",
       "50%      0.000000  580.000000    3.39500    2.000000\n",
       "75%      1.000000  660.000000    3.67000    3.000000\n",
       "max      1.000000  800.000000    4.00000    4.000000"
      ]
     },
     "execution_count": 17,
     "metadata": {
      "tags": []
     },
     "output_type": "execute_result"
    }
   ],
   "source": [
    "#use .describe() to return the count, mean, standard deviation, minimum and maximum values and the quantiles of the data.\n",
    "admissions.describe()"
   ]
  },
  {
   "cell_type": "code",
   "execution_count": 0,
   "metadata": {
    "colab": {
     "autoexec": {
      "startup": false,
      "wait_interval": 0
     },
     "output_extras": [
      {}
     ]
    },
    "colab_type": "code",
    "id": "pW5Ppb22CHkb",
    "outputId": "c620db59-0474-475c-f979-229e526cf5cf"
   },
   "outputs": [
    {
     "data": {
      "text/html": [
       "<div>\n",
       "<style>\n",
       "    .dataframe thead tr:only-child th {\n",
       "        text-align: right;\n",
       "    }\n",
       "\n",
       "    .dataframe thead th {\n",
       "        text-align: left;\n",
       "    }\n",
       "\n",
       "    .dataframe tbody tr th {\n",
       "        vertical-align: top;\n",
       "    }\n",
       "</style>\n",
       "<table border=\"1\" class=\"dataframe\">\n",
       "  <thead>\n",
       "    <tr style=\"text-align: right;\">\n",
       "      <th></th>\n",
       "      <th>admit</th>\n",
       "      <th>gre</th>\n",
       "      <th>gpa</th>\n",
       "      <th>prestige</th>\n",
       "    </tr>\n",
       "  </thead>\n",
       "  <tbody>\n",
       "    <tr>\n",
       "      <th>0</th>\n",
       "      <td>0</td>\n",
       "      <td>380.0</td>\n",
       "      <td>3.61</td>\n",
       "      <td>3.0</td>\n",
       "    </tr>\n",
       "    <tr>\n",
       "      <th>1</th>\n",
       "      <td>1</td>\n",
       "      <td>660.0</td>\n",
       "      <td>3.67</td>\n",
       "      <td>3.0</td>\n",
       "    </tr>\n",
       "    <tr>\n",
       "      <th>2</th>\n",
       "      <td>1</td>\n",
       "      <td>800.0</td>\n",
       "      <td>4.00</td>\n",
       "      <td>1.0</td>\n",
       "    </tr>\n",
       "    <tr>\n",
       "      <th>3</th>\n",
       "      <td>1</td>\n",
       "      <td>640.0</td>\n",
       "      <td>3.19</td>\n",
       "      <td>4.0</td>\n",
       "    </tr>\n",
       "    <tr>\n",
       "      <th>4</th>\n",
       "      <td>0</td>\n",
       "      <td>520.0</td>\n",
       "      <td>2.93</td>\n",
       "      <td>4.0</td>\n",
       "    </tr>\n",
       "  </tbody>\n",
       "</table>\n",
       "</div>"
      ],
      "text/plain": [
       "   admit    gre   gpa  prestige\n",
       "0      0  380.0  3.61       3.0\n",
       "1      1  660.0  3.67       3.0\n",
       "2      1  800.0  4.00       1.0\n",
       "3      1  640.0  3.19       4.0\n",
       "4      0  520.0  2.93       4.0"
      ]
     },
     "execution_count": 26,
     "metadata": {
      "tags": []
     },
     "output_type": "execute_result"
    }
   ],
   "source": [
    "# Inspect the first 5 rows of `digits`\n",
    "admissions.head(5)"
   ]
  },
  {
   "cell_type": "code",
   "execution_count": 0,
   "metadata": {
    "colab": {
     "autoexec": {
      "startup": false,
      "wait_interval": 0
     },
     "output_extras": [
      {}
     ]
    },
    "colab_type": "code",
    "id": "zN3bQ1rNCHkl",
    "outputId": "fdefc705-8e34-4096-922e-5a2c10b071ed"
   },
   "outputs": [
    {
     "data": {
      "text/html": [
       "<div>\n",
       "<style>\n",
       "    .dataframe thead tr:only-child th {\n",
       "        text-align: right;\n",
       "    }\n",
       "\n",
       "    .dataframe thead th {\n",
       "        text-align: left;\n",
       "    }\n",
       "\n",
       "    .dataframe tbody tr th {\n",
       "        vertical-align: top;\n",
       "    }\n",
       "</style>\n",
       "<table border=\"1\" class=\"dataframe\">\n",
       "  <thead>\n",
       "    <tr style=\"text-align: right;\">\n",
       "      <th></th>\n",
       "      <th>admit</th>\n",
       "      <th>gre</th>\n",
       "      <th>gpa</th>\n",
       "      <th>prestige</th>\n",
       "    </tr>\n",
       "  </thead>\n",
       "  <tbody>\n",
       "    <tr>\n",
       "      <th>395</th>\n",
       "      <td>0</td>\n",
       "      <td>620.0</td>\n",
       "      <td>4.00</td>\n",
       "      <td>2.0</td>\n",
       "    </tr>\n",
       "    <tr>\n",
       "      <th>396</th>\n",
       "      <td>0</td>\n",
       "      <td>560.0</td>\n",
       "      <td>3.04</td>\n",
       "      <td>3.0</td>\n",
       "    </tr>\n",
       "    <tr>\n",
       "      <th>397</th>\n",
       "      <td>0</td>\n",
       "      <td>460.0</td>\n",
       "      <td>2.63</td>\n",
       "      <td>2.0</td>\n",
       "    </tr>\n",
       "    <tr>\n",
       "      <th>398</th>\n",
       "      <td>0</td>\n",
       "      <td>700.0</td>\n",
       "      <td>3.65</td>\n",
       "      <td>2.0</td>\n",
       "    </tr>\n",
       "    <tr>\n",
       "      <th>399</th>\n",
       "      <td>0</td>\n",
       "      <td>600.0</td>\n",
       "      <td>3.89</td>\n",
       "      <td>3.0</td>\n",
       "    </tr>\n",
       "  </tbody>\n",
       "</table>\n",
       "</div>"
      ],
      "text/plain": [
       "     admit    gre   gpa  prestige\n",
       "395      0  620.0  4.00       2.0\n",
       "396      0  560.0  3.04       3.0\n",
       "397      0  460.0  2.63       2.0\n",
       "398      0  700.0  3.65       2.0\n",
       "399      0  600.0  3.89       3.0"
      ]
     },
     "execution_count": 27,
     "metadata": {
      "tags": []
     },
     "output_type": "execute_result"
    }
   ],
   "source": [
    "# Inspect the last 5 rows\n",
    "admissions.tail(5)"
   ]
  },
  {
   "cell_type": "code",
   "execution_count": 0,
   "metadata": {
    "colab": {
     "autoexec": {
      "startup": false,
      "wait_interval": 0
     },
     "output_extras": [
      {}
     ]
    },
    "colab_type": "code",
    "id": "Sp3UlKS8CHkt",
    "outputId": "37e59964-4e7d-436e-f5c9-89a2c7e33988"
   },
   "outputs": [
    {
     "data": {
      "text/html": [
       "<div>\n",
       "<style>\n",
       "    .dataframe thead tr:only-child th {\n",
       "        text-align: right;\n",
       "    }\n",
       "\n",
       "    .dataframe thead th {\n",
       "        text-align: left;\n",
       "    }\n",
       "\n",
       "    .dataframe tbody tr th {\n",
       "        vertical-align: top;\n",
       "    }\n",
       "</style>\n",
       "<table border=\"1\" class=\"dataframe\">\n",
       "  <thead>\n",
       "    <tr style=\"text-align: right;\">\n",
       "      <th></th>\n",
       "      <th>admit</th>\n",
       "      <th>gre</th>\n",
       "      <th>gpa</th>\n",
       "      <th>prestige</th>\n",
       "    </tr>\n",
       "  </thead>\n",
       "  <tbody>\n",
       "    <tr>\n",
       "      <th>353</th>\n",
       "      <td>0</td>\n",
       "      <td>700.0</td>\n",
       "      <td>3.52</td>\n",
       "      <td>2.0</td>\n",
       "    </tr>\n",
       "  </tbody>\n",
       "</table>\n",
       "</div>"
      ],
      "text/plain": [
       "     admit    gre   gpa  prestige\n",
       "353      0  700.0  3.52       2.0"
      ]
     },
     "execution_count": 28,
     "metadata": {
      "tags": []
     },
     "output_type": "execute_result"
    }
   ],
   "source": [
    "# taking a sample of data\n",
    "admissions.sample()"
   ]
  },
  {
   "cell_type": "markdown",
   "metadata": {
    "colab_type": "text",
    "id": "-WT1ecFeCHk5"
   },
   "source": [
    "#### 1. What are the goals of your exploratory analysis? "
   ]
  },
  {
   "cell_type": "markdown",
   "metadata": {
    "colab_type": "text",
    "id": "bSCr9aKrCHk7"
   },
   "source": [
    "**Answer:** My exploratory analysis will revolve around two primary goals: (1) ensuring the quality/state of the given data and confirming that it is appropriate for address the hypothesis and achieve the business objective (2) obtain an understanding of the nature of the data in order to determine how to effectively analyze/prepare it and what challenges/risks may lie in using the data.\n"
   ]
  },
  {
   "cell_type": "markdown",
   "metadata": {
    "colab_type": "text",
    "id": "ElepUw9GCHk8"
   },
   "source": [
    "#### 2a. What are some assumptions about the distribution of this data? "
   ]
  },
  {
   "cell_type": "markdown",
   "metadata": {
    "colab_type": "text",
    "id": "ULrUiYaFCHk9"
   },
   "source": [
    "**Answer:** Since the target variable is binary (yes or no via 1 or 0), I would assume that the dataset's distribution will be binomial. Another more shaky assumption (which I would confirm by actually exploring the data) is there would be negative (left) skew in the data since most applicants to graduate schools would be people who performed relatively well in school (relatively higher GPAs) and want to put their best foot forward in terms of GRE scores (wouldn't submit a score that's objectively poor)."
   ]
  },
  {
   "cell_type": "markdown",
   "metadata": {
    "colab_type": "text",
    "id": "lhkVU8ZvCHk-"
   },
   "source": [
    "#### 2b. What method would you use to discover the distribution of your data features? "
   ]
  },
  {
   "cell_type": "markdown",
   "metadata": {
    "colab_type": "text",
    "id": "PwcGvJt-CHk_"
   },
   "source": [
    "**Answer:** There is also an interesting package called seaborn which can help plot distributions such as histograms and scatterplots (more info here: https://seaborn.pydata.org/tutorial/distributions.html). I would also use a boxplot to better understand the features' distribution."
   ]
  },
  {
   "cell_type": "markdown",
   "metadata": {
    "colab_type": "text",
    "id": "NT8Pyd5VFWP-"
   },
   "source": [
    "<img src=\"https://i.imgur.com/uXQyEHK.png\" height=\"100px\">\n",
    "\n",
    "## Seaborn is something we use a lot. The `seaborn.pairplot()` and `seaborn.heatmap()` are two often-used plots to familiarize yourself with."
   ]
  },
  {
   "cell_type": "markdown",
   "metadata": {
    "colab_type": "text",
    "id": "8-Yv71VYCHlC"
   },
   "source": [
    "#### 3a. How might outliers impact your analysis? "
   ]
  },
  {
   "cell_type": "markdown",
   "metadata": {
    "colab_type": "text",
    "id": "BMoVMkOBCHlD"
   },
   "source": [
    "**Answer:** Outliers in the data can effect the value of the mean of the dataset by \"artifically\" bumping the mean up if its a higher outlier or dragging the mean down if its a lower outlier. Outliers could contain valuable information or they could be meaningless aberrations caused by errors from measurement. Either way, it's important to set a reasonable threshold for what is defined as a threshold since outliers can either be mild or extreme (and then identify outliers as we do in (3b) below to track them) and also make sure to gauge the sample size of the dataset to see the potential impact of outliers (since smaller sample sizes are disproportionately effected by outliers).\n",
    "\n",
    "\n",
    "\n"
   ]
  },
  {
   "cell_type": "markdown",
   "metadata": {
    "colab_type": "text",
    "id": "d2tdAP__CHlE"
   },
   "source": [
    "#### 3b. What functions/methods/visual tools will you use to look for the presence of outliers? "
   ]
  },
  {
   "cell_type": "markdown",
   "metadata": {
    "colab_type": "text",
    "id": "TboviJmYCHlH"
   },
   "source": [
    "**Answer:** I will use three visualization techniques - the scatterplot, the histogram, and the boxplot to identify outliers with the data. There are also resources for using Z-scores to identify outliers that I could use (more info here: http://colingorrie.github.io/outlier-detection.html).\n",
    "\n",
    "> Another interesting source: https://community.modeanalytics.com/python/tutorial/python-histograms-boxplots-and-distributions/"
   ]
  },
  {
   "cell_type": "markdown",
   "metadata": {
    "colab_type": "text",
    "id": "aNWTNmH9CHlI"
   },
   "source": [
    "#### 4a. What is colinearity? Why do we care about colinearity in our features?"
   ]
  },
  {
   "cell_type": "markdown",
   "metadata": {
    "colab_type": "text",
    "id": "7KXAzJ-jCHlL"
   },
   "source": [
    "**Answer:** Colinearity refers to the presence of a linear relationship between two predictor variables. Multicolinearity involves more than two variables.\n",
    "\n",
    "Collinearity can inflate the variance of at least one estimated regression coefficient, which can cause the model to predict erroneously. When multicolinearity exists in a dataset, small changes in the data can cause large changes in the model (i.e. coefficient values), making model interpretation very difficult. "
   ]
  },
  {
   "cell_type": "markdown",
   "metadata": {
    "colab_type": "text",
    "id": "6_fBPC_TCHlM"
   },
   "source": [
    "#### 4b. What methods/functions/visual tools can you use to reveal colinearity in your features? "
   ]
  },
  {
   "cell_type": "markdown",
   "metadata": {
    "colab_type": "text",
    "id": "BHJkumbTCHlN"
   },
   "source": [
    "**Answer:** We can use Variance Inflation Factor (VIF) or Best Subset Analysis to check for collinearity. Principal Components Analysis, which is a regression methods that cut the number of predictors to a smaller set of uncorrelated components, can also be used.\n",
    "\n",
    "Rules for identifying collinearity using VIF technique: \n",
    "- If all values of VIF are near 1 indicates no collinearity between the predictor variables\n",
    "- VIF of  >1 to 5 indicates moderate collinearity\n",
    "- VIF of >5 indicates serious collinearity\n",
    "\n",
    "Source: https://www.datasciencecentral.com/profiles/blogs/multicollinearity-a-problem-or-an-opportunity"
   ]
  },
  {
   "cell_type": "markdown",
   "metadata": {
    "colab_type": "text",
    "id": "al6vvVoIFu3u"
   },
   "source": [
    "<img src=\"https://i.imgur.com/uXQyEHK.png\" height=\"100px\">\n",
    "\n",
    "## Another simple first approach to identifying multicollinearity is to run a correlation table on your dataframe, `data.corr()` and considering corrlations between predictor variables."
   ]
  },
  {
   "cell_type": "markdown",
   "metadata": {
    "colab_type": "text",
    "id": "RaACiCMHCHlO"
   },
   "source": [
    "#### 5. What is your exploratory analysis plan?\n",
    "Using the above information, write an exploratory analysis plan that would allow you or a colleague to reproduce your analysis 1 year from now. "
   ]
  },
  {
   "cell_type": "markdown",
   "metadata": {
    "colab_type": "text",
    "id": "XMBlaVcOCHlP"
   },
   "source": [
    "**Answer:**\n",
    "\n",
    "Going back to the two primary goals for my exploratory analysis...\n",
    "> Two primary goals: (1) ensuring the quality/state of the given data and confirming that it is appropriate for address the hypothesis and achieve the business objective (2) obtain an understanding of the nature of the data in order to determine how to effectively analyze/prepare it and what challenges/risks may lie in using the data.\n",
    "\n",
    "\n",
    "0. Try to find documentation around the given data set (where did it come from, how was it collected) if possible\n",
    "1. Read the data set into a notebook and place it into a dataframe\n",
    "2. Do a quick manual check of the data to look for missing values and see if there's an outliers or interesting things such as patterns/groups to note for later\n",
    "3. Confirm whether or not any transformations or wrangling is needed (the yhat blog renamed rank to prestige)\n",
    "4. Pull summary statistics for the data, such as: mean, median, mode, standard deviation, variance, quartiles, min/max values\n",
    "5. Programmatically find if there are any nulls values via .isnull() function\n",
    "6. Visually plot the distribution of the dataset using histograms, bloxplots, and scatterplots in order to see the distribution of the data (check assumption from above in Question 2a) and \n",
    "7. Create separate frequency tables for each of the predictor variables\n",
    "8. Check for multicolinearity between the variables (can create dummy variables for prestige first and exclude one)\n",
    "9. Record everything!"
   ]
  },
  {
   "cell_type": "markdown",
   "metadata": {
    "colab_type": "text",
    "id": "GfflBEsXGGNn"
   },
   "source": [
    "<img src=\"https://i.imgur.com/uXQyEHK.png\" height=\"100px\">\n",
    "\n",
    "## Great work. For finding nulls, the first thing you might want to do when you have imported the data into a pandas dataframe is run the `data.info()` function, which shows you the number of row, number of columns, data type of each column and number of non-nulls in each column.\n",
    "\n",
    "## The seaborn pairplot() plot will create a histogram for each feature, along with an X-Y scatter plot for each pair of features. This isn't desirable for > 10 features, but it can be very helpful in determining both multicollinearity and each feature's distribution."
   ]
  },
  {
   "cell_type": "markdown",
   "metadata": {
    "colab_type": "text",
    "id": "QyMxD4KuCHlS"
   },
   "source": [
    "## Bonus Questions:\n",
    "1. Outline a plan for predicting your target variable\n",
    "2. Write an alternative problem statement for your dataset\n",
    "3. Articulate the assumptions and risks of the alternative model"
   ]
  },
  {
   "cell_type": "markdown",
   "metadata": {
    "colab_type": "text",
    "id": "dhW2Er1VCHlT"
   },
   "source": [
    "**Plan for predicting target variable**\n",
    "- create dummy variables for prestige and create a separate dataframe just for prestige \n",
    "- join the dummy variables dataframe with the rest of the variables' dataframe \n",
    "- perform a logistic regression or try using techniques such as RandomForst and see the results (with a special check on confidence intervals)\n",
    "> source: http://blog.yhat.com/posts/logistic-regression-python-rodeo.html"
   ]
  },
  {
   "cell_type": "markdown",
   "metadata": {
    "colab_type": "text",
    "id": "HHcKqMaXCHlU"
   },
   "source": [
    "**Alternative problem statement:** Using the features available in this admissions.csv dataset around applicant GPA, GRE score, and alma mater prestige, determine whether **qualitative measures such as alma mater prestige** are associated with student admission rates. "
   ]
  },
  {
   "cell_type": "markdown",
   "metadata": {
    "colab_type": "text",
    "id": "IrtxmnkdCHlV"
   },
   "source": [
    "**Risks & Assumptions:**\n",
    "> some of these responses also hold true for the proposed model above\n",
    "\n",
    "My assumptions are:\n",
    "- this dataset was collected in an accurate and thorough way (i.e. there was no manipulation or erroneous collection of the data)\n",
    "- this dataset is around admittance to one major/graduate program as opposed to an entire school's admittance data (e.g. only admissions data from business school and NOT mixing business with engineering school admittances)\n",
    "\n",
    "Risks are:\n",
    "- how the variable `prestige` is both measured and recorded is unknown. This is subjective value so there's concern over whether or not the collection method is consistent and valid\n",
    "- there's no information on the time-range during which this data was collected so not sure if standards or methods of data collection changed throughout time (e.g. there are some schools that offer GPAs of '5' so are those GPAs converted to a 1-4 scale?\n",
    "- there's no insight regarding whether admissions standards/guidelines or the folks making admissions decisions changed during this period of time (since \n",
    "- there's a clear absence/omission of other variables that could come into play with the admissions process (e.g. geographic location, legacy, supplements, major choice, etc...)\n",
    "- there could be multicolinearity between the predictor variables"
   ]
  },
  {
   "cell_type": "code",
   "execution_count": 0,
   "metadata": {
    "colab": {
     "autoexec": {
      "startup": false,
      "wait_interval": 0
     }
    },
    "colab_type": "code",
    "collapsed": true,
    "id": "mqXNQeFdCHlX"
   },
   "outputs": [],
   "source": []
  },
  {
   "cell_type": "markdown",
   "metadata": {
    "colab_type": "text",
    "id": "fQZ3FGvtGq_0"
   },
   "source": [
    "<img src=\"https://i.imgur.com/uXQyEHK.png\" height=\"100px\">\n",
    "\n",
    "The final assumption that many have examined with the admissions.csv data is that we only have data for a small selection of students: those with good enough grades and high enough GRE to be applying to grad schools. So this data already has selection bias. We don't know that we have perfect cross section of how all students with full range of GRE and GPAs would fare, becuase we only see students who are doing well enough to apply in the first place. This is only important for regression, where we are asking the model to give us a coefficient that explains what power GRE has in the admissions decision, but we only really get an answer that explains its power among pretty successful students. We can't generalize the resulting coefficients back to all students because of the selection bias."
   ]
  }
 ],
 "metadata": {
  "colab": {
   "collapsed_sections": [],
   "default_view": {},
   "name": "GRADED- Project_1_Cecelia_Shao - Cecelia Shao.ipynb",
   "provenance": [],
   "version": "0.3.2",
   "views": {}
  },
  "kernelspec": {
   "display_name": "Python 2",
   "language": "python",
   "name": "python2"
  },
  "language_info": {
   "codemirror_mode": {
    "name": "ipython",
    "version": 2
   },
   "file_extension": ".py",
   "mimetype": "text/x-python",
   "name": "python",
   "nbconvert_exporter": "python",
   "pygments_lexer": "ipython2",
   "version": "2.7.14"
  }
 },
 "nbformat": 4,
 "nbformat_minor": 1
}

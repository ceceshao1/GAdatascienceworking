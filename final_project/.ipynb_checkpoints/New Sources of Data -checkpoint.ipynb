{
 "cells": [
  {
   "cell_type": "markdown",
   "metadata": {},
   "source": [
    "## Yelp Data \n",
    "\n",
    "https://www.yelp.com/developers/documentation/v3/business_search\n",
    "\n",
    "Downloaded dataset as .tar file from https://www.yelp.com/dataset\n",
    "Steps to convert the data: http://nbviewer.jupyter.org/github/zachzeyuchen/ga-data-science/blob/master/NB/Final%20Project.ipynb"
   ]
  },
  {
   "cell_type": "markdown",
   "metadata": {},
   "source": [
    "## Uber Data \n",
    "\n",
    "\n",
    "April - September 2014\n",
    "January - June 2015\n",
    "\n",
    "http://toddwschneider.com/posts/analyzing-1-1-billion-nyc-taxi-and-uber-trips-with-a-vengeance/\n",
    "\n",
    "Visualization: https://www.kaggle.com/dotman/data-exploration-and-visualization/notebook\n",
    "\n",
    "\n",
    "> Auth0 (just in case): https://manage.auth0.com/#/apis/5a95aeac0894165bfb44cfe8/settings"
   ]
  },
  {
   "cell_type": "markdown",
   "metadata": {},
   "source": [
    "## Foursquare Data\n",
    "\n",
    "https://developer.foursquare.com/docs/api/getting-started \n",
    "https://developer.foursquare.com/docs/api/checkins/details\n",
    "https://foursquare.com/developers/apps\n",
    "\n",
    "https://github.com/mLewisLogic/foursquare"
   ]
  },
  {
   "cell_type": "markdown",
   "metadata": {},
   "source": [
    "## Property Value \n",
    "\n",
    "Trulia Rent + Sales Price data (by Zillow): https://www.trulia.com/blog/data-portal/data/ \n",
    "\n",
    "New York Displacement Map: https://www.dapmapnyc.org/\n",
    "        \n",
    "Article/Source: https://datasmart.ash.harvard.edu/news/article/where-is-gentrification-happening-in-your-city-1055"
   ]
  }
 ],
 "metadata": {
  "kernelspec": {
   "display_name": "Python 2",
   "language": "python",
   "name": "python2"
  },
  "language_info": {
   "codemirror_mode": {
    "name": "ipython",
    "version": 2
   },
   "file_extension": ".py",
   "mimetype": "text/x-python",
   "name": "python",
   "nbconvert_exporter": "python",
   "pygments_lexer": "ipython2",
   "version": "2.7.14"
  }
 },
 "nbformat": 4,
 "nbformat_minor": 2
}

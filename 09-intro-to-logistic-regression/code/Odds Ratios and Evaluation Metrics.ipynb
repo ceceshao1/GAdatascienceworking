{
 "cells": [
  {
   "cell_type": "markdown",
   "metadata": {},
   "source": [
    "### Odds Ratios"
   ]
  },
  {
   "cell_type": "markdown",
   "metadata": {},
   "source": [
    "The initial step in the logit link function involves the use of **odds ratios**. \n",
    "\n",
    "Probabilities and odds ratios represent the same thing in different ways. Probabilities can be alternatively expressed as odds ratios. The odds ratio for probability **p** is defined:\n",
    "\n",
    "### $$\\text{odds ratio}(p) = \\frac{p}{1-p}$$\n",
    "\n",
    "The odds ratio of a probability is a measure of how many times more likely it is than the inverse case."
   ]
  },
  {
   "cell_type": "code",
   "execution_count": 1,
   "metadata": {
    "collapsed": true
   },
   "outputs": [],
   "source": [
    "# Expressed in code\n",
    "\n",
    "def odds_ratio(p):\n",
    "    OR = p/(1-p)\n",
    "    return OR"
   ]
  },
  {
   "cell_type": "markdown",
   "metadata": {},
   "source": [
    "- When **`p = 0.5`**, the **`odds ratio = 1`** (e.g. coin toss) --> 0.5/1-0.5\n",
    "    - it is equally likely to happen as it is to not happen."
   ]
  },
  {
   "cell_type": "code",
   "execution_count": 2,
   "metadata": {},
   "outputs": [
    {
     "data": {
      "text/plain": [
       "1.0"
      ]
     },
     "execution_count": 2,
     "metadata": {},
     "output_type": "execute_result"
    }
   ],
   "source": [
    "odds_ratio(0.5)"
   ]
  },
  {
   "cell_type": "markdown",
   "metadata": {},
   "source": [
    "- When **`p = 0.75`**, the **`odds ratio = 3`**\n",
    "    - it is 3 times more likely to happen than not happen."
   ]
  },
  {
   "cell_type": "code",
   "execution_count": 4,
   "metadata": {},
   "outputs": [
    {
     "data": {
      "text/plain": [
       "3.0"
      ]
     },
     "execution_count": 4,
     "metadata": {},
     "output_type": "execute_result"
    }
   ],
   "source": [
    "odds_ratio(0.75)\n",
    "\n",
    "# 0.75/1-0.75 = "
   ]
  },
  {
   "cell_type": "markdown",
   "metadata": {},
   "source": [
    "- When **`p = 0.40`**, the **`odds ratio = 0.6666666...`**\n",
    "    - it is 2/3rds as likely to happen than not happen."
   ]
  },
  {
   "cell_type": "code",
   "execution_count": 5,
   "metadata": {},
   "outputs": [
    {
     "data": {
      "text/plain": [
       "0.6666666666666667"
      ]
     },
     "execution_count": 5,
     "metadata": {},
     "output_type": "execute_result"
    }
   ],
   "source": [
    "odds_ratio(.40)"
   ]
  },
  {
   "cell_type": "code",
   "execution_count": 6,
   "metadata": {
    "collapsed": true
   },
   "outputs": [],
   "source": [
    "# for the 5:1 football odds, then 5/6 = 0.8333333\n",
    "# then use odds_ratio(0.8333333)"
   ]
  },
  {
   "cell_type": "markdown",
   "metadata": {},
   "source": [
    "`Odd_ratio refresher complete. Let's get to the code along, shall we?`"
   ]
  },
  {
   "cell_type": "markdown",
   "metadata": {},
   "source": [
    "## Evaluating your Classification Model using the Pima Diabetes dataset"
   ]
  },
  {
   "cell_type": "markdown",
   "metadata": {},
   "source": [
    "` A bit of feature information from the data dictionary for the Pima Diabetes dataset`\n",
    "\n",
    "1. Number of times pregnant \n",
    "2. Plasma glucose concentration a 2 hours in an oral glucose tolerance test \n",
    "3. Diastolic blood pressure (mm Hg) \n",
    "4. Triceps skin fold thickness (mm) \n",
    "5. 2-Hour serum insulin (mu U/ml) \n",
    "6. Body mass index (weight in kg/(height in m)^2) \n",
    "7. Diabetes pedigree function \n",
    "8. Age (years) \n",
    "**9. Class variable (0 or 1) (1 is interpreted as \"tested positive for diabetes\")**\n",
    "\n",
    "> Note:\n",
    "> 0 = tested negative for diabetes\n",
    "> 1 = tested positive for diabetes"
   ]
  },
  {
   "cell_type": "code",
   "execution_count": 7,
   "metadata": {
    "collapsed": true
   },
   "outputs": [],
   "source": [
    "import pandas as pd\n",
    "import numpy as np\n",
    "import seaborn as sns\n",
    "import matplotlib.pyplot as plt\n",
    "%matplotlib inline\n",
    "\n",
    "from sklearn.linear_model import LogisticRegression\n",
    "from sklearn.model_selection import train_test_split, KFold, cross_val_score\n",
    "from sklearn import model_selection\n",
    "from sklearn.metrics import classification_report, confusion_matrix, accuracy_score, \\\n",
    "roc_curve, auc, roc_auc_score, precision_score, recall_score"
   ]
  },
  {
   "cell_type": "code",
   "execution_count": 8,
   "metadata": {
    "collapsed": true
   },
   "outputs": [],
   "source": [
    "# Load the data from the following url\n",
    "url = 'https://archive.ics.uci.edu/ml/machine-learning-databases/pima-indians-diabetes/pima-indians-diabetes.data'\n",
    "\n",
    "# Create a list of the column names. If you don't pass this list to the names parameter in your \n",
    "# pd.read_csv() call, your column names will just be the numbers 0 through 8. \n",
    "col_names = ['n_pregnant', 'glucose', 'bp', 'skin', 'insulin', 'bmi', 'pedigree', 'age', 'class']\n",
    "pima = pd.read_csv(url, header=None, names=col_names)"
   ]
  },
  {
   "cell_type": "code",
   "execution_count": 9,
   "metadata": {
    "scrolled": true
   },
   "outputs": [
    {
     "data": {
      "text/html": [
       "<div>\n",
       "<style>\n",
       "    .dataframe thead tr:only-child th {\n",
       "        text-align: right;\n",
       "    }\n",
       "\n",
       "    .dataframe thead th {\n",
       "        text-align: left;\n",
       "    }\n",
       "\n",
       "    .dataframe tbody tr th {\n",
       "        vertical-align: top;\n",
       "    }\n",
       "</style>\n",
       "<table border=\"1\" class=\"dataframe\">\n",
       "  <thead>\n",
       "    <tr style=\"text-align: right;\">\n",
       "      <th></th>\n",
       "      <th>n_pregnant</th>\n",
       "      <th>glucose</th>\n",
       "      <th>bp</th>\n",
       "      <th>skin</th>\n",
       "      <th>insulin</th>\n",
       "      <th>bmi</th>\n",
       "      <th>pedigree</th>\n",
       "      <th>age</th>\n",
       "      <th>class</th>\n",
       "    </tr>\n",
       "  </thead>\n",
       "  <tbody>\n",
       "    <tr>\n",
       "      <th>0</th>\n",
       "      <td>6</td>\n",
       "      <td>148</td>\n",
       "      <td>72</td>\n",
       "      <td>35</td>\n",
       "      <td>0</td>\n",
       "      <td>33.6</td>\n",
       "      <td>0.627</td>\n",
       "      <td>50</td>\n",
       "      <td>1</td>\n",
       "    </tr>\n",
       "    <tr>\n",
       "      <th>1</th>\n",
       "      <td>1</td>\n",
       "      <td>85</td>\n",
       "      <td>66</td>\n",
       "      <td>29</td>\n",
       "      <td>0</td>\n",
       "      <td>26.6</td>\n",
       "      <td>0.351</td>\n",
       "      <td>31</td>\n",
       "      <td>0</td>\n",
       "    </tr>\n",
       "    <tr>\n",
       "      <th>2</th>\n",
       "      <td>8</td>\n",
       "      <td>183</td>\n",
       "      <td>64</td>\n",
       "      <td>0</td>\n",
       "      <td>0</td>\n",
       "      <td>23.3</td>\n",
       "      <td>0.672</td>\n",
       "      <td>32</td>\n",
       "      <td>1</td>\n",
       "    </tr>\n",
       "  </tbody>\n",
       "</table>\n",
       "</div>"
      ],
      "text/plain": [
       "   n_pregnant  glucose  bp  skin  insulin   bmi  pedigree  age  class\n",
       "0           6      148  72    35        0  33.6     0.627   50      1\n",
       "1           1       85  66    29        0  26.6     0.351   31      0\n",
       "2           8      183  64     0        0  23.3     0.672   32      1"
      ]
     },
     "execution_count": 9,
     "metadata": {},
     "output_type": "execute_result"
    }
   ],
   "source": [
    "# Quick peek at the first few rows of your dataframe\n",
    "pima.head(3)"
   ]
  },
  {
   "cell_type": "code",
   "execution_count": 10,
   "metadata": {
    "scrolled": false
   },
   "outputs": [
    {
     "name": "stdout",
     "output_type": "stream",
     "text": [
      "<class 'pandas.core.frame.DataFrame'>\n",
      "RangeIndex: 768 entries, 0 to 767\n",
      "Data columns (total 9 columns):\n",
      "n_pregnant    768 non-null int64\n",
      "glucose       768 non-null int64\n",
      "bp            768 non-null int64\n",
      "skin          768 non-null int64\n",
      "insulin       768 non-null int64\n",
      "bmi           768 non-null float64\n",
      "pedigree      768 non-null float64\n",
      "age           768 non-null int64\n",
      "class         768 non-null int64\n",
      "dtypes: float64(2), int64(7)\n",
      "memory usage: 54.1 KB\n"
     ]
    }
   ],
   "source": [
    "# Check the datatypes or counts of datatypes in your dataframe.\n",
    "pima.info()"
   ]
  },
  {
   "cell_type": "markdown",
   "metadata": {},
   "source": [
    "`Always be on the lookout for object columns filled with strings. Columns with strings will need to be transformed prior to be run through a scikit model. Remember when Allie transformed the three iris names into numbers before using a kNN instance on that dataset.`\n",
    "\n",
    "**NEED TO TRANSFORM STRINGS FOR SCIKIT LEARN**\n",
    "\n",
    "`Additionally, columns with strings can be mighty memory intensive.`\n"
   ]
  },
  {
   "cell_type": "code",
   "execution_count": 18,
   "metadata": {
    "scrolled": false
   },
   "outputs": [
    {
     "data": {
      "text/plain": [
       "float64    2\n",
       "int64      7\n",
       "dtype: int64"
      ]
     },
     "execution_count": 18,
     "metadata": {},
     "output_type": "execute_result"
    }
   ],
   "source": [
    "# check types\n",
    "pima.get_dtype_counts()\n",
    "# it's great that there's no need to transform strings "
   ]
  },
  {
   "cell_type": "code",
   "execution_count": 23,
   "metadata": {},
   "outputs": [
    {
     "data": {
      "text/html": [
       "<style  type=\"text/css\" >\n",
       "</style>  \n",
       "<table id=\"T_487ff9d1_112a_11e8_98cb_9801a79afab1\" > \n",
       "<thead>    <tr> \n",
       "        <th class=\"blank level0\" ></th> \n",
       "        <th class=\"col_heading level0 col0\" >count</th> \n",
       "        <th class=\"col_heading level0 col1\" >mean</th> \n",
       "        <th class=\"col_heading level0 col2\" >std</th> \n",
       "        <th class=\"col_heading level0 col3\" >min</th> \n",
       "        <th class=\"col_heading level0 col4\" >25%</th> \n",
       "        <th class=\"col_heading level0 col5\" >50%</th> \n",
       "        <th class=\"col_heading level0 col6\" >75%</th> \n",
       "        <th class=\"col_heading level0 col7\" >max</th> \n",
       "    </tr></thead> \n",
       "<tbody>    <tr> \n",
       "        <th id=\"T_487ff9d1_112a_11e8_98cb_9801a79afab1level0_row0\" class=\"row_heading level0 row0\" >n_pregnant</th> \n",
       "        <td id=\"T_487ff9d1_112a_11e8_98cb_9801a79afab1row0_col0\" class=\"data row0 col0\" >768</td> \n",
       "        <td id=\"T_487ff9d1_112a_11e8_98cb_9801a79afab1row0_col1\" class=\"data row0 col1\" >3.84505</td> \n",
       "        <td id=\"T_487ff9d1_112a_11e8_98cb_9801a79afab1row0_col2\" class=\"data row0 col2\" >3.36958</td> \n",
       "        <td id=\"T_487ff9d1_112a_11e8_98cb_9801a79afab1row0_col3\" class=\"data row0 col3\" >0</td> \n",
       "        <td id=\"T_487ff9d1_112a_11e8_98cb_9801a79afab1row0_col4\" class=\"data row0 col4\" >1</td> \n",
       "        <td id=\"T_487ff9d1_112a_11e8_98cb_9801a79afab1row0_col5\" class=\"data row0 col5\" >3</td> \n",
       "        <td id=\"T_487ff9d1_112a_11e8_98cb_9801a79afab1row0_col6\" class=\"data row0 col6\" >6</td> \n",
       "        <td id=\"T_487ff9d1_112a_11e8_98cb_9801a79afab1row0_col7\" class=\"data row0 col7\" >17</td> \n",
       "    </tr>    <tr> \n",
       "        <th id=\"T_487ff9d1_112a_11e8_98cb_9801a79afab1level0_row1\" class=\"row_heading level0 row1\" >glucose</th> \n",
       "        <td id=\"T_487ff9d1_112a_11e8_98cb_9801a79afab1row1_col0\" class=\"data row1 col0\" >768</td> \n",
       "        <td id=\"T_487ff9d1_112a_11e8_98cb_9801a79afab1row1_col1\" class=\"data row1 col1\" >120.895</td> \n",
       "        <td id=\"T_487ff9d1_112a_11e8_98cb_9801a79afab1row1_col2\" class=\"data row1 col2\" >31.9726</td> \n",
       "        <td id=\"T_487ff9d1_112a_11e8_98cb_9801a79afab1row1_col3\" class=\"data row1 col3\" >0</td> \n",
       "        <td id=\"T_487ff9d1_112a_11e8_98cb_9801a79afab1row1_col4\" class=\"data row1 col4\" >99</td> \n",
       "        <td id=\"T_487ff9d1_112a_11e8_98cb_9801a79afab1row1_col5\" class=\"data row1 col5\" >117</td> \n",
       "        <td id=\"T_487ff9d1_112a_11e8_98cb_9801a79afab1row1_col6\" class=\"data row1 col6\" >140.25</td> \n",
       "        <td id=\"T_487ff9d1_112a_11e8_98cb_9801a79afab1row1_col7\" class=\"data row1 col7\" >199</td> \n",
       "    </tr>    <tr> \n",
       "        <th id=\"T_487ff9d1_112a_11e8_98cb_9801a79afab1level0_row2\" class=\"row_heading level0 row2\" >bp</th> \n",
       "        <td id=\"T_487ff9d1_112a_11e8_98cb_9801a79afab1row2_col0\" class=\"data row2 col0\" >768</td> \n",
       "        <td id=\"T_487ff9d1_112a_11e8_98cb_9801a79afab1row2_col1\" class=\"data row2 col1\" >69.1055</td> \n",
       "        <td id=\"T_487ff9d1_112a_11e8_98cb_9801a79afab1row2_col2\" class=\"data row2 col2\" >19.3558</td> \n",
       "        <td id=\"T_487ff9d1_112a_11e8_98cb_9801a79afab1row2_col3\" class=\"data row2 col3\" >0</td> \n",
       "        <td id=\"T_487ff9d1_112a_11e8_98cb_9801a79afab1row2_col4\" class=\"data row2 col4\" >62</td> \n",
       "        <td id=\"T_487ff9d1_112a_11e8_98cb_9801a79afab1row2_col5\" class=\"data row2 col5\" >72</td> \n",
       "        <td id=\"T_487ff9d1_112a_11e8_98cb_9801a79afab1row2_col6\" class=\"data row2 col6\" >80</td> \n",
       "        <td id=\"T_487ff9d1_112a_11e8_98cb_9801a79afab1row2_col7\" class=\"data row2 col7\" >122</td> \n",
       "    </tr>    <tr> \n",
       "        <th id=\"T_487ff9d1_112a_11e8_98cb_9801a79afab1level0_row3\" class=\"row_heading level0 row3\" >skin</th> \n",
       "        <td id=\"T_487ff9d1_112a_11e8_98cb_9801a79afab1row3_col0\" class=\"data row3 col0\" >768</td> \n",
       "        <td id=\"T_487ff9d1_112a_11e8_98cb_9801a79afab1row3_col1\" class=\"data row3 col1\" >20.5365</td> \n",
       "        <td id=\"T_487ff9d1_112a_11e8_98cb_9801a79afab1row3_col2\" class=\"data row3 col2\" >15.9522</td> \n",
       "        <td id=\"T_487ff9d1_112a_11e8_98cb_9801a79afab1row3_col3\" class=\"data row3 col3\" >0</td> \n",
       "        <td id=\"T_487ff9d1_112a_11e8_98cb_9801a79afab1row3_col4\" class=\"data row3 col4\" >0</td> \n",
       "        <td id=\"T_487ff9d1_112a_11e8_98cb_9801a79afab1row3_col5\" class=\"data row3 col5\" >23</td> \n",
       "        <td id=\"T_487ff9d1_112a_11e8_98cb_9801a79afab1row3_col6\" class=\"data row3 col6\" >32</td> \n",
       "        <td id=\"T_487ff9d1_112a_11e8_98cb_9801a79afab1row3_col7\" class=\"data row3 col7\" >99</td> \n",
       "    </tr>    <tr> \n",
       "        <th id=\"T_487ff9d1_112a_11e8_98cb_9801a79afab1level0_row4\" class=\"row_heading level0 row4\" >insulin</th> \n",
       "        <td id=\"T_487ff9d1_112a_11e8_98cb_9801a79afab1row4_col0\" class=\"data row4 col0\" >768</td> \n",
       "        <td id=\"T_487ff9d1_112a_11e8_98cb_9801a79afab1row4_col1\" class=\"data row4 col1\" >79.7995</td> \n",
       "        <td id=\"T_487ff9d1_112a_11e8_98cb_9801a79afab1row4_col2\" class=\"data row4 col2\" >115.244</td> \n",
       "        <td id=\"T_487ff9d1_112a_11e8_98cb_9801a79afab1row4_col3\" class=\"data row4 col3\" >0</td> \n",
       "        <td id=\"T_487ff9d1_112a_11e8_98cb_9801a79afab1row4_col4\" class=\"data row4 col4\" >0</td> \n",
       "        <td id=\"T_487ff9d1_112a_11e8_98cb_9801a79afab1row4_col5\" class=\"data row4 col5\" >30.5</td> \n",
       "        <td id=\"T_487ff9d1_112a_11e8_98cb_9801a79afab1row4_col6\" class=\"data row4 col6\" >127.25</td> \n",
       "        <td id=\"T_487ff9d1_112a_11e8_98cb_9801a79afab1row4_col7\" class=\"data row4 col7\" >846</td> \n",
       "    </tr>    <tr> \n",
       "        <th id=\"T_487ff9d1_112a_11e8_98cb_9801a79afab1level0_row5\" class=\"row_heading level0 row5\" >bmi</th> \n",
       "        <td id=\"T_487ff9d1_112a_11e8_98cb_9801a79afab1row5_col0\" class=\"data row5 col0\" >768</td> \n",
       "        <td id=\"T_487ff9d1_112a_11e8_98cb_9801a79afab1row5_col1\" class=\"data row5 col1\" >31.9926</td> \n",
       "        <td id=\"T_487ff9d1_112a_11e8_98cb_9801a79afab1row5_col2\" class=\"data row5 col2\" >7.88416</td> \n",
       "        <td id=\"T_487ff9d1_112a_11e8_98cb_9801a79afab1row5_col3\" class=\"data row5 col3\" >0</td> \n",
       "        <td id=\"T_487ff9d1_112a_11e8_98cb_9801a79afab1row5_col4\" class=\"data row5 col4\" >27.3</td> \n",
       "        <td id=\"T_487ff9d1_112a_11e8_98cb_9801a79afab1row5_col5\" class=\"data row5 col5\" >32</td> \n",
       "        <td id=\"T_487ff9d1_112a_11e8_98cb_9801a79afab1row5_col6\" class=\"data row5 col6\" >36.6</td> \n",
       "        <td id=\"T_487ff9d1_112a_11e8_98cb_9801a79afab1row5_col7\" class=\"data row5 col7\" >67.1</td> \n",
       "    </tr>    <tr> \n",
       "        <th id=\"T_487ff9d1_112a_11e8_98cb_9801a79afab1level0_row6\" class=\"row_heading level0 row6\" >pedigree</th> \n",
       "        <td id=\"T_487ff9d1_112a_11e8_98cb_9801a79afab1row6_col0\" class=\"data row6 col0\" >768</td> \n",
       "        <td id=\"T_487ff9d1_112a_11e8_98cb_9801a79afab1row6_col1\" class=\"data row6 col1\" >0.471876</td> \n",
       "        <td id=\"T_487ff9d1_112a_11e8_98cb_9801a79afab1row6_col2\" class=\"data row6 col2\" >0.331329</td> \n",
       "        <td id=\"T_487ff9d1_112a_11e8_98cb_9801a79afab1row6_col3\" class=\"data row6 col3\" >0.078</td> \n",
       "        <td id=\"T_487ff9d1_112a_11e8_98cb_9801a79afab1row6_col4\" class=\"data row6 col4\" >0.24375</td> \n",
       "        <td id=\"T_487ff9d1_112a_11e8_98cb_9801a79afab1row6_col5\" class=\"data row6 col5\" >0.3725</td> \n",
       "        <td id=\"T_487ff9d1_112a_11e8_98cb_9801a79afab1row6_col6\" class=\"data row6 col6\" >0.62625</td> \n",
       "        <td id=\"T_487ff9d1_112a_11e8_98cb_9801a79afab1row6_col7\" class=\"data row6 col7\" >2.42</td> \n",
       "    </tr>    <tr> \n",
       "        <th id=\"T_487ff9d1_112a_11e8_98cb_9801a79afab1level0_row7\" class=\"row_heading level0 row7\" >age</th> \n",
       "        <td id=\"T_487ff9d1_112a_11e8_98cb_9801a79afab1row7_col0\" class=\"data row7 col0\" >768</td> \n",
       "        <td id=\"T_487ff9d1_112a_11e8_98cb_9801a79afab1row7_col1\" class=\"data row7 col1\" >33.2409</td> \n",
       "        <td id=\"T_487ff9d1_112a_11e8_98cb_9801a79afab1row7_col2\" class=\"data row7 col2\" >11.7602</td> \n",
       "        <td id=\"T_487ff9d1_112a_11e8_98cb_9801a79afab1row7_col3\" class=\"data row7 col3\" >21</td> \n",
       "        <td id=\"T_487ff9d1_112a_11e8_98cb_9801a79afab1row7_col4\" class=\"data row7 col4\" >24</td> \n",
       "        <td id=\"T_487ff9d1_112a_11e8_98cb_9801a79afab1row7_col5\" class=\"data row7 col5\" >29</td> \n",
       "        <td id=\"T_487ff9d1_112a_11e8_98cb_9801a79afab1row7_col6\" class=\"data row7 col6\" >41</td> \n",
       "        <td id=\"T_487ff9d1_112a_11e8_98cb_9801a79afab1row7_col7\" class=\"data row7 col7\" >81</td> \n",
       "    </tr>    <tr> \n",
       "        <th id=\"T_487ff9d1_112a_11e8_98cb_9801a79afab1level0_row8\" class=\"row_heading level0 row8\" >class</th> \n",
       "        <td id=\"T_487ff9d1_112a_11e8_98cb_9801a79afab1row8_col0\" class=\"data row8 col0\" >768</td> \n",
       "        <td id=\"T_487ff9d1_112a_11e8_98cb_9801a79afab1row8_col1\" class=\"data row8 col1\" >0.348958</td> \n",
       "        <td id=\"T_487ff9d1_112a_11e8_98cb_9801a79afab1row8_col2\" class=\"data row8 col2\" >0.476951</td> \n",
       "        <td id=\"T_487ff9d1_112a_11e8_98cb_9801a79afab1row8_col3\" class=\"data row8 col3\" >0</td> \n",
       "        <td id=\"T_487ff9d1_112a_11e8_98cb_9801a79afab1row8_col4\" class=\"data row8 col4\" >0</td> \n",
       "        <td id=\"T_487ff9d1_112a_11e8_98cb_9801a79afab1row8_col5\" class=\"data row8 col5\" >0</td> \n",
       "        <td id=\"T_487ff9d1_112a_11e8_98cb_9801a79afab1row8_col6\" class=\"data row8 col6\" >1</td> \n",
       "        <td id=\"T_487ff9d1_112a_11e8_98cb_9801a79afab1row8_col7\" class=\"data row8 col7\" >1</td> \n",
       "    </tr></tbody> \n",
       "</table> "
      ],
      "text/plain": [
       "<pandas.io.formats.style.Styler at 0x10d599cd0>"
      ]
     },
     "execution_count": 23,
     "metadata": {},
     "output_type": "execute_result"
    }
   ],
   "source": [
    "# Check the summary statistics of the features/columns in your dataframe\n",
    "pima.describe().T.style\n",
    "\n",
    "# T.style makes some integers cleaner (get rid of some of the decimals)"
   ]
  },
  {
   "cell_type": "code",
   "execution_count": 14,
   "metadata": {
    "scrolled": true
   },
   "outputs": [
    {
     "data": {
      "text/plain": [
       "n_pregnant    0\n",
       "glucose       0\n",
       "bp            0\n",
       "skin          0\n",
       "insulin       0\n",
       "bmi           0\n",
       "pedigree      0\n",
       "age           0\n",
       "class         0\n",
       "dtype: int64"
      ]
     },
     "execution_count": 14,
     "metadata": {},
     "output_type": "execute_result"
    }
   ],
   "source": [
    "# Check your dataframe for missing values\n",
    "pima.isnull().sum()"
   ]
  },
  {
   "cell_type": "code",
   "execution_count": 25,
   "metadata": {
    "scrolled": false
   },
   "outputs": [
    {
     "data": {
      "text/plain": [
       "0    65.104167\n",
       "1    34.895833\n",
       "Name: class, dtype: float64"
      ]
     },
     "execution_count": 25,
     "metadata": {},
     "output_type": "execute_result"
    }
   ],
   "source": [
    "# Check for the level of balance or imbalance in your target variable data\n",
    "pima['class'].value_counts()\n",
    "\n",
    "# If normalize is set to True then the object returned will  contain the relative frequencies of the unique values.\n",
    "# pima['class'].value_counts(normalize=True)\n",
    "pima['class'].value_counts(normalize=True).mul(100)\n",
    "\n",
    "#results are percentage "
   ]
  },
  {
   "cell_type": "markdown",
   "metadata": {},
   "source": [
    "`Question: What other target variable imbalance does this breakdown remind you of?`\n",
    "\n",
    "`Answer:` admissions dataset"
   ]
  },
  {
   "cell_type": "markdown",
   "metadata": {},
   "source": [
    "`So, we've no strings to address and no missing values to address in this dataset.`\n",
    "\n",
    "`Appears we're ready to model.`"
   ]
  },
  {
   "cell_type": "markdown",
   "metadata": {},
   "source": [
    "## Scikit - Sklearn - modeling library nirvana. Call it what you will."
   ]
  },
  {
   "cell_type": "markdown",
   "metadata": {},
   "source": [
    "### Create your X (features) and y (target)"
   ]
  },
  {
   "cell_type": "code",
   "execution_count": 26,
   "metadata": {
    "collapsed": true,
    "scrolled": false
   },
   "outputs": [],
   "source": [
    "# Set our features/predictors to X (everything in pima dataset with the exception of the target variable)\n",
    "X = pima.drop('class', axis=1)\n",
    "#X = pima.iloc[:, 0:7]\n",
    "\n",
    "# Set our target variable to y\n",
    "y = pima['class']\n",
    "#y=pima.iloc[:, 8]"
   ]
  },
  {
   "cell_type": "code",
   "execution_count": 27,
   "metadata": {
    "collapsed": true
   },
   "outputs": [],
   "source": [
    "# Create a train_test_split (tts)\n",
    "\n",
    "# If test_size is not explicitly set, the split will default to 75% train/25% test\n",
    "# random_state is set to whatever number pleases you so as to create the same tts each time\n",
    "# the cell block is run\n",
    "\n",
    "X_train, X_test, y_train, y_test = train_test_split(X, y, random_state=42)"
   ]
  },
  {
   "cell_type": "code",
   "execution_count": 28,
   "metadata": {
    "scrolled": true
   },
   "outputs": [
    {
     "name": "stdout",
     "output_type": "stream",
     "text": [
      "X_train shape:(576, 8), y_train shape:(576,)\n",
      "\n",
      "X_test shape:(192, 8) y_test shape:(192,)\n"
     ]
    }
   ],
   "source": [
    "print(\"X_train shape:{}, y_train shape:{}\\n\".format(X_train.shape, y_train.shape))\n",
    "print(\"X_test shape:{} y_test shape:{}\".format(X_test.shape, y_test.shape))"
   ]
  },
  {
   "cell_type": "code",
   "execution_count": 29,
   "metadata": {
    "scrolled": true
   },
   "outputs": [
    {
     "data": {
      "text/plain": [
       "LogisticRegression(C=1.0, class_weight=None, dual=False, fit_intercept=True,\n",
       "          intercept_scaling=1, max_iter=100, multi_class='ovr', n_jobs=1,\n",
       "          penalty='l2', random_state=None, solver='liblinear', tol=0.0001,\n",
       "          verbose=0, warm_start=False)"
      ]
     },
     "execution_count": 29,
     "metadata": {},
     "output_type": "execute_result"
    }
   ],
   "source": [
    "# Instantiate your model object\n",
    "lr = LogisticRegression()\n",
    "\n",
    "# Fit your model with your training data\n",
    "lr.fit(X_train, y_train)"
   ]
  },
  {
   "cell_type": "markdown",
   "metadata": {},
   "source": [
    "### What is your baseline or prevalance?"
   ]
  },
  {
   "cell_type": "code",
   "execution_count": 34,
   "metadata": {
    "scrolled": true
   },
   "outputs": [
    {
     "name": "stdout",
     "output_type": "stream",
     "text": [
      "('What is the baseline or prevalance in my y_test?', 0.640625)\n"
     ]
    }
   ],
   "source": [
    "# Without knowing the baseline, how do you can you assess your accuracy score?\n",
    "\n",
    "# The baseline gives context to your assessment of the model's accuracy score.\n",
    "# goal is to beat the prevalance\n",
    "\n",
    "print(\"What is the baseline or prevalance in my y_test?\", 1 - y_test.mean())\n",
    "\n",
    "# 'What is the baseline or prevalance in my y_test?', 0.640625 means the % of data points that tested negative (0). \n",
    "# this means that the split between test and train actually produced a test set that matches reality (aka the entire data set)\n"
   ]
  },
  {
   "cell_type": "code",
   "execution_count": 32,
   "metadata": {
    "scrolled": false
   },
   "outputs": [
    {
     "data": {
      "text/plain": [
       "0    0.640625\n",
       "1    0.359375\n",
       "Name: class, dtype: float64"
      ]
     },
     "execution_count": 32,
     "metadata": {},
     "output_type": "execute_result"
    }
   ],
   "source": [
    "# If I wish to spotcheck that baseline number, I can again use .value_counts() with normalize\n",
    "# set to True. As y_test is a numpy array, we'll also wrap it in pd.Series call so as to use .value_counts()\n",
    "\n",
    "pd.Series(y_test).value_counts(normalize=True)"
   ]
  },
  {
   "cell_type": "markdown",
   "metadata": {},
   "source": [
    "`How's our model looking so far?`"
   ]
  },
  {
   "cell_type": "markdown",
   "metadata": {},
   "source": [
    "### Create your predictions"
   ]
  },
  {
   "cell_type": "code",
   "execution_count": 36,
   "metadata": {
    "scrolled": false
   },
   "outputs": [
    {
     "data": {
      "text/plain": [
       "array([0, 0, 0, 0, 0, 0, 0, 1, 1, 1])"
      ]
     },
     "execution_count": 36,
     "metadata": {},
     "output_type": "execute_result"
    }
   ],
   "source": [
    "y_pred = lr.predict(X_test)\n",
    "y_pred[:10]\n",
    "\n",
    "#result in first ten in the array"
   ]
  },
  {
   "cell_type": "code",
   "execution_count": 39,
   "metadata": {},
   "outputs": [
    {
     "data": {
      "text/plain": [
       "array([[ 0.66346436,  0.33653564],\n",
       "       [ 0.77607528,  0.22392472],\n",
       "       [ 0.8238348 ,  0.1761652 ],\n",
       "       [ 0.78686249,  0.21313751],\n",
       "       [ 0.56577735,  0.43422265]])"
      ]
     },
     "execution_count": 39,
     "metadata": {},
     "output_type": "execute_result"
    }
   ],
   "source": [
    "# look at more specific probabilities for each class in your target variable (on the sigmoid curve)\n",
    "# prob of 0 on the left, prob of 1 on the right\n",
    "# maps to the first 5 in the array\n",
    "y_proba = lr.predict_proba(X_test)\n",
    "y_proba[:5]"
   ]
  },
  {
   "cell_type": "markdown",
   "metadata": {},
   "source": [
    "### Let's explore our probabilities for each class in our target variable in the context of our Pima dataframe"
   ]
  },
  {
   "cell_type": "code",
   "execution_count": 40,
   "metadata": {
    "collapsed": true
   },
   "outputs": [],
   "source": [
    "# create new column called predicted class\n",
    "pima[\"predicted_class\"] = lr.predict(pima[X_train.columns])\n",
    "\n",
    "pima = pd.concat([pima, pd.DataFrame(lr.predict_proba(pima[X_train.columns]))], axis = 1)"
   ]
  },
  {
   "cell_type": "code",
   "execution_count": 42,
   "metadata": {
    "collapsed": true
   },
   "outputs": [],
   "source": [
    "# We'll use this function from pandas styling to highlight \n",
    "# the dominant probability for each predicted case in the dataset\n",
    "\n",
    "def highlight_max(s):\n",
    "    is_max = s == s.max()\n",
    "    return ['background-color: yellow' if v else '' for v in is_max]"
   ]
  },
  {
   "cell_type": "code",
   "execution_count": 45,
   "metadata": {},
   "outputs": [
    {
     "data": {
      "text/html": [
       "<style  type=\"text/css\" >\n",
       "    #T_0a1a6378_112d_11e8_8734_9801a79afab1row0_col11 {\n",
       "            background-color:  yellow;\n",
       "        }    #T_0a1a6378_112d_11e8_8734_9801a79afab1row1_col10 {\n",
       "            background-color:  yellow;\n",
       "        }    #T_0a1a6378_112d_11e8_8734_9801a79afab1row2_col11 {\n",
       "            background-color:  yellow;\n",
       "        }    #T_0a1a6378_112d_11e8_8734_9801a79afab1row3_col10 {\n",
       "            background-color:  yellow;\n",
       "        }    #T_0a1a6378_112d_11e8_8734_9801a79afab1row4_col11 {\n",
       "            background-color:  yellow;\n",
       "        }    #T_0a1a6378_112d_11e8_8734_9801a79afab1row5_col10 {\n",
       "            background-color:  yellow;\n",
       "        }    #T_0a1a6378_112d_11e8_8734_9801a79afab1row6_col10 {\n",
       "            background-color:  yellow;\n",
       "        }    #T_0a1a6378_112d_11e8_8734_9801a79afab1row7_col11 {\n",
       "            background-color:  yellow;\n",
       "        }    #T_0a1a6378_112d_11e8_8734_9801a79afab1row8_col11 {\n",
       "            background-color:  yellow;\n",
       "        }    #T_0a1a6378_112d_11e8_8734_9801a79afab1row9_col10 {\n",
       "            background-color:  yellow;\n",
       "        }</style>  \n",
       "<table id=\"T_0a1a6378_112d_11e8_8734_9801a79afab1\" > \n",
       "<thead>    <tr> \n",
       "        <th class=\"blank level0\" ></th> \n",
       "        <th class=\"col_heading level0 col0\" >n_pregnant</th> \n",
       "        <th class=\"col_heading level0 col1\" >glucose</th> \n",
       "        <th class=\"col_heading level0 col2\" >bp</th> \n",
       "        <th class=\"col_heading level0 col3\" >skin</th> \n",
       "        <th class=\"col_heading level0 col4\" >insulin</th> \n",
       "        <th class=\"col_heading level0 col5\" >bmi</th> \n",
       "        <th class=\"col_heading level0 col6\" >pedigree</th> \n",
       "        <th class=\"col_heading level0 col7\" >age</th> \n",
       "        <th class=\"col_heading level0 col8\" >class</th> \n",
       "        <th class=\"col_heading level0 col9\" >predicted_class</th> \n",
       "        <th class=\"col_heading level0 col10\" >0</th> \n",
       "        <th class=\"col_heading level0 col11\" >1</th> \n",
       "    </tr></thead> \n",
       "<tbody>    <tr> \n",
       "        <th id=\"T_0a1a6378_112d_11e8_8734_9801a79afab1level0_row0\" class=\"row_heading level0 row0\" >0</th> \n",
       "        <td id=\"T_0a1a6378_112d_11e8_8734_9801a79afab1row0_col0\" class=\"data row0 col0\" >6</td> \n",
       "        <td id=\"T_0a1a6378_112d_11e8_8734_9801a79afab1row0_col1\" class=\"data row0 col1\" >148</td> \n",
       "        <td id=\"T_0a1a6378_112d_11e8_8734_9801a79afab1row0_col2\" class=\"data row0 col2\" >72</td> \n",
       "        <td id=\"T_0a1a6378_112d_11e8_8734_9801a79afab1row0_col3\" class=\"data row0 col3\" >35</td> \n",
       "        <td id=\"T_0a1a6378_112d_11e8_8734_9801a79afab1row0_col4\" class=\"data row0 col4\" >0</td> \n",
       "        <td id=\"T_0a1a6378_112d_11e8_8734_9801a79afab1row0_col5\" class=\"data row0 col5\" >33.6</td> \n",
       "        <td id=\"T_0a1a6378_112d_11e8_8734_9801a79afab1row0_col6\" class=\"data row0 col6\" >0.627</td> \n",
       "        <td id=\"T_0a1a6378_112d_11e8_8734_9801a79afab1row0_col7\" class=\"data row0 col7\" >50</td> \n",
       "        <td id=\"T_0a1a6378_112d_11e8_8734_9801a79afab1row0_col8\" class=\"data row0 col8\" >1</td> \n",
       "        <td id=\"T_0a1a6378_112d_11e8_8734_9801a79afab1row0_col9\" class=\"data row0 col9\" >1</td> \n",
       "        <td id=\"T_0a1a6378_112d_11e8_8734_9801a79afab1row0_col10\" class=\"data row0 col10\" >0.317536</td> \n",
       "        <td id=\"T_0a1a6378_112d_11e8_8734_9801a79afab1row0_col11\" class=\"data row0 col11\" >0.682464</td> \n",
       "    </tr>    <tr> \n",
       "        <th id=\"T_0a1a6378_112d_11e8_8734_9801a79afab1level0_row1\" class=\"row_heading level0 row1\" >1</th> \n",
       "        <td id=\"T_0a1a6378_112d_11e8_8734_9801a79afab1row1_col0\" class=\"data row1 col0\" >1</td> \n",
       "        <td id=\"T_0a1a6378_112d_11e8_8734_9801a79afab1row1_col1\" class=\"data row1 col1\" >85</td> \n",
       "        <td id=\"T_0a1a6378_112d_11e8_8734_9801a79afab1row1_col2\" class=\"data row1 col2\" >66</td> \n",
       "        <td id=\"T_0a1a6378_112d_11e8_8734_9801a79afab1row1_col3\" class=\"data row1 col3\" >29</td> \n",
       "        <td id=\"T_0a1a6378_112d_11e8_8734_9801a79afab1row1_col4\" class=\"data row1 col4\" >0</td> \n",
       "        <td id=\"T_0a1a6378_112d_11e8_8734_9801a79afab1row1_col5\" class=\"data row1 col5\" >26.6</td> \n",
       "        <td id=\"T_0a1a6378_112d_11e8_8734_9801a79afab1row1_col6\" class=\"data row1 col6\" >0.351</td> \n",
       "        <td id=\"T_0a1a6378_112d_11e8_8734_9801a79afab1row1_col7\" class=\"data row1 col7\" >31</td> \n",
       "        <td id=\"T_0a1a6378_112d_11e8_8734_9801a79afab1row1_col8\" class=\"data row1 col8\" >0</td> \n",
       "        <td id=\"T_0a1a6378_112d_11e8_8734_9801a79afab1row1_col9\" class=\"data row1 col9\" >0</td> \n",
       "        <td id=\"T_0a1a6378_112d_11e8_8734_9801a79afab1row1_col10\" class=\"data row1 col10\" >0.893196</td> \n",
       "        <td id=\"T_0a1a6378_112d_11e8_8734_9801a79afab1row1_col11\" class=\"data row1 col11\" >0.106804</td> \n",
       "    </tr>    <tr> \n",
       "        <th id=\"T_0a1a6378_112d_11e8_8734_9801a79afab1level0_row2\" class=\"row_heading level0 row2\" >2</th> \n",
       "        <td id=\"T_0a1a6378_112d_11e8_8734_9801a79afab1row2_col0\" class=\"data row2 col0\" >8</td> \n",
       "        <td id=\"T_0a1a6378_112d_11e8_8734_9801a79afab1row2_col1\" class=\"data row2 col1\" >183</td> \n",
       "        <td id=\"T_0a1a6378_112d_11e8_8734_9801a79afab1row2_col2\" class=\"data row2 col2\" >64</td> \n",
       "        <td id=\"T_0a1a6378_112d_11e8_8734_9801a79afab1row2_col3\" class=\"data row2 col3\" >0</td> \n",
       "        <td id=\"T_0a1a6378_112d_11e8_8734_9801a79afab1row2_col4\" class=\"data row2 col4\" >0</td> \n",
       "        <td id=\"T_0a1a6378_112d_11e8_8734_9801a79afab1row2_col5\" class=\"data row2 col5\" >23.3</td> \n",
       "        <td id=\"T_0a1a6378_112d_11e8_8734_9801a79afab1row2_col6\" class=\"data row2 col6\" >0.672</td> \n",
       "        <td id=\"T_0a1a6378_112d_11e8_8734_9801a79afab1row2_col7\" class=\"data row2 col7\" >32</td> \n",
       "        <td id=\"T_0a1a6378_112d_11e8_8734_9801a79afab1row2_col8\" class=\"data row2 col8\" >1</td> \n",
       "        <td id=\"T_0a1a6378_112d_11e8_8734_9801a79afab1row2_col9\" class=\"data row2 col9\" >1</td> \n",
       "        <td id=\"T_0a1a6378_112d_11e8_8734_9801a79afab1row2_col10\" class=\"data row2 col10\" >0.30323</td> \n",
       "        <td id=\"T_0a1a6378_112d_11e8_8734_9801a79afab1row2_col11\" class=\"data row2 col11\" >0.69677</td> \n",
       "    </tr>    <tr> \n",
       "        <th id=\"T_0a1a6378_112d_11e8_8734_9801a79afab1level0_row3\" class=\"row_heading level0 row3\" >3</th> \n",
       "        <td id=\"T_0a1a6378_112d_11e8_8734_9801a79afab1row3_col0\" class=\"data row3 col0\" >1</td> \n",
       "        <td id=\"T_0a1a6378_112d_11e8_8734_9801a79afab1row3_col1\" class=\"data row3 col1\" >89</td> \n",
       "        <td id=\"T_0a1a6378_112d_11e8_8734_9801a79afab1row3_col2\" class=\"data row3 col2\" >66</td> \n",
       "        <td id=\"T_0a1a6378_112d_11e8_8734_9801a79afab1row3_col3\" class=\"data row3 col3\" >23</td> \n",
       "        <td id=\"T_0a1a6378_112d_11e8_8734_9801a79afab1row3_col4\" class=\"data row3 col4\" >94</td> \n",
       "        <td id=\"T_0a1a6378_112d_11e8_8734_9801a79afab1row3_col5\" class=\"data row3 col5\" >28.1</td> \n",
       "        <td id=\"T_0a1a6378_112d_11e8_8734_9801a79afab1row3_col6\" class=\"data row3 col6\" >0.167</td> \n",
       "        <td id=\"T_0a1a6378_112d_11e8_8734_9801a79afab1row3_col7\" class=\"data row3 col7\" >21</td> \n",
       "        <td id=\"T_0a1a6378_112d_11e8_8734_9801a79afab1row3_col8\" class=\"data row3 col8\" >0</td> \n",
       "        <td id=\"T_0a1a6378_112d_11e8_8734_9801a79afab1row3_col9\" class=\"data row3 col9\" >0</td> \n",
       "        <td id=\"T_0a1a6378_112d_11e8_8734_9801a79afab1row3_col10\" class=\"data row3 col10\" >0.909935</td> \n",
       "        <td id=\"T_0a1a6378_112d_11e8_8734_9801a79afab1row3_col11\" class=\"data row3 col11\" >0.0900655</td> \n",
       "    </tr>    <tr> \n",
       "        <th id=\"T_0a1a6378_112d_11e8_8734_9801a79afab1level0_row4\" class=\"row_heading level0 row4\" >4</th> \n",
       "        <td id=\"T_0a1a6378_112d_11e8_8734_9801a79afab1row4_col0\" class=\"data row4 col0\" >0</td> \n",
       "        <td id=\"T_0a1a6378_112d_11e8_8734_9801a79afab1row4_col1\" class=\"data row4 col1\" >137</td> \n",
       "        <td id=\"T_0a1a6378_112d_11e8_8734_9801a79afab1row4_col2\" class=\"data row4 col2\" >40</td> \n",
       "        <td id=\"T_0a1a6378_112d_11e8_8734_9801a79afab1row4_col3\" class=\"data row4 col3\" >35</td> \n",
       "        <td id=\"T_0a1a6378_112d_11e8_8734_9801a79afab1row4_col4\" class=\"data row4 col4\" >168</td> \n",
       "        <td id=\"T_0a1a6378_112d_11e8_8734_9801a79afab1row4_col5\" class=\"data row4 col5\" >43.1</td> \n",
       "        <td id=\"T_0a1a6378_112d_11e8_8734_9801a79afab1row4_col6\" class=\"data row4 col6\" >2.288</td> \n",
       "        <td id=\"T_0a1a6378_112d_11e8_8734_9801a79afab1row4_col7\" class=\"data row4 col7\" >33</td> \n",
       "        <td id=\"T_0a1a6378_112d_11e8_8734_9801a79afab1row4_col8\" class=\"data row4 col8\" >1</td> \n",
       "        <td id=\"T_0a1a6378_112d_11e8_8734_9801a79afab1row4_col9\" class=\"data row4 col9\" >1</td> \n",
       "        <td id=\"T_0a1a6378_112d_11e8_8734_9801a79afab1row4_col10\" class=\"data row4 col10\" >0.235484</td> \n",
       "        <td id=\"T_0a1a6378_112d_11e8_8734_9801a79afab1row4_col11\" class=\"data row4 col11\" >0.764516</td> \n",
       "    </tr>    <tr> \n",
       "        <th id=\"T_0a1a6378_112d_11e8_8734_9801a79afab1level0_row5\" class=\"row_heading level0 row5\" >5</th> \n",
       "        <td id=\"T_0a1a6378_112d_11e8_8734_9801a79afab1row5_col0\" class=\"data row5 col0\" >5</td> \n",
       "        <td id=\"T_0a1a6378_112d_11e8_8734_9801a79afab1row5_col1\" class=\"data row5 col1\" >116</td> \n",
       "        <td id=\"T_0a1a6378_112d_11e8_8734_9801a79afab1row5_col2\" class=\"data row5 col2\" >74</td> \n",
       "        <td id=\"T_0a1a6378_112d_11e8_8734_9801a79afab1row5_col3\" class=\"data row5 col3\" >0</td> \n",
       "        <td id=\"T_0a1a6378_112d_11e8_8734_9801a79afab1row5_col4\" class=\"data row5 col4\" >0</td> \n",
       "        <td id=\"T_0a1a6378_112d_11e8_8734_9801a79afab1row5_col5\" class=\"data row5 col5\" >25.6</td> \n",
       "        <td id=\"T_0a1a6378_112d_11e8_8734_9801a79afab1row5_col6\" class=\"data row5 col6\" >0.201</td> \n",
       "        <td id=\"T_0a1a6378_112d_11e8_8734_9801a79afab1row5_col7\" class=\"data row5 col7\" >30</td> \n",
       "        <td id=\"T_0a1a6378_112d_11e8_8734_9801a79afab1row5_col8\" class=\"data row5 col8\" >0</td> \n",
       "        <td id=\"T_0a1a6378_112d_11e8_8734_9801a79afab1row5_col9\" class=\"data row5 col9\" >0</td> \n",
       "        <td id=\"T_0a1a6378_112d_11e8_8734_9801a79afab1row5_col10\" class=\"data row5 col10\" >0.800612</td> \n",
       "        <td id=\"T_0a1a6378_112d_11e8_8734_9801a79afab1row5_col11\" class=\"data row5 col11\" >0.199388</td> \n",
       "    </tr>    <tr> \n",
       "        <th id=\"T_0a1a6378_112d_11e8_8734_9801a79afab1level0_row6\" class=\"row_heading level0 row6\" >6</th> \n",
       "        <td id=\"T_0a1a6378_112d_11e8_8734_9801a79afab1row6_col0\" class=\"data row6 col0\" >3</td> \n",
       "        <td id=\"T_0a1a6378_112d_11e8_8734_9801a79afab1row6_col1\" class=\"data row6 col1\" >78</td> \n",
       "        <td id=\"T_0a1a6378_112d_11e8_8734_9801a79afab1row6_col2\" class=\"data row6 col2\" >50</td> \n",
       "        <td id=\"T_0a1a6378_112d_11e8_8734_9801a79afab1row6_col3\" class=\"data row6 col3\" >32</td> \n",
       "        <td id=\"T_0a1a6378_112d_11e8_8734_9801a79afab1row6_col4\" class=\"data row6 col4\" >88</td> \n",
       "        <td id=\"T_0a1a6378_112d_11e8_8734_9801a79afab1row6_col5\" class=\"data row6 col5\" >31</td> \n",
       "        <td id=\"T_0a1a6378_112d_11e8_8734_9801a79afab1row6_col6\" class=\"data row6 col6\" >0.248</td> \n",
       "        <td id=\"T_0a1a6378_112d_11e8_8734_9801a79afab1row6_col7\" class=\"data row6 col7\" >26</td> \n",
       "        <td id=\"T_0a1a6378_112d_11e8_8734_9801a79afab1row6_col8\" class=\"data row6 col8\" >1</td> \n",
       "        <td id=\"T_0a1a6378_112d_11e8_8734_9801a79afab1row6_col9\" class=\"data row6 col9\" >0</td> \n",
       "        <td id=\"T_0a1a6378_112d_11e8_8734_9801a79afab1row6_col10\" class=\"data row6 col10\" >0.862981</td> \n",
       "        <td id=\"T_0a1a6378_112d_11e8_8734_9801a79afab1row6_col11\" class=\"data row6 col11\" >0.137019</td> \n",
       "    </tr>    <tr> \n",
       "        <th id=\"T_0a1a6378_112d_11e8_8734_9801a79afab1level0_row7\" class=\"row_heading level0 row7\" >7</th> \n",
       "        <td id=\"T_0a1a6378_112d_11e8_8734_9801a79afab1row7_col0\" class=\"data row7 col0\" >10</td> \n",
       "        <td id=\"T_0a1a6378_112d_11e8_8734_9801a79afab1row7_col1\" class=\"data row7 col1\" >115</td> \n",
       "        <td id=\"T_0a1a6378_112d_11e8_8734_9801a79afab1row7_col2\" class=\"data row7 col2\" >0</td> \n",
       "        <td id=\"T_0a1a6378_112d_11e8_8734_9801a79afab1row7_col3\" class=\"data row7 col3\" >0</td> \n",
       "        <td id=\"T_0a1a6378_112d_11e8_8734_9801a79afab1row7_col4\" class=\"data row7 col4\" >0</td> \n",
       "        <td id=\"T_0a1a6378_112d_11e8_8734_9801a79afab1row7_col5\" class=\"data row7 col5\" >35.3</td> \n",
       "        <td id=\"T_0a1a6378_112d_11e8_8734_9801a79afab1row7_col6\" class=\"data row7 col6\" >0.134</td> \n",
       "        <td id=\"T_0a1a6378_112d_11e8_8734_9801a79afab1row7_col7\" class=\"data row7 col7\" >29</td> \n",
       "        <td id=\"T_0a1a6378_112d_11e8_8734_9801a79afab1row7_col8\" class=\"data row7 col8\" >0</td> \n",
       "        <td id=\"T_0a1a6378_112d_11e8_8734_9801a79afab1row7_col9\" class=\"data row7 col9\" >1</td> \n",
       "        <td id=\"T_0a1a6378_112d_11e8_8734_9801a79afab1row7_col10\" class=\"data row7 col10\" >0.317414</td> \n",
       "        <td id=\"T_0a1a6378_112d_11e8_8734_9801a79afab1row7_col11\" class=\"data row7 col11\" >0.682586</td> \n",
       "    </tr>    <tr> \n",
       "        <th id=\"T_0a1a6378_112d_11e8_8734_9801a79afab1level0_row8\" class=\"row_heading level0 row8\" >8</th> \n",
       "        <td id=\"T_0a1a6378_112d_11e8_8734_9801a79afab1row8_col0\" class=\"data row8 col0\" >2</td> \n",
       "        <td id=\"T_0a1a6378_112d_11e8_8734_9801a79afab1row8_col1\" class=\"data row8 col1\" >197</td> \n",
       "        <td id=\"T_0a1a6378_112d_11e8_8734_9801a79afab1row8_col2\" class=\"data row8 col2\" >70</td> \n",
       "        <td id=\"T_0a1a6378_112d_11e8_8734_9801a79afab1row8_col3\" class=\"data row8 col3\" >45</td> \n",
       "        <td id=\"T_0a1a6378_112d_11e8_8734_9801a79afab1row8_col4\" class=\"data row8 col4\" >543</td> \n",
       "        <td id=\"T_0a1a6378_112d_11e8_8734_9801a79afab1row8_col5\" class=\"data row8 col5\" >30.5</td> \n",
       "        <td id=\"T_0a1a6378_112d_11e8_8734_9801a79afab1row8_col6\" class=\"data row8 col6\" >0.158</td> \n",
       "        <td id=\"T_0a1a6378_112d_11e8_8734_9801a79afab1row8_col7\" class=\"data row8 col7\" >53</td> \n",
       "        <td id=\"T_0a1a6378_112d_11e8_8734_9801a79afab1row8_col8\" class=\"data row8 col8\" >1</td> \n",
       "        <td id=\"T_0a1a6378_112d_11e8_8734_9801a79afab1row8_col9\" class=\"data row8 col9\" >1</td> \n",
       "        <td id=\"T_0a1a6378_112d_11e8_8734_9801a79afab1row8_col10\" class=\"data row8 col10\" >0.228932</td> \n",
       "        <td id=\"T_0a1a6378_112d_11e8_8734_9801a79afab1row8_col11\" class=\"data row8 col11\" >0.771068</td> \n",
       "    </tr>    <tr> \n",
       "        <th id=\"T_0a1a6378_112d_11e8_8734_9801a79afab1level0_row9\" class=\"row_heading level0 row9\" >9</th> \n",
       "        <td id=\"T_0a1a6378_112d_11e8_8734_9801a79afab1row9_col0\" class=\"data row9 col0\" >8</td> \n",
       "        <td id=\"T_0a1a6378_112d_11e8_8734_9801a79afab1row9_col1\" class=\"data row9 col1\" >125</td> \n",
       "        <td id=\"T_0a1a6378_112d_11e8_8734_9801a79afab1row9_col2\" class=\"data row9 col2\" >96</td> \n",
       "        <td id=\"T_0a1a6378_112d_11e8_8734_9801a79afab1row9_col3\" class=\"data row9 col3\" >0</td> \n",
       "        <td id=\"T_0a1a6378_112d_11e8_8734_9801a79afab1row9_col4\" class=\"data row9 col4\" >0</td> \n",
       "        <td id=\"T_0a1a6378_112d_11e8_8734_9801a79afab1row9_col5\" class=\"data row9 col5\" >0</td> \n",
       "        <td id=\"T_0a1a6378_112d_11e8_8734_9801a79afab1row9_col6\" class=\"data row9 col6\" >0.232</td> \n",
       "        <td id=\"T_0a1a6378_112d_11e8_8734_9801a79afab1row9_col7\" class=\"data row9 col7\" >54</td> \n",
       "        <td id=\"T_0a1a6378_112d_11e8_8734_9801a79afab1row9_col8\" class=\"data row9 col8\" >1</td> \n",
       "        <td id=\"T_0a1a6378_112d_11e8_8734_9801a79afab1row9_col9\" class=\"data row9 col9\" >0</td> \n",
       "        <td id=\"T_0a1a6378_112d_11e8_8734_9801a79afab1row9_col10\" class=\"data row9 col10\" >0.907935</td> \n",
       "        <td id=\"T_0a1a6378_112d_11e8_8734_9801a79afab1row9_col11\" class=\"data row9 col11\" >0.092065</td> \n",
       "    </tr></tbody> \n",
       "</table> "
      ],
      "text/plain": [
       "<pandas.io.formats.style.Styler at 0x1a14454f90>"
      ]
     },
     "execution_count": 45,
     "metadata": {},
     "output_type": "execute_result"
    }
   ],
   "source": [
    "# 0 = probability of testing negative for diabetes\n",
    "# 1 = probability of testing positive for diabetes\n",
    "#pima.head(10).style.apply(unequal, axis=1, subset=['class', 'predicted_class'])\n",
    "pima.head(10).style.apply(highlight_max, axis=1, subset=[0, 1])\n",
    "\n",
    "# see discrepancies between class and predicted_class --> missed row 6,7, and 9"
   ]
  },
  {
   "cell_type": "code",
   "execution_count": 25,
   "metadata": {
    "collapsed": true,
    "scrolled": true
   },
   "outputs": [],
   "source": [
    "#pima[['class', 'predicted_class']].head(10).assign(Not_Equal = pima['class'] != pima.predicted_class)"
   ]
  },
  {
   "cell_type": "markdown",
   "metadata": {},
   "source": [
    "## Evaluation\n",
    "\n",
    "`How did our model perform?`"
   ]
  },
  {
   "cell_type": "code",
   "execution_count": 44,
   "metadata": {},
   "outputs": [
    {
     "data": {
      "text/plain": [
       "0.74479166666666663"
      ]
     },
     "execution_count": 44,
     "metadata": {},
     "output_type": "execute_result"
    }
   ],
   "source": [
    "# The accuracy of your classification model\n",
    "accuracy_score(y_test, y_pred)"
   ]
  },
  {
   "cell_type": "markdown",
   "metadata": {},
   "source": [
    "`Remember our baseline number of .64? What do you think of the model's performance thus far?`"
   ]
  },
  {
   "cell_type": "markdown",
   "metadata": {},
   "source": [
    "`Accuracy is a great metric for communicating to others as it's simple to understand. Most everyone has a sense of what accuracy means. But it paints a pretty simple picture of your model's performance. We'll explore other evaluation metrics that can present model performance in a different light.`"
   ]
  },
  {
   "cell_type": "markdown",
   "metadata": {},
   "source": [
    "### Confusion Matrix\n",
    "\n",
    "`What types of errors is your classification model making?`"
   ]
  },
  {
   "cell_type": "code",
   "execution_count": 46,
   "metadata": {
    "scrolled": true
   },
   "outputs": [
    {
     "data": {
      "text/plain": [
       "array([[100,  23],\n",
       "       [ 26,  43]])"
      ]
     },
     "execution_count": 46,
     "metadata": {},
     "output_type": "execute_result"
    }
   ],
   "source": [
    "# As this is a binary classification problem, the confusion matrix will be a 2x2 numpy array.\n",
    "# If this were a multiclass problem the matrix would grow to meet the number\n",
    "# of options or classes in your target variable.\n",
    "cm = confusion_matrix(y_test, y_pred); cm"
   ]
  },
  {
   "cell_type": "markdown",
   "metadata": {},
   "source": [
    "`The way to view a confusion matrix:`\n",
    "$\\begin{bmatrix}True Negatives & False Positives\\\\False Negatives & True Positives\\end{bmatrix}$\n",
    "`or...`\n",
    "$\\begin{bmatrix}TN & FP\\\\FN & TP\\end{bmatrix}$"
   ]
  },
  {
   "cell_type": "code",
   "execution_count": 47,
   "metadata": {
    "scrolled": true
   },
   "outputs": [
    {
     "name": "stdout",
     "output_type": "stream",
     "text": [
      "('True Positives:', 100)\n",
      "('True Negatives:', 43)\n",
      "('False Positives:', 23)\n",
      "('False Negatives:', 26)\n"
     ]
    }
   ],
   "source": [
    "# (row, column)\n",
    "TN = cm[0, 0]; print(\"True Positives:\", TN)\n",
    "TP = cm[1, 1]; print(\"True Negatives:\", TP)\n",
    "FP = cm[0, 1]; print(\"False Positives:\", FP)\n",
    "FN = cm[1, 0]; print(\"False Negatives:\", FN)"
   ]
  },
  {
   "cell_type": "markdown",
   "metadata": {},
   "source": [
    "`The same as what we saw using the confusion matrix from scikit's metrics module!`"
   ]
  },
  {
   "cell_type": "code",
   "execution_count": 52,
   "metadata": {},
   "outputs": [
    {
     "name": "stdout",
     "output_type": "stream",
     "text": [
      "0.744791666667\n",
      "0.744791666667\n"
     ]
    }
   ],
   "source": [
    "# Calculate the accuracy from earlier by hand\n",
    "accuracy = (TP + TN)/float(TP + TN + FP + FN)\n",
    "print(accuracy)\n",
    "\n",
    "\n",
    "# The formula above should be the same as when we earlier ran the \n",
    "# code snippet below\n",
    "print(accuracy_score(y_test, y_pred))"
   ]
  },
  {
   "cell_type": "code",
   "execution_count": 53,
   "metadata": {
    "scrolled": true
   },
   "outputs": [
    {
     "name": "stdout",
     "output_type": "stream",
     "text": [
      "0.255208333333\n",
      "0.255208333333\n"
     ]
    }
   ],
   "source": [
    "# Calculate your misclassification rate or where your model went astray\n",
    "misclassification = (FP + FN) / float(TP + TN + FP + FN)\n",
    "print(misclassification)\n",
    "\n",
    "# Another way to think of the misclassification rate is (1 - accuracy)\n",
    "print(1 - accuracy)"
   ]
  },
  {
   "cell_type": "markdown",
   "metadata": {},
   "source": [
    "### Visualizing your confusion matrix"
   ]
  },
  {
   "cell_type": "code",
   "execution_count": 50,
   "metadata": {
    "scrolled": true
   },
   "outputs": [
    {
     "data": {
      "image/png": "[encoded data removed]",
      "text/plain": [
       "<matplotlib.figure.Figure at 0x1a144d5d90>"
      ]
     },
     "metadata": {},
     "output_type": "display_data"
    }
   ],
   "source": [
    "# converting the y_test, y_pred into an array assigned to variable \"cm\" \n",
    "# (short for confusion matrix)\n",
    "cm = np.array(confusion_matrix(y_test, y_pred))\n",
    "cm_lr = pd.DataFrame(cm, index=['actual_negative', 'actual_positive'],\n",
    "                             columns=['predicted_negative',\n",
    "                                      'predicted_positive']); cm_lr\n",
    "#Center: The value at which to center the colormap when plotting divergant data.\n",
    "plt.title('Confusion Matrix for Pima dataset', fontweight='bold', y=1.02)\n",
    "sns.heatmap(pd.DataFrame(cm_lr), annot=True, square=True, linewidth=0.5, fmt='', center=0)\n",
    "plt.yticks(rotation=0);"
   ]
  },
  {
   "cell_type": "markdown",
   "metadata": {},
   "source": [
    "`Seaborn heatmap documentation:`\n",
    "https://seaborn.pydata.org/generated/seaborn.heatmap.html"
   ]
  },
  {
   "cell_type": "markdown",
   "metadata": {},
   "source": [
    "### Classification Report"
   ]
  },
  {
   "cell_type": "code",
   "execution_count": 51,
   "metadata": {
    "scrolled": false
   },
   "outputs": [
    {
     "name": "stdout",
     "output_type": "stream",
     "text": [
      "             precision    recall  f1-score   support\n",
      "\n",
      "          0       0.79      0.81      0.80       123\n",
      "          1       0.65      0.62      0.64        69\n",
      "\n",
      "avg / total       0.74      0.74      0.74       192\n",
      "\n"
     ]
    }
   ],
   "source": [
    "# Here the classification_report from scikit's metrics library displays\n",
    "# the precision, recall, f1-score, and support (number of instances) for each class.\n",
    "print(classification_report(y_test, y_pred))"
   ]
  },
  {
   "cell_type": "markdown",
   "metadata": {},
   "source": [
    "`TO REVIEW:`\n",
    "\n",
    "> **Accuracy** (TP + TN) / Total\n",
    "- How often is my classifier correct?\n",
    "- Underlying data/distribution = prevalance or baseline.\n",
    "- Accuracy must be better than the prevalance or baseline.\n",
    "- How much better than the baseline does your accuracy need to be depends on what you're measuring.\n",
    "\n",
    "> **Precision** = TP / TP + FP (TP over all positives)\n",
    "- When the classifier predicts a positive test for diabetes,\n",
    "how often is it correct in that prediction?\n",
    "\n",
    "> **Recall** = TP / TP + FN\n",
    "- When an individual has diabetes, how often does the classifier\n",
    "predict a positive test?\n",
    "\n",
    "\n",
    "> **F1 Score**: Harmonic mean of precision and recall\n",
    "- F1 Score = (2 x TP)/(2 x TP + FP + FN)<br>\n",
    "<br>\n",
    "- $f_1 = 2 \\cdot \\frac{precision \\cdot recall}{precision + recall}$<br>\n",
    "<br>\n",
    "- You're not likely to spend an immense amount of time discussing the F1 score in the wild.\n",
    "\n",
    "> Key thing to remember: if you increase precision, you'll reduce recall (and vice versa)."
   ]
  },
  {
   "cell_type": "markdown",
   "metadata": {},
   "source": [
    "A handy reference webpage: http://www.dataschool.io/simple-guide-to-confusion-matrix-terminology/lll"
   ]
  },
  {
   "cell_type": "markdown",
   "metadata": {},
   "source": [
    "### Receiver Operating Characteristic (ROC) Curve"
   ]
  },
  {
   "cell_type": "markdown",
   "metadata": {},
   "source": [
    "`ROC curve can help you to find a threshold that balances sensitivity and specificity\n",
    "in a manner that best meets your needs.`\n"
   ]
  },
  {
   "cell_type": "code",
   "execution_count": 54,
   "metadata": {
    "scrolled": true
   },
   "outputs": [
    {
     "data": {
      "image/png": "[encoded data removed]",
      "text/plain": [
       "<matplotlib.figure.Figure at 0x1a1958be90>"
      ]
     },
     "metadata": {},
     "output_type": "display_data"
    }
   ],
   "source": [
    "# Find the area under the curve for those who tested positive (class 1)\n",
    "y_proba_1 = lr.predict_proba(X_test)[:, 1]\n",
    "fpr, tpr, thresh = roc_curve(y_test, y_proba_1)\n",
    "roc_auc = auc(fpr, tpr)\n",
    "\n",
    "# Plot the Receiver Operating Characteristic curve for those \n",
    "# who tested positive for diabetes\n",
    "plt.figure(figsize=[6,6])\n",
    "plt.plot(fpr, tpr, label='ROC curve (area = %0.2f)' % roc_auc, linewidth=4)\n",
    "plt.plot([0, 1], [0, 1], 'k--', linewidth=4)\n",
    "plt.xlim([-0.05, 1.0])\n",
    "plt.ylim([-0.05, 1.05])\n",
    "plt.xlabel('False Positive Rate (1 - Specificity)', fontsize=14)\n",
    "plt.ylabel('True Positive Rate (Sensitivity)', fontsize=14)\n",
    "plt.title('ROC for positive diabetes tests', fontsize=14)\n",
    "plt.legend(loc=\"lower right\")\n",
    "plt.show()"
   ]
  },
  {
   "cell_type": "code",
   "execution_count": null,
   "metadata": {
    "collapsed": true
   },
   "outputs": [],
   "source": []
  }
 ],
 "metadata": {
  "kernelspec": {
   "display_name": "Python 2",
   "language": "python",
   "name": "python2"
  },
  "language_info": {
   "codemirror_mode": {
    "name": "ipython",
    "version": 2
   },
   "file_extension": ".py",
   "mimetype": "text/x-python",
   "name": "python",
   "nbconvert_exporter": "python",
   "pygments_lexer": "ipython2",
   "version": "2.7.14"
  }
 },
 "nbformat": 4,
 "nbformat_minor": 2
}

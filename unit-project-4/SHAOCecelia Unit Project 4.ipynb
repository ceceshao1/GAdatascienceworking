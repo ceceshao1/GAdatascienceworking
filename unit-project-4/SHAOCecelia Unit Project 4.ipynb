{
 "cells": [
  {
   "cell_type": "markdown",
   "metadata": {},
   "source": [
    "<img src=\"https://ga-dash.s3.amazonaws.com/production/assets/logo-9f88ae6c9c3871690e33280fcf557f33.png\">"
   ]
  },
  {
   "cell_type": "markdown",
   "metadata": {},
   "source": [
    "### Your Name: Cecelia Shao"
   ]
  },
  {
   "cell_type": "markdown",
   "metadata": {},
   "source": [
    "# Project 4: Executive Summary with Jupyter Notebook\n",
    "\n",
    "### In this project, you will summarize and present your findings and the methods from Projects 1-3, using the 'admissions.csv' dataset in the assets folder, combining prior deliverables from projects 1-3 with an appendix and executive summary. This will be a final overview of your analysis that **incorporates past feedback** and demonstrates your approach.\n",
    "\n",
    "* You can\n",
    "    - load the data into this notebook and work out the problems here, then clean it up with most of the data workflow in the Appendix and the majority of the summary discussion up at the top,\n",
    "    - or work from a past notebook (Project 3) and finish the analysis with visualization of the resulting findings, and then save those images for tables and visualization to a website like IMGUR and paste them into the notebook without the code. \n"
   ]
  },
  {
   "cell_type": "markdown",
   "metadata": {},
   "source": [
    "#### Performance Evaluation Rubric\n",
    "\n",
    "| Requirements | Incomplete (0) | Does Not Meet Expectations (1) | Meets Expectations (2) | Exceeds Expectations (3) |\n",
    "|---|---|---|---|---|\n",
    "| Articulation of problem statement and description of dataset | | | | |\n",
    "| Outline of methods and models you use | | | | |\n",
    "| Risks and assumptions of data | | | | |\n",
    "| Goals for analysis and criteria for success of your analysis | | | | |\n",
    "| Exploratory data analysis overview with both visualizations and statistical analyses | | | | |\n",
    "| Succinct, organized writeup with interpretation of findings, an executive summary, conclusions, and next steps | | | | |\n",
    "\n",
    "- Total Available Points:   **18**"
   ]
  },
  {
   "cell_type": "markdown",
   "metadata": {},
   "source": [
    "### Explain your problem statement for this project, including hypothesis:"
   ]
  },
  {
   "cell_type": "markdown",
   "metadata": {},
   "source": [
    "**Problem Statement:** [Taken from Project 1 Notebook] Using the features available in this admissions.csv dataset around applicant GPA, GRE score, and alma mater prestige, determine whether **quantitative academic credentials around GRE scores and GPAs** are associated with student admission rates.\n",
    "\n",
    "**Original Hypothesis:** Students with better quantitative academic backgrounds, specifically higher GPA and GRE scores, are more likely to be admitted to graduate school compared to students with poor academic performance even when prestige of their alma mater is considered.\n",
    "\n",
    "**Update/Notes:** After doing the analysis in Project 1-3, where the focus was more on the prestige variable, it became clear that there was likely a positive relationship between the prestige of an applicant's alma mater and their chances for admissions. My original problem statement and hypothesis centered around \"quantitative\" academic credentials, but the outcome of the analysis still relate to the statement and hypothesis in that it shows that \"non-qualitative\" factors like prestige have an significant impact on admissions as well. "
   ]
  },
  {
   "cell_type": "markdown",
   "metadata": {},
   "source": [
    "### Dataset:  Write up a description of your data, including the ranges of the date and the risks and assumptions along with cleaning and transformations that you completed. Please include your data dictionary:"
   ]
  },
  {
   "cell_type": "markdown",
   "metadata": {},
   "source": [
    "**Answer:**\n",
    "\n",
    "**Description of data:**\n",
    "There were four fields/variables in the dataset: admit, prestige, gre, gpa (further details on type and description can be found below in the data dictionary). The response variable, admit/don’t admit, is a binary variable and is our \"variable of interest\". While, the dataset was originally obtained from UCLA's Logit Regression in R Tutorial, the collection methods of the data are unknown. Furthermore, the timeframe for the data is not available so consider it unknown.\n",
    "\n",
    "\n",
    "**Data Dictionary:**\n",
    "Variable | Description | Type of Variable\n",
    "---| ---| ---\n",
    "admit | 0 = not admitted 1 = admitted | binary\n",
    "gre | GRE score | numerical \n",
    "gpa |Grade Point Average | numerical\n",
    "prestige |is the rank of an applicant's undergraduate alma mater, with 1 being the highest and 4 as the lowest | ranked"
   ]
  },
  {
   "cell_type": "markdown",
   "metadata": {},
   "source": [
    "**In terms of cleaning and transformations:**\n",
    "\n",
    "Since the target variable is binary (yes or no via 1 or 0), I would assume that the dataset's distribution will be binomial. Another more shaky assumption (which I would confirm by actually exploring the data) is there would be negative (left) skew in the data since most applicants to graduate schools would be people who performed relatively well in school (relatively higher GPAs) and want to put their best foot forward in terms of GRE scores (wouldn't submit a score that's objectively poor). We really only have data for a small selection of students: those with good enough grades and high enough GRE to be applying to grad schools, so this data already has selection bias. \n",
    "\n",
    "\n",
    "I used `df_raw_droppedNA.isnull()` to drop the nulls (but I also could've used the skipna and imput functions to handle these null values. \n",
    "\n",
    "In Project 2, we saw slight skew in both `gre` and `gpa` , and because with skewed distributions, the extreme values in the long tails can have a disproportionately large influence on whatever test you perform or models you build, we used the log function to transform the data there in the bonus question. \n",
    "\n",
    "I also used dummy variables for the prestige variable in order to stave against multicolinearity."
   ]
  },
  {
   "cell_type": "markdown",
   "metadata": {
    "collapsed": true
   },
   "source": [
    "### Provide a cross tabulation table that explains the data **by admission status**"
   ]
  },
  {
   "cell_type": "markdown",
   "metadata": {},
   "source": [
    "Use a method to calculate the mean (STD), or just use counts, by admission status for each variable, similar to the one below:\n",
    "\n",
    "| Not Admitted | Admitted\n",
    "---| ---|---\n",
    "GPA | mean(std)  | mean(std)\n",
    "GRE |mean(std) | mean(std)\n",
    "Prestige 1 | frequency (%) | frequency (%)\n",
    "Prestige 2 | frequency (%) | frequency (%)\n",
    "Prestige 3 |frequency (%) | frequency (%)\n",
    "Prestige 4 |frequency (%) | frequency (%)"
   ]
  },
  {
   "cell_type": "markdown",
   "metadata": {},
   "source": [
    "- **For gpa/gre** - [Imgur](https://i.imgur.com/7YRl6FT.png)\n",
    "- **For prestige crosstab** - [Imgur](https://i.imgur.com/YaK4RLO.png)"
   ]
  },
  {
   "cell_type": "markdown",
   "metadata": {},
   "source": [
    "### Methods: Write up the methods used in your analysis (which model, which libraries in Python, which specific model features did you use to inform your analysis?)"
   ]
  },
  {
   "cell_type": "markdown",
   "metadata": {},
   "source": [
    "**Answer:**\n",
    "\n",
    "The libraries I used are:\n",
    "- import matplotlib.pyplot as plt\n",
    "- import pandas as pd\n",
    "- import statsmodels.api as sm\n",
    "- import pylab as pl\n",
    "- import numpy as np\n",
    "- import statsmodels.api as sm\n",
    "\n",
    "The model features I used are:\n",
    "- gre   \n",
    "- gpa  \n",
    "- prestige  --> specifically dummy variables like prestige_1.0, prestige_2.0, prestige_3.0 \n",
    "\n",
    "The model I used was the logistic regression, which we then tested with sample data generated with linspace\n",
    "> logit = sm.Logit(data['admit'], data[train_cols])\n",
    "> result=logit.fit()\n"
   ]
  },
  {
   "cell_type": "markdown",
   "metadata": {},
   "source": [
    "**Logit Model Results** - [Imgur](https://i.imgur.com/Gf9271W.png)"
   ]
  },
  {
   "cell_type": "markdown",
   "metadata": {},
   "source": [
    "### Results: Write up your results in terms of the coefficients you found and what insights they provide about the relationship between the features and the target variable."
   ]
  },
  {
   "cell_type": "markdown",
   "metadata": {},
   "source": [
    "**Answer:** The coefficients above (gre = 0.022, gpa = 0.7793, prestige_2 = -0.6801, prestige_3 = -1.3387, prestige_4 = -1.5534)show that there is a positive relationship between gre and gpa (as features) and admit (target) but there is a negative relationship between lower prestige undergraduate alma maters and admissions. \n",
    "\n",
    "The coefficient for gre is very small (0.022), while the coefficient for gpa is much larger, which suggests that gpa has a larger impact on the chances of admissions than gre does - essentially, a one-unit increase in gpa corresponds with a 0.77 increase in the chances of admissions. "
   ]
  },
  {
   "cell_type": "markdown",
   "metadata": {},
   "source": [
    "### Visuals: Provide a visualization of these results. \n",
    "* This should be the bulk of the work you do for this project. You want to find a way to communicate your findings about the features and their relative impact on admittance. **Allie's Tip: Review the communications notebook from Lesson 10 to get some ideas about communicating logistic regression results.**"
   ]
  },
  {
   "cell_type": "markdown",
   "metadata": {},
   "source": [
    "**Visualization** - [Imgur](https://i.imgur.com/2WjqDmO.png)\n",
    "\n",
    "With the two visualizations, you can see how gre, gpa, and prestige affect the admission levels (the prestige levels are different colors with blue being the \"highest\" prestige (Prestige 1). You can see how the probability of admission gradually increases as gre and gpa increase, but more importantly that the different prestige levels yield very different probabilities of admission."
   ]
  },
  {
   "cell_type": "markdown",
   "metadata": {},
   "source": [
    "### Discussion: Write up your discussion of findings, the limitations (if any) of your analysis and future steps"
   ]
  },
  {
   "cell_type": "markdown",
   "metadata": {},
   "source": [
    "**Answer:** Our analysis helped me understand the relationship between levels of prestige and the chances of admissions (provided evidence towards a hypothesis that has been an unspoken truth that prestige matters and the admissions process is not entirely meritocratic). The analysis did not deeply cover the relationship between different levels of gpa and gre (although we do have the start with the coefficients). There were still limitations around lack of information on how this data was collected and how prestige is assigned (especially if those assignments change over time). For future steps, I would be curious to get this information around how the data was collected and also seeing if there were other variables to consider as part of my analysis, along with trying to see what the applicant's entire profile (gpa, gre, prestige all together) impact on admissions are (as opposed to hold one constant)."
   ]
  },
  {
   "cell_type": "markdown",
   "metadata": {},
   "source": [
    "### Include an Appendix of any additional plots for EDA or information about your analysis that you left out of the main questions for brevity's sake."
   ]
  },
  {
   "cell_type": "markdown",
   "metadata": {},
   "source": [
    "## Appendix:"
   ]
  },
  {
   "cell_type": "markdown",
   "metadata": {},
   "source": [
    "More plots, etc."
   ]
  }
 ],
 "metadata": {
  "kernelspec": {
   "display_name": "Python 2",
   "language": "python",
   "name": "python2"
  },
  "language_info": {
   "codemirror_mode": {
    "name": "ipython",
    "version": 2
   },
   "file_extension": ".py",
   "mimetype": "text/x-python",
   "name": "python",
   "nbconvert_exporter": "python",
   "pygments_lexer": "ipython2",
   "version": "2.7.14"
  }
 },
 "nbformat": 4,
 "nbformat_minor": 1
}

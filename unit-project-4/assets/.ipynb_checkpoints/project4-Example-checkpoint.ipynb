{
 "cells": [
  {
   "cell_type": "markdown",
   "metadata": {},
   "source": [
    "# Project 4 Bare-Bones Example (Yours Needs to Have Tables and Visualizations)\n",
    "* To help you in answering the questions of the Project 4 Summary piece, we have provided a sample walkthrough of a summary without the tables and visualization that you will need to turn in for the admissions data. The point of this is to help you with the wording of each area."
   ]
  },
  {
   "cell_type": "markdown",
   "metadata": {},
   "source": [
    "### Intro: Write a problem Statement/ Specific Aim for this project"
   ]
  },
  {
   "cell_type": "markdown",
   "metadata": {},
   "source": [
    "Answer: Using Planet Express customer data from January 3001-3005, determine how likely previous customers are to request a repeat delivery using demographic information (profession, company size, location) and previous delivery data (days since last delivery, number of total deliveries)."
   ]
  },
  {
   "cell_type": "markdown",
   "metadata": {},
   "source": [
    "### Dataset:  Write up a description of your data and any cleaning that was completed. "
   ]
  },
  {
   "cell_type": "markdown",
   "metadata": {},
   "source": [
    "Answer: There were 525 deliveries in our dataset. There were 25 observations with missing data that were dropped from this analysis. The final analytic sample was 500. This data was collected from January 3001-3005. \n",
    "\n",
    "There were three common professions- Account Manager, Warehouse Manger, and Alien Intake. All others were combined into a fourth category: Other. We created dummy variables from 'Profession'.\n",
    "\n",
    "Similarily there were 4 locations in this data set which had 20 or more deliveries; they were included in this analysis while all others were grouped into the \"Other\" category, and were made into dummy variables. \"Days since last delivery\" and \"number of deliveries\" are continuous variables ranging from 0-360 days and 1-100 deliveries, respectively. "
   ]
  },
  {
   "cell_type": "markdown",
   "metadata": {
    "collapsed": true
   },
   "source": [
    "### Provide a data dictionary and a cross-tabulation table that explains the data by target variable category:"
   ]
  },
  {
   "cell_type": "markdown",
   "metadata": {},
   "source": [
    "** Data Dictionary: **\n",
    "\n",
    "Variable | Description | Type of Variable\n",
    "---| ---| ---\n",
    "Profession |Title of the account owner  | categorical\n",
    "Company Size | 1- small, 2- medium, 3- large| categorical\n",
    "Location | planet of the company | categorical \n",
    "Days Since Last Delivery | integer | continuous\n",
    "Number of Deliveries | integer | continuous\n",
    "\n",
    "**Cross-Tabulation / Frequency Table:**\n",
    "- Mean (STD) and counts for 2 of the 4 variables\n",
    "\n",
    "Variable | Mean (STD) or Frequency (%)\n",
    "---| ---\n",
    "|Number of Deliveries | 50.0 (10)\n",
    "|Earth | 50 (10%)\n",
    "|Amphibios 9 | 100 (20%)\n",
    "|Bogad | 100 (20%)\n",
    "|Colgate 8| 100 (20%) \n",
    "|Other| 150 (30%)"
   ]
  },
  {
   "cell_type": "markdown",
   "metadata": {},
   "source": [
    "### Methods: Write up the methods used in your analysis"
   ]
  },
  {
   "cell_type": "markdown",
   "metadata": {},
   "source": [
    "Answer: We completed a logistic regression using Statsmodels v. XX. We calculated the probability of a customer placing another order with Planet Express."
   ]
  },
  {
   "cell_type": "markdown",
   "metadata": {},
   "source": [
    "### Results: Write up your results (Even though this analysis does not have visualizations, please include plots in yours):"
   ]
  },
  {
   "cell_type": "markdown",
   "metadata": {},
   "source": [
    "Customers from large companies had 2.0 (CI 1.9, 2.1) the odds of of placing another order with Planet Express compared to customers from small companies. "
   ]
  },
  {
   "cell_type": "markdown",
   "metadata": {},
   "source": [
    "### Discussion: Write up your discussion and future steps"
   ]
  },
  {
   "cell_type": "markdown",
   "metadata": {},
   "source": [
    "Our findings indicate that customers have a higher probability of returning if they are from a large company. Next steps could include exploring the difference by statisfaction levels, as measured by a survey."
   ]
  }
 ],
 "metadata": {
  "kernelspec": {
   "display_name": "Python 3",
   "language": "python",
   "name": "python3"
  },
  "language_info": {
   "codemirror_mode": {
    "name": "ipython",
    "version": 3
   },
   "file_extension": ".py",
   "mimetype": "text/x-python",
   "name": "python",
   "nbconvert_exporter": "python",
   "pygments_lexer": "ipython3",
   "version": "3.6.3"
  }
 },
 "nbformat": 4,
 "nbformat_minor": 1
}

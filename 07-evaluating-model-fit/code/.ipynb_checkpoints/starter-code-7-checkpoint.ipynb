{
 "cells": [
  {
   "cell_type": "markdown",
   "metadata": {},
   "source": [
    "### Class 7- Starter code\n"
   ]
  },
  {
   "cell_type": "code",
   "execution_count": 26,
   "metadata": {},
   "outputs": [],
   "source": [
    "import numpy as np\n",
    "import pandas as pd\n",
    "from sklearn import linear_model, metrics"
   ]
  },
  {
   "cell_type": "markdown",
   "metadata": {},
   "source": [
    "## Cross validation\n",
    "#### Intro to cross validation with bike share data from last time. We will be modeling casual ridership. "
   ]
  },
  {
   "cell_type": "code",
   "execution_count": 27,
   "metadata": {},
   "outputs": [],
   "source": [
    "from sklearn import model_selection\n",
    "wd = '../datasets/'\n",
    "bikeshare = pd.read_csv(wd + 'bikeshare.csv')"
   ]
  },
  {
   "cell_type": "markdown",
   "metadata": {},
   "source": [
    "#### Create dummy variables and set outcome (dependent) variable"
   ]
  },
  {
   "cell_type": "code",
   "execution_count": 28,
   "metadata": {},
   "outputs": [],
   "source": [
    "weather = pd.get_dummies(bikeshare.weathersit, prefix='weather')\n",
    "modeldata = bikeshare[['temp', 'hum']].join(weather[['weather_1', 'weather_2', 'weather_3']])\n",
    "y = bikeshare['casual']\n",
    "\n",
    "# print(weather)"
   ]
  },
  {
   "cell_type": "markdown",
   "metadata": {},
   "source": [
    "**From the class ppt - Activity **"
   ]
  },
  {
   "cell_type": "code",
   "execution_count": 32,
   "metadata": {},
   "outputs": [],
   "source": [
    "range_numbers = range (2, 51, 2)\n",
    "\n",
    "for z in range_numbers:\n",
    "    kf = model_selection.KFold(n_splits=z, shuffle=True)"
   ]
  },
  {
   "cell_type": "code",
   "execution_count": 33,
   "metadata": {},
   "outputs": [
    {
     "name": "stdout",
     "output_type": "stream",
     "text": [
      "~~~~ CROSS VALIDATION each fold ~~~~\n",
      "('Model', 1)\n",
      "('MSE:', 1617.8279229548993)\n",
      "('R2:', 0.31193336605723332)\n",
      "('Model', 2)\n",
      "('MSE:', 1727.1088645496384)\n",
      "('R2:', 0.31193286374006846)\n",
      "('Model', 3)\n",
      "('MSE:', 1940.1455341899057)\n",
      "('R2:', 0.31193202611826587)\n",
      "('Model', 4)\n",
      "('MSE:', 2098.7660423996881)\n",
      "('R2:', 0.31193249795504874)\n",
      "('Model', 5)\n",
      "('MSE:', 1786.6361658014264)\n",
      "('R2:', 0.31193041001049293)\n",
      "('Model', 6)\n",
      "('MSE:', 1279.9977913293746)\n",
      "('R2:', 0.31193139118943747)\n",
      "('Model', 7)\n",
      "('MSE:', 1234.4239569755487)\n",
      "('R2:', 0.3119306687416703)\n",
      "('Model', 8)\n",
      "('MSE:', 1800.8977575531471)\n",
      "('R2:', 0.31193142738320412)\n",
      "('Model', 9)\n",
      "('MSE:', 1380.4188968411154)\n",
      "('R2:', 0.31193406306588678)\n",
      "('Model', 10)\n",
      "('MSE:', 1727.8396318905425)\n",
      "('R2:', 0.31193288505881922)\n",
      "('Model', 11)\n",
      "('MSE:', 1790.7066602966877)\n",
      "('R2:', 0.31193140585326207)\n",
      "('Model', 12)\n",
      "('MSE:', 1575.4001729950535)\n",
      "('R2:', 0.31193180487595407)\n",
      "('Model', 13)\n",
      "('MSE:', 1429.9486110349942)\n",
      "('R2:', 0.31192978348148992)\n",
      "('Model', 14)\n",
      "('MSE:', 2085.4716865915152)\n",
      "('R2:', 0.31193385432874243)\n",
      "('Model', 15)\n",
      "('MSE:', 1906.5793443876914)\n",
      "('R2:', 0.31192481453872556)\n",
      "('Model', 16)\n",
      "('MSE:', 1867.9418785406906)\n",
      "('R2:', 0.31193282971654834)\n",
      "('Model', 17)\n",
      "('MSE:', 1666.7568405243269)\n",
      "('R2:', 0.311933347560295)\n",
      "('Model', 18)\n",
      "('MSE:', 1190.7489516284004)\n",
      "('R2:', 0.31192941902933458)\n",
      "('Model', 19)\n",
      "('MSE:', 1930.8613323414793)\n",
      "('R2:', 0.31193318839342188)\n",
      "('Model', 20)\n",
      "('MSE:', 1016.4355163783043)\n",
      "('R2:', 0.31193129219542626)\n",
      "('Model', 21)\n",
      "('MSE:', 1609.3659281841478)\n",
      "('R2:', 0.31193338051302721)\n",
      "('Model', 22)\n",
      "('MSE:', 3041.4261355287977)\n",
      "('R2:', 0.31190449272196541)\n",
      "('Model', 23)\n",
      "('MSE:', 2179.8549522758576)\n",
      "('R2:', 0.31193172604126451)\n",
      "('Model', 24)\n",
      "('MSE:', 1469.8036649899279)\n",
      "('R2:', 0.31193117370229062)\n",
      "('Model', 25)\n",
      "('MSE:', 1661.7228118856333)\n",
      "('R2:', 0.3119324814930784)\n",
      "('Model', 26)\n",
      "('MSE:', 2007.1320821653644)\n",
      "('R2:', 0.31193211811393617)\n",
      "('Model', 27)\n",
      "('MSE:', 1484.3913195464193)\n",
      "('R2:', 0.31193261935221961)\n",
      "('Model', 28)\n",
      "('MSE:', 1177.1708823162394)\n",
      "('R2:', 0.31192768108749713)\n",
      "('Model', 29)\n",
      "('MSE:', 2026.2414894217766)\n",
      "('R2:', 0.31193091602376088)\n",
      "('Model', 30)\n",
      "('MSE:', 1400.7577058228387)\n",
      "('R2:', 0.31193070477597473)\n",
      "('Model', 31)\n",
      "('MSE:', 1900.9095885707964)\n",
      "('R2:', 0.31193313937843359)\n",
      "('Model', 32)\n",
      "('MSE:', 1529.3850936687575)\n",
      "('R2:', 0.31193413719673568)\n",
      "('Model', 33)\n",
      "('MSE:', 1485.2201531556741)\n",
      "('R2:', 0.31193373127011115)\n",
      "('Model', 34)\n",
      "('MSE:', 1599.0704362767337)\n",
      "('R2:', 0.31192648441361215)\n",
      "('Model', 35)\n",
      "('MSE:', 1715.4724567861515)\n",
      "('R2:', 0.3119313669077407)\n",
      "('Model', 36)\n",
      "('MSE:', 966.32396980752276)\n",
      "('R2:', 0.31193024046033735)\n",
      "('Model', 37)\n",
      "('MSE:', 1465.5052616095099)\n",
      "('R2:', 0.31193172939964364)\n",
      "('Model', 38)\n",
      "('MSE:', 1349.4210416122285)\n",
      "('R2:', 0.31193136710913916)\n",
      "('Model', 39)\n",
      "('MSE:', 2526.9224867202538)\n",
      "('R2:', 0.31192372639645738)\n",
      "('Model', 40)\n",
      "('MSE:', 1573.4388517164914)\n",
      "('R2:', 0.3119335027248058)\n",
      "('Model', 41)\n",
      "('MSE:', 1346.717368533428)\n",
      "('R2:', 0.3119322086720363)\n",
      "('Model', 42)\n",
      "('MSE:', 1726.637645611914)\n",
      "('R2:', 0.31193361551483412)\n",
      "('Model', 43)\n",
      "('MSE:', 1983.1160629967808)\n",
      "('R2:', 0.3119335575109462)\n",
      "('Model', 44)\n",
      "('MSE:', 1852.7374502788509)\n",
      "('R2:', 0.31193355587910565)\n",
      "('Model', 45)\n",
      "('MSE:', 1244.8066259660611)\n",
      "('R2:', 0.31192967003143768)\n",
      "('Model', 46)\n",
      "('MSE:', 1612.7167616933114)\n",
      "('R2:', 0.31192893771634933)\n",
      "('Model', 47)\n",
      "('MSE:', 1760.6302264037902)\n",
      "('R2:', 0.3119332953683932)\n",
      "('Model', 48)\n",
      "('MSE:', 1590.9153065261473)\n",
      "('R2:', 0.31193261900920266)\n",
      "('Model', 49)\n",
      "('MSE:', 1286.1845371775412)\n",
      "('R2:', 0.31192858507779853)\n",
      "('Model', 50)\n",
      "('MSE:', 2041.3883711689202)\n",
      "('R2:', 0.31192862853975378)\n",
      "~~~~ SUMMARY OF CROSS VALIDATION ~~~~\n",
      "('Mean of MSE for all folds:', 1673.4060045524463)\n",
      "('Mean of R2 for all folds:', 0.31193089463390428)\n"
     ]
    }
   ],
   "source": [
    "mse_values = []\n",
    "scores = []\n",
    "n= 0\n",
    "print(\"~~~~ CROSS VALIDATION each fold ~~~~\")\n",
    "for train_index, test_index in kf.split(modeldata):\n",
    "    lm = linear_model.LinearRegression().fit(modeldata.iloc[train_index], y.iloc[train_index])\n",
    "    mse_values.append(metrics.mean_squared_error(y.iloc[test_index], lm.predict(modeldata.iloc[test_index])))\n",
    "    scores.append(lm.score(modeldata, y))\n",
    "    n+=1\n",
    "    print('Model', n)\n",
    "    print('MSE:', mse_values[n-1])\n",
    "    print('R2:', scores[n-1])\n",
    "\n",
    "\n",
    "print(\"~~~~ SUMMARY OF CROSS VALIDATION ~~~~\")\n",
    "print('Mean of MSE for all folds:', np.mean(mse_values))\n",
    "print('Mean of R2 for all folds:', np.mean(scores))"
   ]
  },
  {
   "cell_type": "markdown",
   "metadata": {},
   "source": [
    "#### Create a cross valiation with 5 folds"
   ]
  },
  {
   "cell_type": "code",
   "execution_count": 6,
   "metadata": {},
   "outputs": [],
   "source": [
    "kf = model_selection.KFold(n_splits=5, shuffle=True)\n",
    "# kf.get_n_splits(modeldata)"
   ]
  },
  {
   "cell_type": "code",
   "execution_count": 7,
   "metadata": {},
   "outputs": [
    {
     "name": "stdout",
     "output_type": "stream",
     "text": [
      "~~~~ CROSS VALIDATION each fold ~~~~\n",
      "('Model', 1)\n",
      "('MSE:', 1556.1375990060365)\n",
      "('R2:', 0.31188900254749696)\n",
      "('Model', 2)\n",
      "('MSE:', 1603.575318809832)\n",
      "('R2:', 0.31192017955293794)\n",
      "('Model', 3)\n",
      "('MSE:', 1652.9888614773781)\n",
      "('R2:', 0.31191582151143982)\n",
      "('Model', 4)\n",
      "('MSE:', 1722.4401748316759)\n",
      "('R2:', 0.31191044438616478)\n",
      "('Model', 5)\n",
      "('MSE:', 1830.9765131039687)\n",
      "('R2:', 0.31189263360553665)\n",
      "~~~~ SUMMARY OF CROSS VALIDATION ~~~~\n",
      "('Mean of MSE for all folds:', 1673.2236934457783)\n",
      "('Mean of R2 for all folds:', 0.31190561632071523)\n"
     ]
    }
   ],
   "source": [
    "mse_values = []\n",
    "scores = []\n",
    "n= 0\n",
    "print(\"~~~~ CROSS VALIDATION each fold ~~~~\")\n",
    "for train_index, test_index in kf.split(modeldata):\n",
    "    lm = linear_model.LinearRegression().fit(modeldata.iloc[train_index], y.iloc[train_index])\n",
    "    mse_values.append(metrics.mean_squared_error(y.iloc[test_index], lm.predict(modeldata.iloc[test_index])))\n",
    "    scores.append(lm.score(modeldata, y))\n",
    "    n+=1\n",
    "    print('Model', n)\n",
    "    print('MSE:', mse_values[n-1])\n",
    "    print('R2:', scores[n-1])\n",
    "\n",
    "\n",
    "print(\"~~~~ SUMMARY OF CROSS VALIDATION ~~~~\")\n",
    "print('Mean of MSE for all folds:', np.mean(mse_values))\n",
    "print('Mean of R2 for all folds:', np.mean(scores))"
   ]
  },
  {
   "cell_type": "code",
   "execution_count": 6,
   "metadata": {
    "collapsed": true
   },
   "outputs": [],
   "source": [
    "# from sklearn.model_selection import KFold\n",
    "# kf = KFold(n_splits=5)\n",
    "# lm = linear_model.LinearRegression()\n",
    "# cross_val_score(lm, modeldata, y, )"
   ]
  },
  {
   "cell_type": "code",
   "execution_count": 9,
   "metadata": {},
   "outputs": [
    {
     "name": "stdout",
     "output_type": "stream",
     "text": [
      "~~~~ Single Model ~~~~\n",
      "('MSE of single model:', 1672.5811076539349)\n",
      "('R2: ', 0.31193460598906442)\n"
     ]
    }
   ],
   "source": [
    "#Not making any folds, making a model off the entire dataset\n",
    "\n",
    "lm = linear_model.LinearRegression().fit(modeldata, y)\n",
    "print(\"~~~~ Single Model ~~~~\")\n",
    "print('MSE of single model:', metrics.mean_squared_error(y, lm.predict(modeldata)))\n",
    "print('R2: ', lm.score(modeldata, y))"
   ]
  },
  {
   "cell_type": "markdown",
   "metadata": {},
   "source": [
    "### Check\n",
    "While the cross validated approach here generated more overall error, which of the two approaches would predict new data more accurately: the single model or the cross validated, averaged one? Why?\n"
   ]
  },
  {
   "cell_type": "markdown",
   "metadata": {},
   "source": [
    "Answer: The cross validated, averaged one (compare MSE) "
   ]
  },
  {
   "cell_type": "markdown",
   "metadata": {},
   "source": [
    "### There are ways to improve our model with regularization. \n",
    "Let's check out the effects on MSE and R2"
   ]
  },
  {
   "cell_type": "code",
   "execution_count": 34,
   "metadata": {},
   "outputs": [
    {
     "name": "stdout",
     "output_type": "stream",
     "text": [
      "~~~ OLS ~~~\n",
      "('OLS MSE: ', 1672.5811076539349)\n",
      "('OLS R2:', 0.31193460598906442)\n",
      "~~~ Lasso ~~~\n",
      "('Lasso MSE: ', 1725.4158160809566)\n",
      "('Lasso R2:', 0.29019949592179628)\n",
      "~~~ Ridge ~~~\n",
      "('Ridge MSE: ', 1672.6049011306602)\n",
      "('Ridge R2:', 0.31192481784314841)\n"
     ]
    }
   ],
   "source": [
    "lm = linear_model.LinearRegression().fit(modeldata, y)\n",
    "print(\"~~~ OLS ~~~\")\n",
    "print('OLS MSE: ', metrics.mean_squared_error(y, lm.predict(modeldata)))\n",
    "print('OLS R2:', lm.score(modeldata, y))\n",
    "\n",
    "lm = linear_model.Lasso().fit(modeldata, y)\n",
    "print(\"~~~ Lasso ~~~\")\n",
    "print('Lasso MSE: ', metrics.mean_squared_error(y, lm.predict(modeldata)))\n",
    "print('Lasso R2:', lm.score(modeldata, y))\n",
    "\n",
    "lm = linear_model.Ridge().fit(modeldata, y)\n",
    "print(\"~~~ Ridge ~~~\")\n",
    "print('Ridge MSE: ', metrics.mean_squared_error(y, lm.predict(modeldata)))\n",
    "print('Ridge R2:', lm.score(modeldata, y))"
   ]
  },
  {
   "cell_type": "markdown",
   "metadata": {},
   "source": [
    "### Figuring out the alphas (lambda) can be done by \"hand\""
   ]
  },
  {
   "cell_type": "code",
   "execution_count": 35,
   "metadata": {},
   "outputs": [
    {
     "name": "stdout",
     "output_type": "stream",
     "text": [
      "('Alpha:', 1e-10)\n",
      "[ 112.68901765  -84.01121684  -24.68489063  -21.00314493  -21.71893628]\n",
      "1672.58110765\n",
      "('Alpha:', 1.0000000000000001e-09)\n",
      "[ 112.68901765  -84.01121684  -24.6848906   -21.00314491  -21.71893626]\n",
      "1672.58110765\n",
      "('Alpha:', 1e-08)\n",
      "[ 112.68901765  -84.01121684  -24.6848904   -21.00314471  -21.71893606]\n",
      "1672.58110765\n",
      "('Alpha:', 9.9999999999999995e-08)\n",
      "[ 112.68901763  -84.01121682  -24.68488837  -21.00314268  -21.71893403]\n",
      "1672.58110765\n",
      "('Alpha:', 9.9999999999999995e-07)\n",
      "[ 112.68901745  -84.01121667  -24.68486804  -21.00312237  -21.71891373]\n",
      "1672.58110765\n",
      "('Alpha:', 1.0000000000000001e-05)\n",
      "[ 112.68901562  -84.01121509  -24.68466472  -21.00291929  -21.71871079]\n",
      "1672.58110765\n",
      "('Alpha:', 0.0001)\n",
      "[ 112.68899732  -84.01119938  -24.68263174  -21.00088873  -21.71668161]\n",
      "1672.58110765\n",
      "('Alpha:', 0.001)\n",
      "[ 112.68881437  -84.01104228  -24.66232204  -20.98060316  -21.69640993]\n",
      "1672.58110774\n",
      "('Alpha:', 0.01)\n",
      "[ 112.68698753  -84.00947323  -24.46121539  -20.77973778  -21.49568404]\n",
      "1672.58111645\n",
      "('Alpha:', 0.10000000000000001)\n",
      "[ 112.66896732  -83.99396383  -22.63109556  -18.95202277  -19.66942371]\n",
      "1672.58185208\n",
      "('Alpha:', 1.0)\n",
      "[ 112.50129738  -83.84805622  -13.38214934   -9.72671278  -10.46162477]\n",
      "1672.60490113\n",
      "('Alpha:', 10.0)\n",
      "[ 110.96062533  -82.49604961   -3.94431741   -0.51765034   -1.45024412]\n",
      "1672.83347262\n",
      "('Alpha:', 100.0)\n",
      "[ 97.69060562 -71.17602377  -0.31585194   1.18284675  -1.33281591]\n",
      "1686.31830362\n",
      "('Alpha:', 1000.0)\n",
      "[ 44.59923075 -30.85843772   5.07876321   0.05369643  -5.107457  ]\n",
      "1937.81576044\n",
      "('Alpha:', 10000.0)\n",
      "[ 7.03007064 -5.07733082  3.29039029 -1.2136063  -2.06842808]\n",
      "2314.83675678\n",
      "('Alpha:', 100000.0)\n",
      "[ 0.75195708 -0.56490872  0.52067881 -0.25075496 -0.26895254]\n",
      "2415.77806566\n",
      "('Alpha:', 1000000.0)\n",
      "[ 0.07576571 -0.05727511  0.05520142 -0.0273591  -0.02774349]\n",
      "2429.28026459\n",
      "('Alpha:', 10000000.0)\n",
      "[ 0.00758239 -0.00573569  0.0055535  -0.00276043 -0.00278317]\n",
      "2430.68891798\n",
      "('Alpha:', 100000000.0)\n",
      "[ 0.0007583  -0.00057365  0.00055569 -0.00027629 -0.00027841]\n",
      "2430.83041212\n",
      "('Alpha:', 1000000000.0)\n",
      "[  7.58303020e-05  -5.73659720e-05   5.55719458e-05  -2.76314619e-05\n",
      "  -2.78414555e-05]\n",
      "2430.84456787\n",
      "('Alpha:', 10000000000.0)\n",
      "[  7.58303603e-06  -5.73660542e-06   5.55722818e-06  -2.76317091e-06\n",
      "  -2.78415441e-06]\n",
      "2430.84598351\n"
     ]
    }
   ],
   "source": [
    "alphas = np.logspace(-10, 10, 21)\n",
    "for a in alphas:\n",
    "    print('Alpha:', a)\n",
    "    lm = linear_model.Ridge(alpha=a)\n",
    "    lm.fit(modeldata, y)\n",
    "    print(lm.coef_)\n",
    "    print(metrics.mean_squared_error(y, lm.predict(modeldata)))\n",
    "    \n",
    "    # the resulting numbers are coefficients (as the alpha/lambda increases, the coefficients get closer to 0 )"
   ]
  },
  {
   "cell_type": "markdown",
   "metadata": {},
   "source": [
    "### Or we can use grid search to make this faster"
   ]
  },
  {
   "cell_type": "code",
   "execution_count": 36,
   "metadata": {
    "scrolled": true
   },
   "outputs": [
    {
     "data": {
      "text/plain": [
       "GridSearchCV(cv=None, error_score='raise',\n",
       "       estimator=Ridge(alpha=1.0, copy_X=True, fit_intercept=True, max_iter=None,\n",
       "   normalize=False, random_state=None, solver='auto', tol=0.001),\n",
       "       fit_params=None, iid=True, n_jobs=1,\n",
       "       param_grid={'alpha': array([  1.00000e-10,   1.00000e-09,   1.00000e-08,   1.00000e-07,\n",
       "         1.00000e-06,   1.00000e-05,   1.00000e-04,   1.00000e-03,\n",
       "         1.00000e-02,   1.00000e-01,   1.00000e+00,   1.00000e+01,\n",
       "         1.00000e+02,   1.00000e+03,   1.00000e+04,   1.00000e+05,\n",
       "         1.00000e+06,   1.00000e+07,   1.00000e+08,   1.00000e+09,\n",
       "         1.00000e+10])},\n",
       "       pre_dispatch='2*n_jobs', refit=True, return_train_score='warn',\n",
       "       scoring='neg_mean_squared_error', verbose=0)"
      ]
     },
     "execution_count": 36,
     "metadata": {},
     "output_type": "execute_result"
    }
   ],
   "source": [
    "from sklearn.model_selection import GridSearchCV\n",
    "\n",
    "alphas = np.logspace(-10, 10, 21)\n",
    "gs = GridSearchCV(estimator=linear_model.Ridge(),\n",
    "                  param_grid={'alpha': alphas}, \n",
    "                  scoring='neg_mean_squared_error')\n",
    "\n",
    "gs.fit(modeldata, y)"
   ]
  },
  {
   "cell_type": "markdown",
   "metadata": {},
   "source": [
    "##### Best score "
   ]
  },
  {
   "cell_type": "code",
   "execution_count": 11,
   "metadata": {},
   "outputs": [
    {
     "name": "stdout",
     "output_type": "stream",
     "text": [
      "-1814.09369133\n"
     ]
    }
   ],
   "source": [
    "print(gs.best_score_)"
   ]
  },
  {
   "cell_type": "markdown",
   "metadata": {},
   "source": [
    "##### mean squared error here comes in negative, so let's make it positive."
   ]
  },
  {
   "cell_type": "code",
   "execution_count": 12,
   "metadata": {},
   "outputs": [
    {
     "name": "stdout",
     "output_type": "stream",
     "text": [
      "1814.09369133\n"
     ]
    }
   ],
   "source": [
    "print(-gs.best_score_)"
   ]
  },
  {
   "cell_type": "markdown",
   "metadata": {},
   "source": [
    "##### explains which grid_search setup worked best"
   ]
  },
  {
   "cell_type": "code",
   "execution_count": 37,
   "metadata": {},
   "outputs": [
    {
     "name": "stdout",
     "output_type": "stream",
     "text": [
      "Ridge(alpha=10.0, copy_X=True, fit_intercept=True, max_iter=None,\n",
      "   normalize=False, random_state=None, solver='auto', tol=0.001)\n"
     ]
    }
   ],
   "source": [
    "print(gs.best_estimator_)"
   ]
  },
  {
   "cell_type": "markdown",
   "metadata": {},
   "source": [
    "## Gradient Descent"
   ]
  },
  {
   "cell_type": "markdown",
   "metadata": {},
   "source": [
    "## Demo: Application of Gradient Descent "
   ]
  },
  {
   "cell_type": "code",
   "execution_count": 38,
   "metadata": {},
   "outputs": [
    {
     "name": "stdout",
     "output_type": "stream",
     "text": [
      "('Gradient Descent R2:', 0.30625282584278457)\n",
      "('Gradient Descent MSE:', 1686.3926409954299)\n"
     ]
    },
    {
     "name": "stderr",
     "output_type": "stream",
     "text": [
      "/Users/ceceliashao/anaconda2/lib/python2.7/site-packages/sklearn/linear_model/stochastic_gradient.py:128: FutureWarning: max_iter and tol parameters have been added in <class 'sklearn.linear_model.stochastic_gradient.SGDRegressor'> in 0.19. If both are left unset, they default to max_iter=5 and tol=None. If tol is not None, max_iter defaults to max_iter=1000. From 0.21, default max_iter will be 1000, and default tol will be 1e-3.\n",
      "  \"and default tol will be 1e-3.\" % type(self), FutureWarning)\n"
     ]
    }
   ],
   "source": [
    "lm = linear_model.SGDRegressor()\n",
    "lm.fit(modeldata, y)\n",
    "print(\"Gradient Descent R2:\", lm.score(modeldata, y))\n",
    "print(\"Gradient Descent MSE:\", metrics.mean_squared_error(y, lm.predict(modeldata)))"
   ]
  },
  {
   "cell_type": "markdown",
   "metadata": {},
   "source": [
    "### Check: Untuned, how well did gradient descent perform compared to OLS?"
   ]
  },
  {
   "cell_type": "markdown",
   "metadata": {},
   "source": [
    "Answer: \n",
    "\n",
    "Gradient Descent \n",
    "('Gradient Descent R2:', 0.30625282584278457)\n",
    "('Gradient Descent MSE:', 1686.3926409954299)\n",
    "\n",
    "\n",
    "~~~~ Single Model OLS with cross-validation ~~~~\n",
    "('MSE of single model:', 1672.5811076539349)\n",
    "('R2: ', 0.31193460598906442)"
   ]
  },
  {
   "cell_type": "markdown",
   "metadata": {},
   "source": [
    "# Independent Practice: Bike data revisited\n",
    "\n",
    "There are tons of ways to approach a regression problem. The regularization techniques appended to ordinary least squares optimizes the size of coefficients to best account for error. Gradient Descent also introduces learning rate (how aggressively do we solve the problem), epsilon (at what point do we say the error margin is acceptable), and iterations (when should we stop no matter what?)\n",
    "\n",
    "For this deliverable, our goals are to:\n",
    "\n",
    "- implement the gradient descent approach to our bike-share modeling problem,\n",
    "- show how gradient descent solves and optimizes the solution,\n",
    "- demonstrate the grid_search module!\n",
    "\n",
    "While exploring the Gradient Descent regressor object, you'll build a grid search using the stochastic gradient descent estimator for the bike-share data set. Continue with either the model you evaluated last class or the simpler one from today. In particular, be sure to implement the \"param_grid\" in the grid search to get answers for the following questions:\n",
    "\n",
    "- With a set of alpha values between 10^-10 and 10^-1, how does the mean squared error change?\n",
    "- Based on the data, we know when to properly use l1 vs l2 regularization. By using a grid search with l1_ratios between 0 and 1 (increasing every 0.05), does that statement hold true? If not, did gradient descent have enough iterations?\n",
    "- How do these results change when you alter the learning rate (eta0)?\n",
    "\n",
    "**Bonus**: Can you see the advantages and disadvantages of using gradient descent after finishing this exercise?"
   ]
  },
  {
   "cell_type": "markdown",
   "metadata": {},
   "source": [
    "### Starter Code"
   ]
  },
  {
   "cell_type": "code",
   "execution_count": 15,
   "metadata": {},
   "outputs": [
    {
     "ename": "NameError",
     "evalue": "name 'grid_search' is not defined",
     "output_type": "error",
     "traceback": [
      "\u001b[0;31m---------------------------------------------------------------------------\u001b[0m",
      "\u001b[0;31mNameError\u001b[0m                                 Traceback (most recent call last)",
      "\u001b[0;32m<ipython-input-15-b94fefff6224>\u001b[0m in \u001b[0;36m<module>\u001b[0;34m()\u001b[0m\n\u001b[1;32m      1\u001b[0m \u001b[0mparams\u001b[0m \u001b[0;34m=\u001b[0m \u001b[0;34m{\u001b[0m\u001b[0;34m}\u001b[0m \u001b[0;31m# put your gradient descent parameters here\u001b[0m\u001b[0;34m\u001b[0m\u001b[0m\n\u001b[0;32m----> 2\u001b[0;31m gs = grid_search.GridSearchCV(\n\u001b[0m\u001b[1;32m      3\u001b[0m     \u001b[0mestimator\u001b[0m\u001b[0;34m=\u001b[0m\u001b[0mlinear_model\u001b[0m\u001b[0;34m.\u001b[0m\u001b[0mSGDRegressor\u001b[0m\u001b[0;34m(\u001b[0m\u001b[0;34m)\u001b[0m\u001b[0;34m,\u001b[0m\u001b[0;34m\u001b[0m\u001b[0m\n\u001b[1;32m      4\u001b[0m     \u001b[0mcv\u001b[0m\u001b[0;34m=\u001b[0m\u001b[0mcross_validation\u001b[0m\u001b[0;34m.\u001b[0m\u001b[0mKFold\u001b[0m\u001b[0;34m(\u001b[0m\u001b[0mlen\u001b[0m\u001b[0;34m(\u001b[0m\u001b[0mmodeldata\u001b[0m\u001b[0;34m)\u001b[0m\u001b[0;34m,\u001b[0m \u001b[0mn_folds\u001b[0m\u001b[0;34m=\u001b[0m\u001b[0;36m5\u001b[0m\u001b[0;34m,\u001b[0m \u001b[0mshuffle\u001b[0m\u001b[0;34m=\u001b[0m\u001b[0;32mTrue\u001b[0m\u001b[0;34m)\u001b[0m\u001b[0;34m,\u001b[0m\u001b[0;34m\u001b[0m\u001b[0m\n\u001b[1;32m      5\u001b[0m     \u001b[0mparam_grid\u001b[0m\u001b[0;34m=\u001b[0m\u001b[0mparams\u001b[0m\u001b[0;34m,\u001b[0m\u001b[0;34m\u001b[0m\u001b[0m\n",
      "\u001b[0;31mNameError\u001b[0m: name 'grid_search' is not defined"
     ]
    }
   ],
   "source": [
    "params = {} # put your gradient descent parameters here\n",
    "gs = grid_search.GridSearchCV(\n",
    "    estimator=linear_model.SGDRegressor(),\n",
    "    cv=cross_validation.KFold(len(modeldata), n_folds=5, shuffle=True),\n",
    "    param_grid=params,\n",
    "    scoring='mean_squared_error',\n",
    "    )\n",
    "\n",
    "gs.fit(modeldata, y)\n",
    "\n",
    "print('BEST ESTIMATOR')\n",
    "print(-gs.best_score_)\n",
    "print(gs.best_estimator_)\n",
    "print('ALL ESTIMATORS')\n",
    "print(gs.grid_scores_)"
   ]
  },
  {
   "cell_type": "code",
   "execution_count": null,
   "metadata": {
    "collapsed": true
   },
   "outputs": [],
   "source": [
    "## go for it!"
   ]
  },
  {
   "cell_type": "code",
   "execution_count": null,
   "metadata": {
    "collapsed": true
   },
   "outputs": [],
   "source": []
  }
 ],
 "metadata": {
  "kernelspec": {
   "display_name": "Python 2",
   "language": "python",
   "name": "python2"
  },
  "language_info": {
   "codemirror_mode": {
    "name": "ipython",
    "version": 2
   },
   "file_extension": ".py",
   "mimetype": "text/x-python",
   "name": "python",
   "nbconvert_exporter": "python",
   "pygments_lexer": "ipython2",
   "version": "2.7.14"
  }
 },
 "nbformat": 4,
 "nbformat_minor": 1
}
